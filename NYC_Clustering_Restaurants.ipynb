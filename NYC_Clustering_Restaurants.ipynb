{
 "cells": [
  {
   "cell_type": "code",
   "execution_count": 126,
   "id": "4f3c9d97-7b57-46aa-a823-610763292bfa",
   "metadata": {},
   "outputs": [],
   "source": [
    "import pandas as pd\n",
    "from sklearn.cluster import KMeans\n",
    "import numpy as np\n",
    "import seaborn as sns\n",
    "import plotly.express as px\n",
    "import matplotlib.pyplot as plt\n",
    "import numpy as np\n",
    "from sklearn.cluster import AgglomerativeClustering\n"
   ]
  },
  {
   "cell_type": "code",
   "execution_count": 127,
   "id": "30daba25-b241-477f-b494-1bdf528441df",
   "metadata": {},
   "outputs": [],
   "source": [
    "#Download data\n",
    "working_dataframe=pd.read_csv('final_dataframe.csv')"
   ]
  },
  {
   "cell_type": "code",
   "execution_count": 128,
   "id": "87754e99-d08a-4375-af7e-ff3c8f0db190",
   "metadata": {},
   "outputs": [
    {
     "data": {
      "text/html": [
       "<div>\n",
       "<style scoped>\n",
       "    .dataframe tbody tr th:only-of-type {\n",
       "        vertical-align: middle;\n",
       "    }\n",
       "\n",
       "    .dataframe tbody tr th {\n",
       "        vertical-align: top;\n",
       "    }\n",
       "\n",
       "    .dataframe thead th {\n",
       "        text-align: right;\n",
       "    }\n",
       "</style>\n",
       "<table border=\"1\" class=\"dataframe\">\n",
       "  <thead>\n",
       "    <tr style=\"text-align: right;\">\n",
       "      <th></th>\n",
       "      <th>Borough</th>\n",
       "      <th>Neighborhood</th>\n",
       "      <th>Latitude</th>\n",
       "      <th>Longitude</th>\n",
       "      <th>Number_of_Restaurants</th>\n",
       "      <th>Top_Restaurant_Category</th>\n",
       "      <th>Number_of_HC_Facilities</th>\n",
       "      <th>Number_of_Banks</th>\n",
       "      <th>Number_of_Schools</th>\n",
       "      <th>Number_of_Bus_Stops</th>\n",
       "      <th>Number_of_Venues</th>\n",
       "      <th>Number_of_Events</th>\n",
       "      <th>Daily_uber_rides</th>\n",
       "    </tr>\n",
       "  </thead>\n",
       "  <tbody>\n",
       "    <tr>\n",
       "      <th>0</th>\n",
       "      <td>Bronx</td>\n",
       "      <td>Wakefield</td>\n",
       "      <td>40.894705</td>\n",
       "      <td>-73.847201</td>\n",
       "      <td>5</td>\n",
       "      <td>Sandwich Restaurant</td>\n",
       "      <td>7</td>\n",
       "      <td>2</td>\n",
       "      <td>9</td>\n",
       "      <td>0</td>\n",
       "      <td>69</td>\n",
       "      <td>0</td>\n",
       "      <td>0</td>\n",
       "    </tr>\n",
       "    <tr>\n",
       "      <th>1</th>\n",
       "      <td>Bronx</td>\n",
       "      <td>Co-op City</td>\n",
       "      <td>40.874294</td>\n",
       "      <td>-73.829939</td>\n",
       "      <td>4</td>\n",
       "      <td>Restaurant</td>\n",
       "      <td>4</td>\n",
       "      <td>0</td>\n",
       "      <td>3</td>\n",
       "      <td>2</td>\n",
       "      <td>35</td>\n",
       "      <td>0</td>\n",
       "      <td>0</td>\n",
       "    </tr>\n",
       "    <tr>\n",
       "      <th>2</th>\n",
       "      <td>Bronx</td>\n",
       "      <td>Eastchester</td>\n",
       "      <td>40.887556</td>\n",
       "      <td>-73.827806</td>\n",
       "      <td>10</td>\n",
       "      <td>Seafood Restaurant</td>\n",
       "      <td>1</td>\n",
       "      <td>1</td>\n",
       "      <td>3</td>\n",
       "      <td>4</td>\n",
       "      <td>42</td>\n",
       "      <td>0</td>\n",
       "      <td>0</td>\n",
       "    </tr>\n",
       "    <tr>\n",
       "      <th>3</th>\n",
       "      <td>Bronx</td>\n",
       "      <td>Fieldston</td>\n",
       "      <td>40.895437</td>\n",
       "      <td>-73.905643</td>\n",
       "      <td>3</td>\n",
       "      <td>Mexican Restaurant</td>\n",
       "      <td>4</td>\n",
       "      <td>0</td>\n",
       "      <td>4</td>\n",
       "      <td>1</td>\n",
       "      <td>32</td>\n",
       "      <td>0</td>\n",
       "      <td>0</td>\n",
       "    </tr>\n",
       "    <tr>\n",
       "      <th>4</th>\n",
       "      <td>Bronx</td>\n",
       "      <td>Riverdale</td>\n",
       "      <td>40.890834</td>\n",
       "      <td>-73.912585</td>\n",
       "      <td>10</td>\n",
       "      <td>Seafood Restaurant</td>\n",
       "      <td>1</td>\n",
       "      <td>2</td>\n",
       "      <td>1</td>\n",
       "      <td>1</td>\n",
       "      <td>51</td>\n",
       "      <td>0</td>\n",
       "      <td>22</td>\n",
       "    </tr>\n",
       "  </tbody>\n",
       "</table>\n",
       "</div>"
      ],
      "text/plain": [
       "  Borough Neighborhood   Latitude  Longitude  Number_of_Restaurants  \\\n",
       "0   Bronx    Wakefield  40.894705 -73.847201                      5   \n",
       "1   Bronx   Co-op City  40.874294 -73.829939                      4   \n",
       "2   Bronx  Eastchester  40.887556 -73.827806                     10   \n",
       "3   Bronx    Fieldston  40.895437 -73.905643                      3   \n",
       "4   Bronx    Riverdale  40.890834 -73.912585                     10   \n",
       "\n",
       "  Top_Restaurant_Category  Number_of_HC_Facilities  Number_of_Banks  \\\n",
       "0     Sandwich Restaurant                        7                2   \n",
       "1              Restaurant                        4                0   \n",
       "2      Seafood Restaurant                        1                1   \n",
       "3      Mexican Restaurant                        4                0   \n",
       "4      Seafood Restaurant                        1                2   \n",
       "\n",
       "   Number_of_Schools  Number_of_Bus_Stops  Number_of_Venues  Number_of_Events  \\\n",
       "0                  9                    0                69                 0   \n",
       "1                  3                    2                35                 0   \n",
       "2                  3                    4                42                 0   \n",
       "3                  4                    1                32                 0   \n",
       "4                  1                    1                51                 0   \n",
       "\n",
       "   Daily_uber_rides  \n",
       "0                 0  \n",
       "1                 0  \n",
       "2                 0  \n",
       "3                 0  \n",
       "4                22  "
      ]
     },
     "execution_count": 128,
     "metadata": {},
     "output_type": "execute_result"
    }
   ],
   "source": [
    "working_dataframe.head()"
   ]
  },
  {
   "cell_type": "code",
   "execution_count": 129,
   "id": "05477a7a-2a1b-4181-8c3b-cf6d528a45b1",
   "metadata": {},
   "outputs": [],
   "source": [
    "#Chhose features\n",
    "model_data=working_dataframe.loc[:,['Number_of_Restaurants', 'Top_Restaurant_Category']]"
   ]
  },
  {
   "cell_type": "code",
   "execution_count": 130,
   "id": "4a29b37d-0584-47b6-9036-fc001a0ce4f3",
   "metadata": {},
   "outputs": [
    {
     "data": {
      "text/html": [
       "<div>\n",
       "<style scoped>\n",
       "    .dataframe tbody tr th:only-of-type {\n",
       "        vertical-align: middle;\n",
       "    }\n",
       "\n",
       "    .dataframe tbody tr th {\n",
       "        vertical-align: top;\n",
       "    }\n",
       "\n",
       "    .dataframe thead th {\n",
       "        text-align: right;\n",
       "    }\n",
       "</style>\n",
       "<table border=\"1\" class=\"dataframe\">\n",
       "  <thead>\n",
       "    <tr style=\"text-align: right;\">\n",
       "      <th></th>\n",
       "      <th>Number_of_Restaurants</th>\n",
       "      <th>Top_Restaurant_Category</th>\n",
       "    </tr>\n",
       "  </thead>\n",
       "  <tbody>\n",
       "    <tr>\n",
       "      <th>0</th>\n",
       "      <td>5</td>\n",
       "      <td>Sandwich Restaurant</td>\n",
       "    </tr>\n",
       "    <tr>\n",
       "      <th>1</th>\n",
       "      <td>4</td>\n",
       "      <td>Restaurant</td>\n",
       "    </tr>\n",
       "    <tr>\n",
       "      <th>2</th>\n",
       "      <td>10</td>\n",
       "      <td>Seafood Restaurant</td>\n",
       "    </tr>\n",
       "    <tr>\n",
       "      <th>3</th>\n",
       "      <td>3</td>\n",
       "      <td>Mexican Restaurant</td>\n",
       "    </tr>\n",
       "    <tr>\n",
       "      <th>4</th>\n",
       "      <td>10</td>\n",
       "      <td>Seafood Restaurant</td>\n",
       "    </tr>\n",
       "    <tr>\n",
       "      <th>...</th>\n",
       "      <td>...</td>\n",
       "      <td>...</td>\n",
       "    </tr>\n",
       "    <tr>\n",
       "      <th>301</th>\n",
       "      <td>61</td>\n",
       "      <td>Thai Restaurant</td>\n",
       "    </tr>\n",
       "    <tr>\n",
       "      <th>302</th>\n",
       "      <td>33</td>\n",
       "      <td>Seafood Restaurant</td>\n",
       "    </tr>\n",
       "    <tr>\n",
       "      <th>303</th>\n",
       "      <td>0</td>\n",
       "      <td>Vietnamese Restaurant</td>\n",
       "    </tr>\n",
       "    <tr>\n",
       "      <th>304</th>\n",
       "      <td>31</td>\n",
       "      <td>Spanish Restaurant</td>\n",
       "    </tr>\n",
       "    <tr>\n",
       "      <th>305</th>\n",
       "      <td>2</td>\n",
       "      <td>Sandwich Restaurant</td>\n",
       "    </tr>\n",
       "  </tbody>\n",
       "</table>\n",
       "<p>306 rows × 2 columns</p>\n",
       "</div>"
      ],
      "text/plain": [
       "     Number_of_Restaurants Top_Restaurant_Category\n",
       "0                        5     Sandwich Restaurant\n",
       "1                        4              Restaurant\n",
       "2                       10      Seafood Restaurant\n",
       "3                        3      Mexican Restaurant\n",
       "4                       10      Seafood Restaurant\n",
       "..                     ...                     ...\n",
       "301                     61         Thai Restaurant\n",
       "302                     33      Seafood Restaurant\n",
       "303                      0   Vietnamese Restaurant\n",
       "304                     31      Spanish Restaurant\n",
       "305                      2     Sandwich Restaurant\n",
       "\n",
       "[306 rows x 2 columns]"
      ]
     },
     "execution_count": 130,
     "metadata": {},
     "output_type": "execute_result"
    }
   ],
   "source": [
    "model_data"
   ]
  },
  {
   "cell_type": "code",
   "execution_count": 131,
   "id": "98de8871-3adb-4274-8301-6cadf7a8d973",
   "metadata": {},
   "outputs": [
    {
     "name": "stderr",
     "output_type": "stream",
     "text": [
      "C:\\Users\\kravc\\anaconda3\\envs\\lhl_bootcamp\\lib\\site-packages\\category_encoders\\utils.py:21: FutureWarning:\n",
      "\n",
      "is_categorical is deprecated and will be removed in a future version.  Use is_categorical_dtype instead\n",
      "\n"
     ]
    },
    {
     "data": {
      "text/html": [
       "<div>\n",
       "<style scoped>\n",
       "    .dataframe tbody tr th:only-of-type {\n",
       "        vertical-align: middle;\n",
       "    }\n",
       "\n",
       "    .dataframe tbody tr th {\n",
       "        vertical-align: top;\n",
       "    }\n",
       "\n",
       "    .dataframe thead th {\n",
       "        text-align: right;\n",
       "    }\n",
       "</style>\n",
       "<table border=\"1\" class=\"dataframe\">\n",
       "  <thead>\n",
       "    <tr style=\"text-align: right;\">\n",
       "      <th></th>\n",
       "      <th>Number_of_Restaurants</th>\n",
       "      <th>Top_Restaurant_Category_Sandwich Restaurant</th>\n",
       "      <th>Top_Restaurant_Category_Restaurant</th>\n",
       "      <th>Top_Restaurant_Category_Seafood Restaurant</th>\n",
       "      <th>Top_Restaurant_Category_Mexican Restaurant</th>\n",
       "      <th>Top_Restaurant_Category_Vegetarian / Vegan Restaurant</th>\n",
       "      <th>Top_Restaurant_Category_Steakhouse Restaurant</th>\n",
       "      <th>Top_Restaurant_Category_Pizza Restaurant</th>\n",
       "      <th>Top_Restaurant_Category_Spanish Restaurant</th>\n",
       "      <th>Top_Restaurant_Category_Latin American Restaurant</th>\n",
       "      <th>...</th>\n",
       "      <th>Top_Restaurant_Category_Tapas Restaurant</th>\n",
       "      <th>Top_Restaurant_Category_Szechuan Restaurant</th>\n",
       "      <th>Top_Restaurant_Category_Taiwanese Restaurant</th>\n",
       "      <th>Top_Restaurant_Category_Italian Restaurant</th>\n",
       "      <th>Top_Restaurant_Category_Sri Lankan Restaurant</th>\n",
       "      <th>Top_Restaurant_Category_Burger Restaurant</th>\n",
       "      <th>Top_Restaurant_Category_Coffee Restaurant</th>\n",
       "      <th>Top_Restaurant_Category_Japanese Restaurant</th>\n",
       "      <th>Top_Restaurant_Category_Peruvian Restaurant</th>\n",
       "      <th>Top_Restaurant_Category_Asian Restaurant</th>\n",
       "    </tr>\n",
       "  </thead>\n",
       "  <tbody>\n",
       "    <tr>\n",
       "      <th>0</th>\n",
       "      <td>5</td>\n",
       "      <td>1.0</td>\n",
       "      <td>0.0</td>\n",
       "      <td>0.0</td>\n",
       "      <td>0.0</td>\n",
       "      <td>0.0</td>\n",
       "      <td>0.0</td>\n",
       "      <td>0.0</td>\n",
       "      <td>0.0</td>\n",
       "      <td>0.0</td>\n",
       "      <td>...</td>\n",
       "      <td>0.0</td>\n",
       "      <td>0.0</td>\n",
       "      <td>0.0</td>\n",
       "      <td>0.0</td>\n",
       "      <td>0.0</td>\n",
       "      <td>0.0</td>\n",
       "      <td>0.0</td>\n",
       "      <td>0.0</td>\n",
       "      <td>0.0</td>\n",
       "      <td>0.0</td>\n",
       "    </tr>\n",
       "    <tr>\n",
       "      <th>1</th>\n",
       "      <td>4</td>\n",
       "      <td>0.0</td>\n",
       "      <td>1.0</td>\n",
       "      <td>0.0</td>\n",
       "      <td>0.0</td>\n",
       "      <td>0.0</td>\n",
       "      <td>0.0</td>\n",
       "      <td>0.0</td>\n",
       "      <td>0.0</td>\n",
       "      <td>0.0</td>\n",
       "      <td>...</td>\n",
       "      <td>0.0</td>\n",
       "      <td>0.0</td>\n",
       "      <td>0.0</td>\n",
       "      <td>0.0</td>\n",
       "      <td>0.0</td>\n",
       "      <td>0.0</td>\n",
       "      <td>0.0</td>\n",
       "      <td>0.0</td>\n",
       "      <td>0.0</td>\n",
       "      <td>0.0</td>\n",
       "    </tr>\n",
       "    <tr>\n",
       "      <th>2</th>\n",
       "      <td>10</td>\n",
       "      <td>0.0</td>\n",
       "      <td>0.0</td>\n",
       "      <td>1.0</td>\n",
       "      <td>0.0</td>\n",
       "      <td>0.0</td>\n",
       "      <td>0.0</td>\n",
       "      <td>0.0</td>\n",
       "      <td>0.0</td>\n",
       "      <td>0.0</td>\n",
       "      <td>...</td>\n",
       "      <td>0.0</td>\n",
       "      <td>0.0</td>\n",
       "      <td>0.0</td>\n",
       "      <td>0.0</td>\n",
       "      <td>0.0</td>\n",
       "      <td>0.0</td>\n",
       "      <td>0.0</td>\n",
       "      <td>0.0</td>\n",
       "      <td>0.0</td>\n",
       "      <td>0.0</td>\n",
       "    </tr>\n",
       "    <tr>\n",
       "      <th>3</th>\n",
       "      <td>3</td>\n",
       "      <td>0.0</td>\n",
       "      <td>0.0</td>\n",
       "      <td>0.0</td>\n",
       "      <td>1.0</td>\n",
       "      <td>0.0</td>\n",
       "      <td>0.0</td>\n",
       "      <td>0.0</td>\n",
       "      <td>0.0</td>\n",
       "      <td>0.0</td>\n",
       "      <td>...</td>\n",
       "      <td>0.0</td>\n",
       "      <td>0.0</td>\n",
       "      <td>0.0</td>\n",
       "      <td>0.0</td>\n",
       "      <td>0.0</td>\n",
       "      <td>0.0</td>\n",
       "      <td>0.0</td>\n",
       "      <td>0.0</td>\n",
       "      <td>0.0</td>\n",
       "      <td>0.0</td>\n",
       "    </tr>\n",
       "    <tr>\n",
       "      <th>4</th>\n",
       "      <td>10</td>\n",
       "      <td>0.0</td>\n",
       "      <td>0.0</td>\n",
       "      <td>1.0</td>\n",
       "      <td>0.0</td>\n",
       "      <td>0.0</td>\n",
       "      <td>0.0</td>\n",
       "      <td>0.0</td>\n",
       "      <td>0.0</td>\n",
       "      <td>0.0</td>\n",
       "      <td>...</td>\n",
       "      <td>0.0</td>\n",
       "      <td>0.0</td>\n",
       "      <td>0.0</td>\n",
       "      <td>0.0</td>\n",
       "      <td>0.0</td>\n",
       "      <td>0.0</td>\n",
       "      <td>0.0</td>\n",
       "      <td>0.0</td>\n",
       "      <td>0.0</td>\n",
       "      <td>0.0</td>\n",
       "    </tr>\n",
       "    <tr>\n",
       "      <th>...</th>\n",
       "      <td>...</td>\n",
       "      <td>...</td>\n",
       "      <td>...</td>\n",
       "      <td>...</td>\n",
       "      <td>...</td>\n",
       "      <td>...</td>\n",
       "      <td>...</td>\n",
       "      <td>...</td>\n",
       "      <td>...</td>\n",
       "      <td>...</td>\n",
       "      <td>...</td>\n",
       "      <td>...</td>\n",
       "      <td>...</td>\n",
       "      <td>...</td>\n",
       "      <td>...</td>\n",
       "      <td>...</td>\n",
       "      <td>...</td>\n",
       "      <td>...</td>\n",
       "      <td>...</td>\n",
       "      <td>...</td>\n",
       "      <td>...</td>\n",
       "    </tr>\n",
       "    <tr>\n",
       "      <th>301</th>\n",
       "      <td>61</td>\n",
       "      <td>0.0</td>\n",
       "      <td>0.0</td>\n",
       "      <td>0.0</td>\n",
       "      <td>0.0</td>\n",
       "      <td>0.0</td>\n",
       "      <td>0.0</td>\n",
       "      <td>0.0</td>\n",
       "      <td>0.0</td>\n",
       "      <td>0.0</td>\n",
       "      <td>...</td>\n",
       "      <td>0.0</td>\n",
       "      <td>0.0</td>\n",
       "      <td>0.0</td>\n",
       "      <td>0.0</td>\n",
       "      <td>0.0</td>\n",
       "      <td>0.0</td>\n",
       "      <td>0.0</td>\n",
       "      <td>0.0</td>\n",
       "      <td>0.0</td>\n",
       "      <td>0.0</td>\n",
       "    </tr>\n",
       "    <tr>\n",
       "      <th>302</th>\n",
       "      <td>33</td>\n",
       "      <td>0.0</td>\n",
       "      <td>0.0</td>\n",
       "      <td>1.0</td>\n",
       "      <td>0.0</td>\n",
       "      <td>0.0</td>\n",
       "      <td>0.0</td>\n",
       "      <td>0.0</td>\n",
       "      <td>0.0</td>\n",
       "      <td>0.0</td>\n",
       "      <td>...</td>\n",
       "      <td>0.0</td>\n",
       "      <td>0.0</td>\n",
       "      <td>0.0</td>\n",
       "      <td>0.0</td>\n",
       "      <td>0.0</td>\n",
       "      <td>0.0</td>\n",
       "      <td>0.0</td>\n",
       "      <td>0.0</td>\n",
       "      <td>0.0</td>\n",
       "      <td>0.0</td>\n",
       "    </tr>\n",
       "    <tr>\n",
       "      <th>303</th>\n",
       "      <td>0</td>\n",
       "      <td>0.0</td>\n",
       "      <td>0.0</td>\n",
       "      <td>0.0</td>\n",
       "      <td>0.0</td>\n",
       "      <td>0.0</td>\n",
       "      <td>0.0</td>\n",
       "      <td>0.0</td>\n",
       "      <td>0.0</td>\n",
       "      <td>0.0</td>\n",
       "      <td>...</td>\n",
       "      <td>0.0</td>\n",
       "      <td>0.0</td>\n",
       "      <td>0.0</td>\n",
       "      <td>0.0</td>\n",
       "      <td>0.0</td>\n",
       "      <td>0.0</td>\n",
       "      <td>0.0</td>\n",
       "      <td>0.0</td>\n",
       "      <td>0.0</td>\n",
       "      <td>0.0</td>\n",
       "    </tr>\n",
       "    <tr>\n",
       "      <th>304</th>\n",
       "      <td>31</td>\n",
       "      <td>0.0</td>\n",
       "      <td>0.0</td>\n",
       "      <td>0.0</td>\n",
       "      <td>0.0</td>\n",
       "      <td>0.0</td>\n",
       "      <td>0.0</td>\n",
       "      <td>0.0</td>\n",
       "      <td>1.0</td>\n",
       "      <td>0.0</td>\n",
       "      <td>...</td>\n",
       "      <td>0.0</td>\n",
       "      <td>0.0</td>\n",
       "      <td>0.0</td>\n",
       "      <td>0.0</td>\n",
       "      <td>0.0</td>\n",
       "      <td>0.0</td>\n",
       "      <td>0.0</td>\n",
       "      <td>0.0</td>\n",
       "      <td>0.0</td>\n",
       "      <td>0.0</td>\n",
       "    </tr>\n",
       "    <tr>\n",
       "      <th>305</th>\n",
       "      <td>2</td>\n",
       "      <td>1.0</td>\n",
       "      <td>0.0</td>\n",
       "      <td>0.0</td>\n",
       "      <td>0.0</td>\n",
       "      <td>0.0</td>\n",
       "      <td>0.0</td>\n",
       "      <td>0.0</td>\n",
       "      <td>0.0</td>\n",
       "      <td>0.0</td>\n",
       "      <td>...</td>\n",
       "      <td>0.0</td>\n",
       "      <td>0.0</td>\n",
       "      <td>0.0</td>\n",
       "      <td>0.0</td>\n",
       "      <td>0.0</td>\n",
       "      <td>0.0</td>\n",
       "      <td>0.0</td>\n",
       "      <td>0.0</td>\n",
       "      <td>0.0</td>\n",
       "      <td>0.0</td>\n",
       "    </tr>\n",
       "  </tbody>\n",
       "</table>\n",
       "<p>306 rows × 31 columns</p>\n",
       "</div>"
      ],
      "text/plain": [
       "     Number_of_Restaurants  Top_Restaurant_Category_Sandwich Restaurant  \\\n",
       "0                        5                                          1.0   \n",
       "1                        4                                          0.0   \n",
       "2                       10                                          0.0   \n",
       "3                        3                                          0.0   \n",
       "4                       10                                          0.0   \n",
       "..                     ...                                          ...   \n",
       "301                     61                                          0.0   \n",
       "302                     33                                          0.0   \n",
       "303                      0                                          0.0   \n",
       "304                     31                                          0.0   \n",
       "305                      2                                          1.0   \n",
       "\n",
       "     Top_Restaurant_Category_Restaurant  \\\n",
       "0                                   0.0   \n",
       "1                                   1.0   \n",
       "2                                   0.0   \n",
       "3                                   0.0   \n",
       "4                                   0.0   \n",
       "..                                  ...   \n",
       "301                                 0.0   \n",
       "302                                 0.0   \n",
       "303                                 0.0   \n",
       "304                                 0.0   \n",
       "305                                 0.0   \n",
       "\n",
       "     Top_Restaurant_Category_Seafood Restaurant  \\\n",
       "0                                           0.0   \n",
       "1                                           0.0   \n",
       "2                                           1.0   \n",
       "3                                           0.0   \n",
       "4                                           1.0   \n",
       "..                                          ...   \n",
       "301                                         0.0   \n",
       "302                                         1.0   \n",
       "303                                         0.0   \n",
       "304                                         0.0   \n",
       "305                                         0.0   \n",
       "\n",
       "     Top_Restaurant_Category_Mexican Restaurant  \\\n",
       "0                                           0.0   \n",
       "1                                           0.0   \n",
       "2                                           0.0   \n",
       "3                                           1.0   \n",
       "4                                           0.0   \n",
       "..                                          ...   \n",
       "301                                         0.0   \n",
       "302                                         0.0   \n",
       "303                                         0.0   \n",
       "304                                         0.0   \n",
       "305                                         0.0   \n",
       "\n",
       "     Top_Restaurant_Category_Vegetarian / Vegan Restaurant  \\\n",
       "0                                                  0.0       \n",
       "1                                                  0.0       \n",
       "2                                                  0.0       \n",
       "3                                                  0.0       \n",
       "4                                                  0.0       \n",
       "..                                                 ...       \n",
       "301                                                0.0       \n",
       "302                                                0.0       \n",
       "303                                                0.0       \n",
       "304                                                0.0       \n",
       "305                                                0.0       \n",
       "\n",
       "     Top_Restaurant_Category_Steakhouse Restaurant  \\\n",
       "0                                              0.0   \n",
       "1                                              0.0   \n",
       "2                                              0.0   \n",
       "3                                              0.0   \n",
       "4                                              0.0   \n",
       "..                                             ...   \n",
       "301                                            0.0   \n",
       "302                                            0.0   \n",
       "303                                            0.0   \n",
       "304                                            0.0   \n",
       "305                                            0.0   \n",
       "\n",
       "     Top_Restaurant_Category_Pizza Restaurant  \\\n",
       "0                                         0.0   \n",
       "1                                         0.0   \n",
       "2                                         0.0   \n",
       "3                                         0.0   \n",
       "4                                         0.0   \n",
       "..                                        ...   \n",
       "301                                       0.0   \n",
       "302                                       0.0   \n",
       "303                                       0.0   \n",
       "304                                       0.0   \n",
       "305                                       0.0   \n",
       "\n",
       "     Top_Restaurant_Category_Spanish Restaurant  \\\n",
       "0                                           0.0   \n",
       "1                                           0.0   \n",
       "2                                           0.0   \n",
       "3                                           0.0   \n",
       "4                                           0.0   \n",
       "..                                          ...   \n",
       "301                                         0.0   \n",
       "302                                         0.0   \n",
       "303                                         0.0   \n",
       "304                                         1.0   \n",
       "305                                         0.0   \n",
       "\n",
       "     Top_Restaurant_Category_Latin American Restaurant  ...  \\\n",
       "0                                                  0.0  ...   \n",
       "1                                                  0.0  ...   \n",
       "2                                                  0.0  ...   \n",
       "3                                                  0.0  ...   \n",
       "4                                                  0.0  ...   \n",
       "..                                                 ...  ...   \n",
       "301                                                0.0  ...   \n",
       "302                                                0.0  ...   \n",
       "303                                                0.0  ...   \n",
       "304                                                0.0  ...   \n",
       "305                                                0.0  ...   \n",
       "\n",
       "     Top_Restaurant_Category_Tapas Restaurant  \\\n",
       "0                                         0.0   \n",
       "1                                         0.0   \n",
       "2                                         0.0   \n",
       "3                                         0.0   \n",
       "4                                         0.0   \n",
       "..                                        ...   \n",
       "301                                       0.0   \n",
       "302                                       0.0   \n",
       "303                                       0.0   \n",
       "304                                       0.0   \n",
       "305                                       0.0   \n",
       "\n",
       "     Top_Restaurant_Category_Szechuan Restaurant  \\\n",
       "0                                            0.0   \n",
       "1                                            0.0   \n",
       "2                                            0.0   \n",
       "3                                            0.0   \n",
       "4                                            0.0   \n",
       "..                                           ...   \n",
       "301                                          0.0   \n",
       "302                                          0.0   \n",
       "303                                          0.0   \n",
       "304                                          0.0   \n",
       "305                                          0.0   \n",
       "\n",
       "     Top_Restaurant_Category_Taiwanese Restaurant  \\\n",
       "0                                             0.0   \n",
       "1                                             0.0   \n",
       "2                                             0.0   \n",
       "3                                             0.0   \n",
       "4                                             0.0   \n",
       "..                                            ...   \n",
       "301                                           0.0   \n",
       "302                                           0.0   \n",
       "303                                           0.0   \n",
       "304                                           0.0   \n",
       "305                                           0.0   \n",
       "\n",
       "     Top_Restaurant_Category_Italian Restaurant  \\\n",
       "0                                           0.0   \n",
       "1                                           0.0   \n",
       "2                                           0.0   \n",
       "3                                           0.0   \n",
       "4                                           0.0   \n",
       "..                                          ...   \n",
       "301                                         0.0   \n",
       "302                                         0.0   \n",
       "303                                         0.0   \n",
       "304                                         0.0   \n",
       "305                                         0.0   \n",
       "\n",
       "     Top_Restaurant_Category_Sri Lankan Restaurant  \\\n",
       "0                                              0.0   \n",
       "1                                              0.0   \n",
       "2                                              0.0   \n",
       "3                                              0.0   \n",
       "4                                              0.0   \n",
       "..                                             ...   \n",
       "301                                            0.0   \n",
       "302                                            0.0   \n",
       "303                                            0.0   \n",
       "304                                            0.0   \n",
       "305                                            0.0   \n",
       "\n",
       "     Top_Restaurant_Category_Burger Restaurant  \\\n",
       "0                                          0.0   \n",
       "1                                          0.0   \n",
       "2                                          0.0   \n",
       "3                                          0.0   \n",
       "4                                          0.0   \n",
       "..                                         ...   \n",
       "301                                        0.0   \n",
       "302                                        0.0   \n",
       "303                                        0.0   \n",
       "304                                        0.0   \n",
       "305                                        0.0   \n",
       "\n",
       "     Top_Restaurant_Category_Coffee Restaurant  \\\n",
       "0                                          0.0   \n",
       "1                                          0.0   \n",
       "2                                          0.0   \n",
       "3                                          0.0   \n",
       "4                                          0.0   \n",
       "..                                         ...   \n",
       "301                                        0.0   \n",
       "302                                        0.0   \n",
       "303                                        0.0   \n",
       "304                                        0.0   \n",
       "305                                        0.0   \n",
       "\n",
       "     Top_Restaurant_Category_Japanese Restaurant  \\\n",
       "0                                            0.0   \n",
       "1                                            0.0   \n",
       "2                                            0.0   \n",
       "3                                            0.0   \n",
       "4                                            0.0   \n",
       "..                                           ...   \n",
       "301                                          0.0   \n",
       "302                                          0.0   \n",
       "303                                          0.0   \n",
       "304                                          0.0   \n",
       "305                                          0.0   \n",
       "\n",
       "     Top_Restaurant_Category_Peruvian Restaurant  \\\n",
       "0                                            0.0   \n",
       "1                                            0.0   \n",
       "2                                            0.0   \n",
       "3                                            0.0   \n",
       "4                                            0.0   \n",
       "..                                           ...   \n",
       "301                                          0.0   \n",
       "302                                          0.0   \n",
       "303                                          0.0   \n",
       "304                                          0.0   \n",
       "305                                          0.0   \n",
       "\n",
       "     Top_Restaurant_Category_Asian Restaurant  \n",
       "0                                         0.0  \n",
       "1                                         0.0  \n",
       "2                                         0.0  \n",
       "3                                         0.0  \n",
       "4                                         0.0  \n",
       "..                                        ...  \n",
       "301                                       0.0  \n",
       "302                                       0.0  \n",
       "303                                       0.0  \n",
       "304                                       0.0  \n",
       "305                                       0.0  \n",
       "\n",
       "[306 rows x 31 columns]"
      ]
     },
     "execution_count": 131,
     "metadata": {},
     "output_type": "execute_result"
    }
   ],
   "source": [
    "#Encode categorical feature\n",
    "import statsmodels.api as sm\n",
    "import category_encoders as ce\n",
    "\n",
    "encoder=ce.OneHotEncoder(cols=['Top_Restaurant_Category'],handle_unknown='return_nan',return_df=True,use_cat_names=True)\n",
    "\n",
    "model_data_encoded = encoder.fit_transform(model_data)\n",
    "model_data_encoded"
   ]
  },
  {
   "cell_type": "code",
   "execution_count": 132,
   "id": "3e17c8a6-deae-4088-aaa3-12c485ace344",
   "metadata": {},
   "outputs": [],
   "source": [
    "#Extract numerical feature\n",
    "num_features = model_data_encoded.loc[:,['Number_of_Restaurants']]"
   ]
  },
  {
   "cell_type": "code",
   "execution_count": 133,
   "id": "a40992b9-e0d1-466f-93f6-3b5b197381b3",
   "metadata": {},
   "outputs": [
    {
     "data": {
      "text/plain": [
       "['Number_of_Restaurants']"
      ]
     },
     "execution_count": 133,
     "metadata": {},
     "output_type": "execute_result"
    }
   ],
   "source": [
    "num_features.columns.tolist()"
   ]
  },
  {
   "cell_type": "code",
   "execution_count": 134,
   "id": "52b2997d-6ba6-4f95-909e-64e3d0e38fec",
   "metadata": {},
   "outputs": [],
   "source": [
    "#Scale numerical feature\n",
    "from sklearn import preprocessing\n",
    "from sklearn.preprocessing import StandardScaler\n",
    "\n",
    "scaler=StandardScaler()\n",
    "num_features_scaled=scaler.fit_transform(num_features)"
   ]
  },
  {
   "cell_type": "code",
   "execution_count": 135,
   "id": "5898852a-b49e-4e15-914f-5e3e742c41d1",
   "metadata": {},
   "outputs": [],
   "source": [
    "selected_columns = num_features.columns"
   ]
  },
  {
   "cell_type": "code",
   "execution_count": 136,
   "id": "d8f084ea-c24c-46c5-bf1e-78fbfac8ec4e",
   "metadata": {},
   "outputs": [],
   "source": [
    "df_num_features_scaled = pd.DataFrame(num_features_scaled, columns = selected_columns)"
   ]
  },
  {
   "cell_type": "code",
   "execution_count": 137,
   "id": "979784b0-9dbf-4c5c-9a2d-81f0255c980f",
   "metadata": {},
   "outputs": [
    {
     "data": {
      "text/html": [
       "<div>\n",
       "<style scoped>\n",
       "    .dataframe tbody tr th:only-of-type {\n",
       "        vertical-align: middle;\n",
       "    }\n",
       "\n",
       "    .dataframe tbody tr th {\n",
       "        vertical-align: top;\n",
       "    }\n",
       "\n",
       "    .dataframe thead th {\n",
       "        text-align: right;\n",
       "    }\n",
       "</style>\n",
       "<table border=\"1\" class=\"dataframe\">\n",
       "  <thead>\n",
       "    <tr style=\"text-align: right;\">\n",
       "      <th></th>\n",
       "      <th>Number_of_Restaurants</th>\n",
       "    </tr>\n",
       "  </thead>\n",
       "  <tbody>\n",
       "    <tr>\n",
       "      <th>0</th>\n",
       "      <td>-1.026110</td>\n",
       "    </tr>\n",
       "    <tr>\n",
       "      <th>1</th>\n",
       "      <td>-1.066641</td>\n",
       "    </tr>\n",
       "    <tr>\n",
       "      <th>2</th>\n",
       "      <td>-0.823458</td>\n",
       "    </tr>\n",
       "    <tr>\n",
       "      <th>3</th>\n",
       "      <td>-1.107171</td>\n",
       "    </tr>\n",
       "    <tr>\n",
       "      <th>4</th>\n",
       "      <td>-0.823458</td>\n",
       "    </tr>\n",
       "    <tr>\n",
       "      <th>...</th>\n",
       "      <td>...</td>\n",
       "    </tr>\n",
       "    <tr>\n",
       "      <th>301</th>\n",
       "      <td>1.243598</td>\n",
       "    </tr>\n",
       "    <tr>\n",
       "      <th>302</th>\n",
       "      <td>0.108744</td>\n",
       "    </tr>\n",
       "    <tr>\n",
       "      <th>303</th>\n",
       "      <td>-1.228763</td>\n",
       "    </tr>\n",
       "    <tr>\n",
       "      <th>304</th>\n",
       "      <td>0.027683</td>\n",
       "    </tr>\n",
       "    <tr>\n",
       "      <th>305</th>\n",
       "      <td>-1.147702</td>\n",
       "    </tr>\n",
       "  </tbody>\n",
       "</table>\n",
       "<p>306 rows × 1 columns</p>\n",
       "</div>"
      ],
      "text/plain": [
       "     Number_of_Restaurants\n",
       "0                -1.026110\n",
       "1                -1.066641\n",
       "2                -0.823458\n",
       "3                -1.107171\n",
       "4                -0.823458\n",
       "..                     ...\n",
       "301               1.243598\n",
       "302               0.108744\n",
       "303              -1.228763\n",
       "304               0.027683\n",
       "305              -1.147702\n",
       "\n",
       "[306 rows x 1 columns]"
      ]
     },
     "execution_count": 137,
     "metadata": {},
     "output_type": "execute_result"
    }
   ],
   "source": [
    "df_num_features_scaled"
   ]
  },
  {
   "cell_type": "code",
   "execution_count": 138,
   "id": "8aa3bcce-84a5-4804-abd7-52d97ad34f46",
   "metadata": {},
   "outputs": [],
   "source": [
    "model_data_encoded['Number_of_Restaurants']=df_num_features_scaled['Number_of_Restaurants']"
   ]
  },
  {
   "cell_type": "code",
   "execution_count": 139,
   "id": "0362fa55-9f61-4ac0-9987-18571b94ca1f",
   "metadata": {},
   "outputs": [
    {
     "data": {
      "text/html": [
       "<div>\n",
       "<style scoped>\n",
       "    .dataframe tbody tr th:only-of-type {\n",
       "        vertical-align: middle;\n",
       "    }\n",
       "\n",
       "    .dataframe tbody tr th {\n",
       "        vertical-align: top;\n",
       "    }\n",
       "\n",
       "    .dataframe thead th {\n",
       "        text-align: right;\n",
       "    }\n",
       "</style>\n",
       "<table border=\"1\" class=\"dataframe\">\n",
       "  <thead>\n",
       "    <tr style=\"text-align: right;\">\n",
       "      <th></th>\n",
       "      <th>Number_of_Restaurants</th>\n",
       "      <th>Top_Restaurant_Category_Sandwich Restaurant</th>\n",
       "      <th>Top_Restaurant_Category_Restaurant</th>\n",
       "      <th>Top_Restaurant_Category_Seafood Restaurant</th>\n",
       "      <th>Top_Restaurant_Category_Mexican Restaurant</th>\n",
       "      <th>Top_Restaurant_Category_Vegetarian / Vegan Restaurant</th>\n",
       "      <th>Top_Restaurant_Category_Steakhouse Restaurant</th>\n",
       "      <th>Top_Restaurant_Category_Pizza Restaurant</th>\n",
       "      <th>Top_Restaurant_Category_Spanish Restaurant</th>\n",
       "      <th>Top_Restaurant_Category_Latin American Restaurant</th>\n",
       "      <th>...</th>\n",
       "      <th>Top_Restaurant_Category_Tapas Restaurant</th>\n",
       "      <th>Top_Restaurant_Category_Szechuan Restaurant</th>\n",
       "      <th>Top_Restaurant_Category_Taiwanese Restaurant</th>\n",
       "      <th>Top_Restaurant_Category_Italian Restaurant</th>\n",
       "      <th>Top_Restaurant_Category_Sri Lankan Restaurant</th>\n",
       "      <th>Top_Restaurant_Category_Burger Restaurant</th>\n",
       "      <th>Top_Restaurant_Category_Coffee Restaurant</th>\n",
       "      <th>Top_Restaurant_Category_Japanese Restaurant</th>\n",
       "      <th>Top_Restaurant_Category_Peruvian Restaurant</th>\n",
       "      <th>Top_Restaurant_Category_Asian Restaurant</th>\n",
       "    </tr>\n",
       "  </thead>\n",
       "  <tbody>\n",
       "    <tr>\n",
       "      <th>0</th>\n",
       "      <td>-1.026110</td>\n",
       "      <td>1.0</td>\n",
       "      <td>0.0</td>\n",
       "      <td>0.0</td>\n",
       "      <td>0.0</td>\n",
       "      <td>0.0</td>\n",
       "      <td>0.0</td>\n",
       "      <td>0.0</td>\n",
       "      <td>0.0</td>\n",
       "      <td>0.0</td>\n",
       "      <td>...</td>\n",
       "      <td>0.0</td>\n",
       "      <td>0.0</td>\n",
       "      <td>0.0</td>\n",
       "      <td>0.0</td>\n",
       "      <td>0.0</td>\n",
       "      <td>0.0</td>\n",
       "      <td>0.0</td>\n",
       "      <td>0.0</td>\n",
       "      <td>0.0</td>\n",
       "      <td>0.0</td>\n",
       "    </tr>\n",
       "    <tr>\n",
       "      <th>1</th>\n",
       "      <td>-1.066641</td>\n",
       "      <td>0.0</td>\n",
       "      <td>1.0</td>\n",
       "      <td>0.0</td>\n",
       "      <td>0.0</td>\n",
       "      <td>0.0</td>\n",
       "      <td>0.0</td>\n",
       "      <td>0.0</td>\n",
       "      <td>0.0</td>\n",
       "      <td>0.0</td>\n",
       "      <td>...</td>\n",
       "      <td>0.0</td>\n",
       "      <td>0.0</td>\n",
       "      <td>0.0</td>\n",
       "      <td>0.0</td>\n",
       "      <td>0.0</td>\n",
       "      <td>0.0</td>\n",
       "      <td>0.0</td>\n",
       "      <td>0.0</td>\n",
       "      <td>0.0</td>\n",
       "      <td>0.0</td>\n",
       "    </tr>\n",
       "    <tr>\n",
       "      <th>2</th>\n",
       "      <td>-0.823458</td>\n",
       "      <td>0.0</td>\n",
       "      <td>0.0</td>\n",
       "      <td>1.0</td>\n",
       "      <td>0.0</td>\n",
       "      <td>0.0</td>\n",
       "      <td>0.0</td>\n",
       "      <td>0.0</td>\n",
       "      <td>0.0</td>\n",
       "      <td>0.0</td>\n",
       "      <td>...</td>\n",
       "      <td>0.0</td>\n",
       "      <td>0.0</td>\n",
       "      <td>0.0</td>\n",
       "      <td>0.0</td>\n",
       "      <td>0.0</td>\n",
       "      <td>0.0</td>\n",
       "      <td>0.0</td>\n",
       "      <td>0.0</td>\n",
       "      <td>0.0</td>\n",
       "      <td>0.0</td>\n",
       "    </tr>\n",
       "    <tr>\n",
       "      <th>3</th>\n",
       "      <td>-1.107171</td>\n",
       "      <td>0.0</td>\n",
       "      <td>0.0</td>\n",
       "      <td>0.0</td>\n",
       "      <td>1.0</td>\n",
       "      <td>0.0</td>\n",
       "      <td>0.0</td>\n",
       "      <td>0.0</td>\n",
       "      <td>0.0</td>\n",
       "      <td>0.0</td>\n",
       "      <td>...</td>\n",
       "      <td>0.0</td>\n",
       "      <td>0.0</td>\n",
       "      <td>0.0</td>\n",
       "      <td>0.0</td>\n",
       "      <td>0.0</td>\n",
       "      <td>0.0</td>\n",
       "      <td>0.0</td>\n",
       "      <td>0.0</td>\n",
       "      <td>0.0</td>\n",
       "      <td>0.0</td>\n",
       "    </tr>\n",
       "    <tr>\n",
       "      <th>4</th>\n",
       "      <td>-0.823458</td>\n",
       "      <td>0.0</td>\n",
       "      <td>0.0</td>\n",
       "      <td>1.0</td>\n",
       "      <td>0.0</td>\n",
       "      <td>0.0</td>\n",
       "      <td>0.0</td>\n",
       "      <td>0.0</td>\n",
       "      <td>0.0</td>\n",
       "      <td>0.0</td>\n",
       "      <td>...</td>\n",
       "      <td>0.0</td>\n",
       "      <td>0.0</td>\n",
       "      <td>0.0</td>\n",
       "      <td>0.0</td>\n",
       "      <td>0.0</td>\n",
       "      <td>0.0</td>\n",
       "      <td>0.0</td>\n",
       "      <td>0.0</td>\n",
       "      <td>0.0</td>\n",
       "      <td>0.0</td>\n",
       "    </tr>\n",
       "    <tr>\n",
       "      <th>...</th>\n",
       "      <td>...</td>\n",
       "      <td>...</td>\n",
       "      <td>...</td>\n",
       "      <td>...</td>\n",
       "      <td>...</td>\n",
       "      <td>...</td>\n",
       "      <td>...</td>\n",
       "      <td>...</td>\n",
       "      <td>...</td>\n",
       "      <td>...</td>\n",
       "      <td>...</td>\n",
       "      <td>...</td>\n",
       "      <td>...</td>\n",
       "      <td>...</td>\n",
       "      <td>...</td>\n",
       "      <td>...</td>\n",
       "      <td>...</td>\n",
       "      <td>...</td>\n",
       "      <td>...</td>\n",
       "      <td>...</td>\n",
       "      <td>...</td>\n",
       "    </tr>\n",
       "    <tr>\n",
       "      <th>301</th>\n",
       "      <td>1.243598</td>\n",
       "      <td>0.0</td>\n",
       "      <td>0.0</td>\n",
       "      <td>0.0</td>\n",
       "      <td>0.0</td>\n",
       "      <td>0.0</td>\n",
       "      <td>0.0</td>\n",
       "      <td>0.0</td>\n",
       "      <td>0.0</td>\n",
       "      <td>0.0</td>\n",
       "      <td>...</td>\n",
       "      <td>0.0</td>\n",
       "      <td>0.0</td>\n",
       "      <td>0.0</td>\n",
       "      <td>0.0</td>\n",
       "      <td>0.0</td>\n",
       "      <td>0.0</td>\n",
       "      <td>0.0</td>\n",
       "      <td>0.0</td>\n",
       "      <td>0.0</td>\n",
       "      <td>0.0</td>\n",
       "    </tr>\n",
       "    <tr>\n",
       "      <th>302</th>\n",
       "      <td>0.108744</td>\n",
       "      <td>0.0</td>\n",
       "      <td>0.0</td>\n",
       "      <td>1.0</td>\n",
       "      <td>0.0</td>\n",
       "      <td>0.0</td>\n",
       "      <td>0.0</td>\n",
       "      <td>0.0</td>\n",
       "      <td>0.0</td>\n",
       "      <td>0.0</td>\n",
       "      <td>...</td>\n",
       "      <td>0.0</td>\n",
       "      <td>0.0</td>\n",
       "      <td>0.0</td>\n",
       "      <td>0.0</td>\n",
       "      <td>0.0</td>\n",
       "      <td>0.0</td>\n",
       "      <td>0.0</td>\n",
       "      <td>0.0</td>\n",
       "      <td>0.0</td>\n",
       "      <td>0.0</td>\n",
       "    </tr>\n",
       "    <tr>\n",
       "      <th>303</th>\n",
       "      <td>-1.228763</td>\n",
       "      <td>0.0</td>\n",
       "      <td>0.0</td>\n",
       "      <td>0.0</td>\n",
       "      <td>0.0</td>\n",
       "      <td>0.0</td>\n",
       "      <td>0.0</td>\n",
       "      <td>0.0</td>\n",
       "      <td>0.0</td>\n",
       "      <td>0.0</td>\n",
       "      <td>...</td>\n",
       "      <td>0.0</td>\n",
       "      <td>0.0</td>\n",
       "      <td>0.0</td>\n",
       "      <td>0.0</td>\n",
       "      <td>0.0</td>\n",
       "      <td>0.0</td>\n",
       "      <td>0.0</td>\n",
       "      <td>0.0</td>\n",
       "      <td>0.0</td>\n",
       "      <td>0.0</td>\n",
       "    </tr>\n",
       "    <tr>\n",
       "      <th>304</th>\n",
       "      <td>0.027683</td>\n",
       "      <td>0.0</td>\n",
       "      <td>0.0</td>\n",
       "      <td>0.0</td>\n",
       "      <td>0.0</td>\n",
       "      <td>0.0</td>\n",
       "      <td>0.0</td>\n",
       "      <td>0.0</td>\n",
       "      <td>1.0</td>\n",
       "      <td>0.0</td>\n",
       "      <td>...</td>\n",
       "      <td>0.0</td>\n",
       "      <td>0.0</td>\n",
       "      <td>0.0</td>\n",
       "      <td>0.0</td>\n",
       "      <td>0.0</td>\n",
       "      <td>0.0</td>\n",
       "      <td>0.0</td>\n",
       "      <td>0.0</td>\n",
       "      <td>0.0</td>\n",
       "      <td>0.0</td>\n",
       "    </tr>\n",
       "    <tr>\n",
       "      <th>305</th>\n",
       "      <td>-1.147702</td>\n",
       "      <td>1.0</td>\n",
       "      <td>0.0</td>\n",
       "      <td>0.0</td>\n",
       "      <td>0.0</td>\n",
       "      <td>0.0</td>\n",
       "      <td>0.0</td>\n",
       "      <td>0.0</td>\n",
       "      <td>0.0</td>\n",
       "      <td>0.0</td>\n",
       "      <td>...</td>\n",
       "      <td>0.0</td>\n",
       "      <td>0.0</td>\n",
       "      <td>0.0</td>\n",
       "      <td>0.0</td>\n",
       "      <td>0.0</td>\n",
       "      <td>0.0</td>\n",
       "      <td>0.0</td>\n",
       "      <td>0.0</td>\n",
       "      <td>0.0</td>\n",
       "      <td>0.0</td>\n",
       "    </tr>\n",
       "  </tbody>\n",
       "</table>\n",
       "<p>306 rows × 31 columns</p>\n",
       "</div>"
      ],
      "text/plain": [
       "     Number_of_Restaurants  Top_Restaurant_Category_Sandwich Restaurant  \\\n",
       "0                -1.026110                                          1.0   \n",
       "1                -1.066641                                          0.0   \n",
       "2                -0.823458                                          0.0   \n",
       "3                -1.107171                                          0.0   \n",
       "4                -0.823458                                          0.0   \n",
       "..                     ...                                          ...   \n",
       "301               1.243598                                          0.0   \n",
       "302               0.108744                                          0.0   \n",
       "303              -1.228763                                          0.0   \n",
       "304               0.027683                                          0.0   \n",
       "305              -1.147702                                          1.0   \n",
       "\n",
       "     Top_Restaurant_Category_Restaurant  \\\n",
       "0                                   0.0   \n",
       "1                                   1.0   \n",
       "2                                   0.0   \n",
       "3                                   0.0   \n",
       "4                                   0.0   \n",
       "..                                  ...   \n",
       "301                                 0.0   \n",
       "302                                 0.0   \n",
       "303                                 0.0   \n",
       "304                                 0.0   \n",
       "305                                 0.0   \n",
       "\n",
       "     Top_Restaurant_Category_Seafood Restaurant  \\\n",
       "0                                           0.0   \n",
       "1                                           0.0   \n",
       "2                                           1.0   \n",
       "3                                           0.0   \n",
       "4                                           1.0   \n",
       "..                                          ...   \n",
       "301                                         0.0   \n",
       "302                                         1.0   \n",
       "303                                         0.0   \n",
       "304                                         0.0   \n",
       "305                                         0.0   \n",
       "\n",
       "     Top_Restaurant_Category_Mexican Restaurant  \\\n",
       "0                                           0.0   \n",
       "1                                           0.0   \n",
       "2                                           0.0   \n",
       "3                                           1.0   \n",
       "4                                           0.0   \n",
       "..                                          ...   \n",
       "301                                         0.0   \n",
       "302                                         0.0   \n",
       "303                                         0.0   \n",
       "304                                         0.0   \n",
       "305                                         0.0   \n",
       "\n",
       "     Top_Restaurant_Category_Vegetarian / Vegan Restaurant  \\\n",
       "0                                                  0.0       \n",
       "1                                                  0.0       \n",
       "2                                                  0.0       \n",
       "3                                                  0.0       \n",
       "4                                                  0.0       \n",
       "..                                                 ...       \n",
       "301                                                0.0       \n",
       "302                                                0.0       \n",
       "303                                                0.0       \n",
       "304                                                0.0       \n",
       "305                                                0.0       \n",
       "\n",
       "     Top_Restaurant_Category_Steakhouse Restaurant  \\\n",
       "0                                              0.0   \n",
       "1                                              0.0   \n",
       "2                                              0.0   \n",
       "3                                              0.0   \n",
       "4                                              0.0   \n",
       "..                                             ...   \n",
       "301                                            0.0   \n",
       "302                                            0.0   \n",
       "303                                            0.0   \n",
       "304                                            0.0   \n",
       "305                                            0.0   \n",
       "\n",
       "     Top_Restaurant_Category_Pizza Restaurant  \\\n",
       "0                                         0.0   \n",
       "1                                         0.0   \n",
       "2                                         0.0   \n",
       "3                                         0.0   \n",
       "4                                         0.0   \n",
       "..                                        ...   \n",
       "301                                       0.0   \n",
       "302                                       0.0   \n",
       "303                                       0.0   \n",
       "304                                       0.0   \n",
       "305                                       0.0   \n",
       "\n",
       "     Top_Restaurant_Category_Spanish Restaurant  \\\n",
       "0                                           0.0   \n",
       "1                                           0.0   \n",
       "2                                           0.0   \n",
       "3                                           0.0   \n",
       "4                                           0.0   \n",
       "..                                          ...   \n",
       "301                                         0.0   \n",
       "302                                         0.0   \n",
       "303                                         0.0   \n",
       "304                                         1.0   \n",
       "305                                         0.0   \n",
       "\n",
       "     Top_Restaurant_Category_Latin American Restaurant  ...  \\\n",
       "0                                                  0.0  ...   \n",
       "1                                                  0.0  ...   \n",
       "2                                                  0.0  ...   \n",
       "3                                                  0.0  ...   \n",
       "4                                                  0.0  ...   \n",
       "..                                                 ...  ...   \n",
       "301                                                0.0  ...   \n",
       "302                                                0.0  ...   \n",
       "303                                                0.0  ...   \n",
       "304                                                0.0  ...   \n",
       "305                                                0.0  ...   \n",
       "\n",
       "     Top_Restaurant_Category_Tapas Restaurant  \\\n",
       "0                                         0.0   \n",
       "1                                         0.0   \n",
       "2                                         0.0   \n",
       "3                                         0.0   \n",
       "4                                         0.0   \n",
       "..                                        ...   \n",
       "301                                       0.0   \n",
       "302                                       0.0   \n",
       "303                                       0.0   \n",
       "304                                       0.0   \n",
       "305                                       0.0   \n",
       "\n",
       "     Top_Restaurant_Category_Szechuan Restaurant  \\\n",
       "0                                            0.0   \n",
       "1                                            0.0   \n",
       "2                                            0.0   \n",
       "3                                            0.0   \n",
       "4                                            0.0   \n",
       "..                                           ...   \n",
       "301                                          0.0   \n",
       "302                                          0.0   \n",
       "303                                          0.0   \n",
       "304                                          0.0   \n",
       "305                                          0.0   \n",
       "\n",
       "     Top_Restaurant_Category_Taiwanese Restaurant  \\\n",
       "0                                             0.0   \n",
       "1                                             0.0   \n",
       "2                                             0.0   \n",
       "3                                             0.0   \n",
       "4                                             0.0   \n",
       "..                                            ...   \n",
       "301                                           0.0   \n",
       "302                                           0.0   \n",
       "303                                           0.0   \n",
       "304                                           0.0   \n",
       "305                                           0.0   \n",
       "\n",
       "     Top_Restaurant_Category_Italian Restaurant  \\\n",
       "0                                           0.0   \n",
       "1                                           0.0   \n",
       "2                                           0.0   \n",
       "3                                           0.0   \n",
       "4                                           0.0   \n",
       "..                                          ...   \n",
       "301                                         0.0   \n",
       "302                                         0.0   \n",
       "303                                         0.0   \n",
       "304                                         0.0   \n",
       "305                                         0.0   \n",
       "\n",
       "     Top_Restaurant_Category_Sri Lankan Restaurant  \\\n",
       "0                                              0.0   \n",
       "1                                              0.0   \n",
       "2                                              0.0   \n",
       "3                                              0.0   \n",
       "4                                              0.0   \n",
       "..                                             ...   \n",
       "301                                            0.0   \n",
       "302                                            0.0   \n",
       "303                                            0.0   \n",
       "304                                            0.0   \n",
       "305                                            0.0   \n",
       "\n",
       "     Top_Restaurant_Category_Burger Restaurant  \\\n",
       "0                                          0.0   \n",
       "1                                          0.0   \n",
       "2                                          0.0   \n",
       "3                                          0.0   \n",
       "4                                          0.0   \n",
       "..                                         ...   \n",
       "301                                        0.0   \n",
       "302                                        0.0   \n",
       "303                                        0.0   \n",
       "304                                        0.0   \n",
       "305                                        0.0   \n",
       "\n",
       "     Top_Restaurant_Category_Coffee Restaurant  \\\n",
       "0                                          0.0   \n",
       "1                                          0.0   \n",
       "2                                          0.0   \n",
       "3                                          0.0   \n",
       "4                                          0.0   \n",
       "..                                         ...   \n",
       "301                                        0.0   \n",
       "302                                        0.0   \n",
       "303                                        0.0   \n",
       "304                                        0.0   \n",
       "305                                        0.0   \n",
       "\n",
       "     Top_Restaurant_Category_Japanese Restaurant  \\\n",
       "0                                            0.0   \n",
       "1                                            0.0   \n",
       "2                                            0.0   \n",
       "3                                            0.0   \n",
       "4                                            0.0   \n",
       "..                                           ...   \n",
       "301                                          0.0   \n",
       "302                                          0.0   \n",
       "303                                          0.0   \n",
       "304                                          0.0   \n",
       "305                                          0.0   \n",
       "\n",
       "     Top_Restaurant_Category_Peruvian Restaurant  \\\n",
       "0                                            0.0   \n",
       "1                                            0.0   \n",
       "2                                            0.0   \n",
       "3                                            0.0   \n",
       "4                                            0.0   \n",
       "..                                           ...   \n",
       "301                                          0.0   \n",
       "302                                          0.0   \n",
       "303                                          0.0   \n",
       "304                                          0.0   \n",
       "305                                          0.0   \n",
       "\n",
       "     Top_Restaurant_Category_Asian Restaurant  \n",
       "0                                         0.0  \n",
       "1                                         0.0  \n",
       "2                                         0.0  \n",
       "3                                         0.0  \n",
       "4                                         0.0  \n",
       "..                                        ...  \n",
       "301                                       0.0  \n",
       "302                                       0.0  \n",
       "303                                       0.0  \n",
       "304                                       0.0  \n",
       "305                                       0.0  \n",
       "\n",
       "[306 rows x 31 columns]"
      ]
     },
     "execution_count": 139,
     "metadata": {},
     "output_type": "execute_result"
    }
   ],
   "source": [
    "#Dataframe to implement clustering\n",
    "model_data_encoded"
   ]
  },
  {
   "cell_type": "code",
   "execution_count": 140,
   "id": "9c8be082-86f3-44d7-b1cd-b451945f88b3",
   "metadata": {},
   "outputs": [],
   "source": [
    "#Implement Elbow Rule to define the number of clusters\n",
    "def plot_distortion(model_data_encoded,max_clusters = 10):\n",
    "    distortions = []\n",
    "    for i in range(1, max_clusters +1):\n",
    "        km = KMeans(n_clusters=i,\n",
    "                    init='k-means++',\n",
    "                    n_init=10,\n",
    "                    random_state=0)\n",
    "        km.fit(model_data_encoded)\n",
    "        distortions.append(km.inertia_)\n",
    "\n",
    "    plt.plot(range(1,max_clusters +1), distortions, marker='o')\n",
    "    plt.xlabel('Number of clusters')\n",
    "    plt.ylabel('Distortion')\n",
    "    plt.show() "
   ]
  },
  {
   "cell_type": "code",
   "execution_count": 141,
   "id": "c297905f-0c2e-4522-a8bf-2279cc034078",
   "metadata": {},
   "outputs": [
    {
     "name": "stderr",
     "output_type": "stream",
     "text": [
      "C:\\Users\\kravc\\anaconda3\\envs\\lhl_bootcamp\\lib\\site-packages\\sklearn\\cluster\\_kmeans.py:881: UserWarning:\n",
      "\n",
      "KMeans is known to have a memory leak on Windows with MKL, when there are less chunks than available threads. You can avoid it by setting the environment variable OMP_NUM_THREADS=2.\n",
      "\n"
     ]
    },
    {
     "data": {
      "image/png": "[encoded data removed]",
      "text/plain": [
       "<Figure size 1200x800 with 1 Axes>"
      ]
     },
     "metadata": {},
     "output_type": "display_data"
    }
   ],
   "source": [
    "plot_distortion(model_data_encoded,max_clusters=10)"
   ]
  },
  {
   "cell_type": "code",
   "execution_count": 142,
   "id": "25689433-6a22-4e3b-be3e-4f5d06f42eca",
   "metadata": {},
   "outputs": [],
   "source": [
    "#Kmeans Clustering with defined number of Clusters\n",
    "km = KMeans(n_clusters=2, # how many clusters we expected \n",
    "            n_init=10, # how many initial runs\n",
    "            random_state=0)"
   ]
  },
  {
   "cell_type": "code",
   "execution_count": 143,
   "id": "b861ec91-2e46-4e12-ba00-45eece8d6a2a",
   "metadata": {},
   "outputs": [],
   "source": [
    "y_km = km.fit_predict(model_data_encoded)"
   ]
  },
  {
   "cell_type": "code",
   "execution_count": 144,
   "id": "f483383b-6345-4cc3-8dae-de6ff6321bef",
   "metadata": {},
   "outputs": [
    {
     "data": {
      "text/plain": [
       "0.3430056289971887"
      ]
     },
     "execution_count": 144,
     "metadata": {},
     "output_type": "execute_result"
    }
   ],
   "source": [
    "#Silhouette Score\n",
    "from sklearn import metrics\n",
    "from sklearn.metrics import pairwise_distances\n",
    "labels = km.labels_\n",
    "metrics.silhouette_score(model_data_encoded, labels, metric='euclidean')"
   ]
  },
  {
   "cell_type": "code",
   "execution_count": 145,
   "id": "c8cf9b18-a178-4eb3-ab71-33942167642d",
   "metadata": {},
   "outputs": [],
   "source": [
    "#Function to plot clusters\n",
    "def plot_clusters(X,y_res, plt_cluster_centers = False):\n",
    "    X_centroids = []\n",
    "    Y_centroids = []\n",
    "\n",
    "    for cluster in set(y_res):\n",
    "        x = X[y_res == cluster,0]\n",
    "        y = X[y_res == cluster,1]\n",
    "        X_centroids.append(np.mean(x))\n",
    "        Y_centroids.append(np.mean(y))\n",
    "\n",
    "        plt.scatter(x,\n",
    "                    y,\n",
    "                    s=50,\n",
    "                    marker='s',\n",
    "                    label=f'cluster {cluster}')\n",
    "\n",
    "    if plt_cluster_centers:\n",
    "        plt.scatter(X_centroids,\n",
    "                    Y_centroids,\n",
    "                    marker='*',\n",
    "                    c='red',\n",
    "                    s=250,\n",
    "                    label='centroids')\n",
    "    plt.legend()\n",
    "    plt.grid()\n",
    "    plt.show()"
   ]
  },
  {
   "cell_type": "code",
   "execution_count": 146,
   "id": "792ef7a8-5bd3-4e90-8868-39f907efe536",
   "metadata": {},
   "outputs": [
    {
     "data": {
      "image/png": "[encoded data removed]",
      "text/plain": [
       "<Figure size 1200x800 with 1 Axes>"
      ]
     },
     "metadata": {},
     "output_type": "display_data"
    }
   ],
   "source": [
    "#Plot clusters with y_km \n",
    "plot_clusters(model_data_encoded.values, y_km, plt_cluster_centers= True)\n"
   ]
  },
  {
   "cell_type": "raw",
   "id": "8e0a9afe-2299-444f-82af-cca373362fd5",
   "metadata": {},
   "source": [
    "ANOTHER WAY OF PLOTTING THE K MEANS CLUSTERS"
   ]
  },
  {
   "cell_type": "code",
   "execution_count": 147,
   "id": "253a71d7-c1c8-4bfb-8e4c-072b7746e0b5",
   "metadata": {},
   "outputs": [
    {
     "data": {
      "text/plain": [
       "(306, 2)"
      ]
     },
     "execution_count": 147,
     "metadata": {},
     "output_type": "execute_result"
    }
   ],
   "source": [
    "from sklearn.datasets import load_digits\n",
    "from sklearn.decomposition import PCA\n",
    "from sklearn.cluster import KMeans\n",
    "import numpy as np\n",
    " \n",
    "#Load Data\n",
    "data = model_data_encoded\n",
    "pca = PCA(2)\n",
    " \n",
    "#Transform the data DF is our model_encoded _data after PCA\n",
    "df = pca.fit_transform(data)\n",
    " \n",
    "df.shape"
   ]
  },
  {
   "cell_type": "code",
   "execution_count": 148,
   "id": "961aebb9-4662-4523-8758-bcb0b609cf2b",
   "metadata": {},
   "outputs": [
    {
     "name": "stdout",
     "output_type": "stream",
     "text": [
      "[0 0 0 0 0 1 1 0 1 0 0 0 0 1 0 0 1 0 0 1 1 0 0 0 0 1 0 0 0 0 1 1 0 1 1 0 0\n",
      " 0 0 0 0 0 0 1 1 0 1 1 1 1 0 1 0 1 1 0 0 1 1 1 0 1 1 1 1 1 1 0 1 1 1 1 0 0\n",
      " 0 0 0 0 0 1 0 0 0 0 1 0 1 1 1 1 1 0 0 1 0 1 1 1 0 1 1 1 1 1 1 1 1 1 1 1 1\n",
      " 1 1 1 1 1 1 1 1 1 1 1 1 1 1 1 1 1 1 1 1 1 1 1 0 0 1 1 1 1 0 0 1 1 0 1 1 1\n",
      " 0 1 0 1 0 1 0 0 0 0 0 0 1 0 0 0 0 0 0 0 0 0 0 0 0 0 0 0 0 0 1 0 0 0 0 0 0\n",
      " 0 1 0 0 0 0 0 0 0 0 0 0 0 0 0 0 0 0 0 0 0 0 0 0 0 0 0 0 0 0 0 0 0 0 0 0 1\n",
      " 1 1 0 0 0 0 0 0 0 0 0 0 0 0 0 0 0 0 0 0 0 0 0 0 0 1 1 1 1 0 0 0 0 0 0 0 0\n",
      " 0 0 0 0 1 0 0 0 0 1 1 0 1 1 1 1 0 1 1 0 1 0 1 0 1 0 0 0 0 0 1 0 0 0 0 0 0\n",
      " 0 1 0 1 1 1 0 0 0 0]\n"
     ]
    }
   ],
   "source": [
    "#Initialize the class object\n",
    "kmeans = KMeans(n_clusters= 2)\n",
    " \n",
    "#predict the labels of clusters.\n",
    "label = kmeans.fit_predict(df)\n",
    " \n",
    "print(label)"
   ]
  },
  {
   "cell_type": "code",
   "execution_count": 149,
   "id": "a45de23d-ca05-4496-957d-7fa0d13c9323",
   "metadata": {},
   "outputs": [
    {
     "data": {
      "image/png": "[encoded data removed]",
      "text/plain": [
       "<Figure size 1200x800 with 1 Axes>"
      ]
     },
     "metadata": {},
     "output_type": "display_data"
    }
   ],
   "source": [
    "#filter rows of original data\n",
    "filtered_label0 = df[label == 0]\n",
    " \n",
    "#plotting the results\n",
    "plt.scatter(filtered_label0[:,0] , filtered_label0[:,1])\n",
    "plt.show()"
   ]
  },
  {
   "cell_type": "code",
   "execution_count": null,
   "id": "cea7b546-5b1f-4f25-9e46-c1e9df9d436c",
   "metadata": {},
   "outputs": [],
   "source": []
  },
  {
   "cell_type": "code",
   "execution_count": 150,
   "id": "4ad28c03-948b-4d9e-95b9-303cab0f547a",
   "metadata": {},
   "outputs": [
    {
     "data": {
      "image/png": "[encoded data removed]",
      "text/plain": [
       "<Figure size 1200x800 with 1 Axes>"
      ]
     },
     "metadata": {},
     "output_type": "display_data"
    }
   ],
   "source": [
    "#Getting unique labels\n",
    " \n",
    "u_labels = np.unique(label)\n",
    " \n",
    "#plotting the results:\n",
    " \n",
    "for i in u_labels:\n",
    "    plt.scatter(df[label == i , 0] , df[label == i , 1] , label = i)\n",
    "plt.legend()\n",
    "plt.show()"
   ]
  },
  {
   "cell_type": "code",
   "execution_count": 151,
   "id": "183c5dbf-12af-4c7d-97ee-56c93f5f0d07",
   "metadata": {},
   "outputs": [
    {
     "data": {
      "image/png": "[encoded data removed]",
      "text/plain": [
       "<Figure size 1200x800 with 1 Axes>"
      ]
     },
     "metadata": {},
     "output_type": "display_data"
    }
   ],
   "source": [
    "#Getting the Centroids\n",
    "centroids = kmeans.cluster_centers_\n",
    "u_labels = np.unique(label)\n",
    " \n",
    "#plotting the results:\n",
    " \n",
    "for i in u_labels:\n",
    "    plt.scatter(df[label == i , 0] , df[label == i , 1] , label = i)\n",
    "plt.scatter(centroids[:,0] , centroids[:,1] , s = 80, color = 'k')\n",
    "plt.legend()\n",
    "plt.show()"
   ]
  },
  {
   "cell_type": "code",
   "execution_count": 152,
   "id": "ea551d0c-acac-4f05-978e-78ce289346ba",
   "metadata": {},
   "outputs": [
    {
     "data": {
      "text/plain": [
       "0.3430056289971887"
      ]
     },
     "execution_count": 152,
     "metadata": {},
     "output_type": "execute_result"
    }
   ],
   "source": [
    "#Silhouette Score\n",
    "from sklearn import metrics\n",
    "from sklearn.metrics import pairwise_distances\n",
    "labels = km.labels_\n",
    "metrics.silhouette_score(model_data_encoded, labels, metric='euclidean')"
   ]
  },
  {
   "cell_type": "code",
   "execution_count": 153,
   "id": "d1c2fa8c-22e9-4e9d-b851-14d810a7721a",
   "metadata": {
    "tags": []
   },
   "outputs": [],
   "source": [
    "#Let us visualize clusters\n",
    "#PCA -set up\n",
    "from sklearn.decomposition import PCA\n",
    "\n",
    "X = model_data_encoded\n",
    "\n",
    "pca_nbhoods = PCA(n_components=2)\n",
    "components = pca_nbhoods.fit_transform(X)\n",
    "#fig = px.scatter(components, x=0, y=1, color=y)\n",
    "#fig.show()"
   ]
  },
  {
   "cell_type": "code",
   "execution_count": 154,
   "id": "3547a0d8-c0d3-4269-b712-45938b6b8c7c",
   "metadata": {},
   "outputs": [
    {
     "data": {
      "image/png": "[encoded data removed]",
      "text/plain": [
       "<Figure size 1200x800 with 1 Axes>"
      ]
     },
     "metadata": {},
     "output_type": "display_data"
    }
   ],
   "source": [
    "#PCA - define the number of components\n",
    "plt.bar(range(1,len(pca_nbhoods.explained_variance_ratio_)+1),pca_nbhoods.explained_variance_ratio_)\n",
    "plt.ylabel('Explained variance')\n",
    "plt.xlabel('Components')\n",
    "plt.plot(range(1,len(pca_nbhoods.explained_variance_ratio_ )+1),\n",
    "         np.cumsum(pca_nbhoods.explained_variance_ratio_),\n",
    "         c='red',\n",
    "         label=\"Cumulative Explained Variance\")\n",
    "plt.legend(loc='upper left')\n",
    "plt.show()"
   ]
  },
  {
   "cell_type": "code",
   "execution_count": null,
   "id": "1c240271-9fe0-4d8e-939e-fa5f32fafbd3",
   "metadata": {},
   "outputs": [],
   "source": []
  },
  {
   "cell_type": "code",
   "execution_count": 155,
   "id": "068cca84-e37a-45c3-8941-46bd64c51bc9",
   "metadata": {},
   "outputs": [
    {
     "data": {
      "application/vnd.plotly.v1+json": {
       "config": {
        "plotlyServerURL": "https://plot.ly"
       },
       "data": [
        {
         "diagonal": {
          "visible": false
         },
         "dimensions": [
          {
           "axis": {
            "matches": true
           },
           "label": "PC 1",
           "values": [
            -1.0998711722940375,
            -1.0984845245727948,
            -0.8257328665998076,
            -1.1100812137581288,
            -0.8257328665998076,
            1.4273552006030434,
            0.4687171001583591,
            -0.7332977258656522,
            0.634629052686396,
            -0.3470758081961798,
            -0.6816778579235806,
            -0.46166176108920115,
            -0.44234932872176663,
            1.0335099346894194,
            0.05688338551472914,
            -0.043468446718743475,
            1.3925027284921405,
            -0.341997496488294,
            -0.5813260256901083,
            0.6501263968113783,
            0.41079786760956455,
            0.19586008248307046,
            -1.01870834817219,
            0.17654765011563614,
            -1.000782563525999,
            0.2692766591568475,
            -0.9468564848667751,
            -1.1861850140685894,
            -1.052402431468071,
            -1.0200949958934338,
            0.588381364759266,
            0.7542933172873032,
            -0.027971102593761118,
            0.6501263968113783,
            2.1104883160975825,
            -0.6983718608518609,
            -0.7408783784913175,
            -0.21971480244823322,
            -0.3818855846885964,
            -0.852961990466559,
            -1.2119547842692802,
            -0.06278087908617781,
            -0.9608944753256969,
            0.5548528762857913,
            0.610238308611076,
            -1.2594235250952475,
            1.3763237629156853,
            0.7375521554160605,
            0.6578231379584181,
            1.655540380317801,
            -0.2209465841661435,
            0.4939551624534746,
            0.11811537445597092,
            0.34905283555745226,
            0.4506859558098668,
            0.06446403814039442,
            -0.906713634976506,
            0.45838269695690653,
            0.33871843235599947,
            1.8549808213193129,
            0.19586008248307046,
            0.6578231379584181,
            0.8290338775985083,
            0.3310216912089598,
            1.3763237629156853,
            1.5700880316594246,
            1.7746896075668837,
            -0.33937906704914006,
            0.9370397553605347,
            1.3364356747153825,
            1.1768833219141734,
            0.35541243528427974,
            -0.8412302107247901,
            -1.1321786078686753,
            -1.0174765664542795,
            -0.9468564848667749,
            -1.2220781423617384,
            -0.9802069076931312,
            -0.34707580819617967,
            0.7164366974605059,
            -0.06785919079406344,
            -0.020274361446721477,
            -0.9852852194010172,
            -1.1720666960689778,
            1.9347569977199175,
            -1.1869492991384891,
            1.8145776957671849,
            1.495472990164766,
            1.0335099346894194,
            0.25639156433205296,
            0.6977112261587206,
            -1.2220781423617384,
            0.09169316200714588,
            0.8971516671602322,
            -0.7858447783995054,
            0.6295934365969967,
            1.9060122590066713,
            2.2538617033223356,
            0.06983621815533582,
            1.2162563727626508,
            1.655540380317801,
            1.4156968137641615,
            1.1069265113631965,
            1.655025342965976,
            1.0335099346894194,
            0.5356081817341691,
            1.016815931761139,
            1.5470194652039504,
            1.8948689095196154,
            1.99285551987018,
            0.21135742660805285,
            2.4931902325241495,
            0.976927843560837,
            1.6949134311662788,
            1.4560999393162897,
            0.8577786163117548,
            1.4156968137641615,
            1.9347569977199175,
            2.1740855269217323,
            0.8577786163117548,
            1.5869075534042523,
            1.8150927331190099,
            1.3475790242024381,
            1.9265452192210533,
            1.3364356747153825,
            0.976927843560837,
            1.7746896075668837,
            0.9473741585619871,
            1.824912098968639,
            1.9857884354072761,
            1.3804097620089584,
            1.615137254765674,
            1.0173309691129642,
            0.49599325597320765,
            0.1366595619153339,
            -0.6584837726515591,
            0.7375993143590227,
            0.3155243470839774,
            0.5374768376405225,
            1.176368284562349,
            -0.3071877199958776,
            -0.06785919079406344,
            0.4506859558098668,
            0.9486981421994154,
            -0.22741154359527269,
            0.8572635789599297,
            0.4184946087566042,
            0.3155243470839774,
            -0.3818855846885964,
            0.46871710015835905,
            -0.22741154359527269,
            1.6954284685181036,
            -0.45904333165004707,
            0.8976667045120573,
            -0.10005053784732612,
            -0.7807664666916198,
            -0.26729963179557503,
            -1.099871172294038,
            -0.04850406280814286,
            -0.3021094082879918,
            0.49827078515720863,
            0.13979302870631297,
            -0.42177367288889867,
            -0.42685198459678425,
            -0.6468253858126776,
            -0.7060686019989006,
            -0.9801391698773194,
            -1.1397592604943407,
            -0.9389321717715854,
            -0.9403188194928292,
            0.13672729973114592,
            -1.2518428724695825,
            -1.1366257937033613,
            0.1791660795547902,
            -1.01870834817219,
            -0.9273659868522224,
            -1.0650613958016213,
            -0.7009902902910153,
            0.868921965798811,
            -0.9004307312925267,
            -0.09508831466081487,
            -0.5015498492895035,
            -0.7060686019989006,
            -0.7009902902910153,
            -0.42288468768205945,
            -0.7009902902910153,
            0.8173754907596277,
            -1.1720666960689778,
            -0.5864043373979938,
            0.1496123945559405,
            -0.7394917307700738,
            0.13158125020744815,
            -1.1366257937033613,
            -1.1366257937033613,
            -0.9580732722129139,
            0.1791660795547902,
            -0.10266896728648009,
            -0.4613208608340481,
            -1.0303050373575235,
            -0.6629750690127046,
            -0.8206545548919221,
            -0.4616617610892011,
            -1.1366257937033613,
            -1.1366257937033613,
            -1.1366257937033613,
            -0.21971480244823322,
            -1.1974018014147283,
            -1.1366257937033613,
            -0.9802069076931312,
            -1.0200949958934338,
            -1.1366257937033613,
            -0.2989759414970126,
            -1.1366257937033613,
            -0.8811182989250925,
            -0.6212141138904108,
            -1.01870834817219,
            -0.9726262550674659,
            -1.1499693019584307,
            -0.2030207995199527,
            -1.1469338300932035,
            -0.2147525792617219,
            0.8219765272047254,
            0.5304621322104716,
            0.809678749612588,
            -1.1831708952291031,
            -0.45904333165004707,
            -1.1366257937033613,
            -1.1869492991384891,
            -0.9004307312925267,
            -0.9260420032147944,
            -0.9788202599718877,
            -0.7408783784913175,
            -1.1015683655586181,
            -0.4540811084635358,
            -1.0984845245727948,
            -1.143155831673996,
            -1.099871172294038,
            -1.092290519668373,
            -1.1366257937033613,
            -1.092290519668373,
            -1.092290519668373,
            -1.2119547842692802,
            -1.1720666960689778,
            -1.0984845245727948,
            -1.0869183396534314,
            -1.1868219182935058,
            -0.29949097884883763,
            1.655540380317801,
            1.7752046449187087,
            1.3475790242024381,
            1.6666837298048578,
            -1.1575137132144258,
            -1.01870834817219,
            -0.8990440835712831,
            -1.1031407681188878,
            -1.1366257937033613,
            -1.2518428724695825,
            -1.1366257937033613,
            0.17146933840775055,
            -0.7408783784913175,
            -1.092290519668373,
            -1.1831708952291033,
            -0.1824451436870848,
            0.5780469615578135,
            -0.46674007279708657,
            -0.8206545548919221,
            -1.1720666960689778,
            -0.5683731930495013,
            0.5355404439183571,
            0.5947409644860931,
            0.11608390608246584,
            1.786347994405764,
            1.4560999393162897,
            2.2321840490719964,
            1.9746450859202203,
            0.0196137267535809,
            1.8661241708063687,
            1.5939746378671567,
            0.13927799135448782,
            0.7381143517108479,
            0.09677147371503149,
            0.34905283555745226,
            -0.18752345539497048,
            1.1768833219141734,
            -1.1720666960689778,
            -1.1366257937033613,
            -1.1460421641783205,
            -1.1974018014147283,
            -1.1861850140685897,
            0.4987858225090338,
            -0.06785919079406344,
            -1.052402431468071,
            -1.1575137132144258,
            -1.1397592604943407,
            -1.1254824442163058,
            -1.1720666960689778,
            -1.0585964363724922,
            0.3953005234845821,
            0.1366595619153339,
            0.9375547927123595,
            0.3310216912089598,
            1.2960325491632556,
            0.09169316200714588,
            -1.1366257937033613,
            0.03630772968186118,
            -1.2195354368949454
           ]
          },
          {
           "axis": {
            "matches": true
           },
           "label": "PC 2",
           "values": [
            -0.05627773494217279,
            0.0075986815482513795,
            -0.06095544710966123,
            0.007503751041429579,
            -0.06095544710966127,
            -0.060289002156670116,
            -0.030981115522930824,
            0.002037022594886688,
            -0.04814547091701891,
            -0.06999101413413591,
            -0.02329766159971409,
            -0.06832515764147326,
            -0.02781544511195106,
            -0.05567511010408114,
            -0.07811368858465362,
            -0.03534508429901325,
            -0.06245178537243702,
            -0.07058404939759137,
            -0.06606626588535405,
            -0.08881511210179138,
            -0.08429732858955406,
            -0.039862867811250584,
            0.006092753710839092,
            -0.08037258034077227,
            -0.01727395025006402,
            -0.027216295929399704,
            0.00429836699847928,
            0.00881615051071664,
            0.008060733944536484,
            -0.057783662779585666,
            -0.033240007279049445,
            -0.05040436267313766,
            -0.0760147254837857,
            -0.08881511210179138,
            -0.0760051359091492,
            -0.6077188510193908,
            -0.06305441021052918,
            -0.6167544180438651,
            -0.06983108547888515,
            0.004295914351005373,
            0.011072589619361356,
            -0.07585479682853491,
            -0.018026914168770274,
            -0.04663954307960655,
            -0.08806214818308514,
            -0.05326587926734834,
            0.7494381123788391,
            -0.02825229329741023,
            -0.6333196242554023,
            0.7441673649478957,
            -0.008966524663285288,
            -0.023478982802389376,
            -0.020420837853312484,
            -0.028722223766812164,
            -0.08505029250826028,
            -0.013022255779237664,
            0.0035101057783286827,
            -0.6295548046618707,
            -0.6272959129057524,
            0.7404025453543648,
            -0.039862867811250584,
            -0.6333196242554023,
            -0.04899454337607689,
            -0.08279140075214159,
            0.7494381123788391,
            -0.04402916617373518,
            -0.6544026139791764,
            -0.6144955262877465,
            -0.6385903716863459,
            0.7501910762975453,
            0.7532029319723703,
            -0.042874723486075454,
            -0.020285805924888933,
            0.009566661781948912,
            -0.6016951396697406,
            0.004298366998479169,
            0.008678308135700197,
            -0.058536626698291884,
            -0.06999101413413585,
            -0.031715296633905786,
            -0.07526176156507942,
            -0.6205192376373962,
            -0.05794359143483641,
            0.010319625700655153,
            0.7388966175169522,
            0.008922042415049862,
            -0.6551555778978825,
            -0.649131866548233,
            -0.05567511010408114,
            -0.01991229266398695,
            -0.6340725881741084,
            0.008678308135700197,
            -0.07827361723990435,
            -0.6378374077676396,
            -0.061708411028367494,
            -0.04522972378254578,
            -0.06932456918114478,
            0.7328729061673025,
            -0.023451476335868675,
            -0.643861119117289,
            0.7441673649478957,
            -0.6476259387108203,
            -0.04302853822223032,
            -0.6521437222230577,
            -0.05567511010408114,
            -0.025183040094930376,
            -0.640096299523758,
            -0.0625478939127888,
            0.7396495814356586,
            -0.05581014203250468,
            -0.08053250899602295,
            0.7283551226550652,
            -0.639343335605052,
            -0.6528966861417638,
            0.7479321845414267,
            0.7592266433220198,
            -0.6476259387108203,
            0.7388966175169522,
            0.7343788340047152,
            0.7592266433220198,
            -0.0633008578314951,
            0.7411555092730707,
            -0.05878307431925771,
            -0.11290995750039044,
            0.7501910762975453,
            -0.639343335605052,
            -0.6544026139791764,
            -0.04001668254740545,
            -0.056581888758942316,
            -0.07083049701855723,
            -0.04127959456448197,
            -0.6513907583043514,
            0.7562147876471954,
            -0.023761361213944926,
            -0.07961961642206601,
            -0.608471814938097,
            -0.6348255520928148,
            -0.04212175956736926,
            -0.024401251406612538,
            -0.643108155198583,
            -0.07074397805284215,
            -0.07526176156507942,
            -0.08505029250826028,
            -0.051253435132195574,
            -0.07224990589025451,
            -0.6370844438489334,
            -0.6288018407431648,
            -0.04212175956736926,
            -0.06983108547888515,
            -0.030981115522930817,
            -0.07224990589025451,
            0.7434144010291895,
            -0.6122366345316281,
            0.758473679403314,
            -0.6190133097999838,
            -0.06230144629182295,
            -0.0714969419715483,
            -0.0562777349421732,
            -0.03242933716454008,
            -0.07133701331629756,
            -0.6303077685805772,
            0.7727799938587319,
            -0.06907812156017896,
            -0.06848508629672345,
            -0.02113487838394675,
            -0.0632143388657799,
            0.0034295888159058684,
            -0.05552477102346698,
            0.004586825873426657,
            -0.059289590616998095,
            -0.017653400907868235,
            0.011825553538067624,
            0.7968748392573309,
            -0.6242840572309276,
            0.006092753710839092,
            -0.004627378368213146,
            -0.05643766359742394,
            -0.06380737412923539,
            -0.049747507294783125,
            -0.060042554535704326,
            -0.010010400104412807,
            -0.0675721937227665,
            -0.0632143388657799,
            -0.06380737412923539,
            -0.005916250330785009,
            -0.06380737412923539,
            -0.636331479930227,
            0.010319625700655153,
            -0.06547323062189861,
            -0.024957404173281107,
            0.0008220062798955616,
            -0.07902658115861051,
            0.7968748392573309,
            0.7968748392573309,
            0.004927210699441884,
            -0.6242840572309276,
            -0.07510183290982873,
            -0.005690227164995578,
            0.005997823204017227,
            -0.001295000061828081,
            -0.06154848237311674,
            -0.06832515764147273,
            0.7968748392573309,
            0.7968748392573309,
            0.7968748392573309,
            -0.6167544180438651,
            0.009444994211679325,
            0.7968748392573309,
            -0.058536626698291884,
            -0.057783662779585666,
            0.7968748392573309,
            0.7810625969645004,
            0.7968748392573309,
            -0.019532842006182646,
            -0.06531330196664788,
            0.006092753710839092,
            0.006554806107124077,
            0.008256714960135877,
            -0.032333228624188325,
            0.008151429845621415,
            -0.007751508348294072,
            -0.03073809970259465,
            -0.08655622034567272,
            -0.09182696777661627,
            0.008717708854245191,
            -0.6122366345316281,
            0.7968748392573309,
            0.008922042415049862,
            -0.060042554535704326,
            -0.015864130953003232,
            0.00533978979213287,
            -0.06305441021052918,
            0.006639573945859454,
            -0.0032337248360567983,
            0.007598681548251514,
            0.007947500476085672,
            -0.0562777349421732,
            0.008813697863242716,
            0.7968748392573309,
            0.008813697863242716,
            0.008813697863242716,
            0.011072589619361356,
            0.010319625700655153,
            0.007598681548251514,
            -0.0016155226933882842,
            0.00890439376432769,
            -0.6152484902064528,
            0.7441673649478957,
            0.7419084731917768,
            -0.05878307431925771,
            -0.06480678566890749,
            0.00869203029297305,
            0.006092753710839092,
            0.0038338619547204356,
            0.007177292097926165,
            0.7968748392573309,
            0.011825553538067624,
            0.7968748392573309,
            -0.07977954507731673,
            -0.06305441021052918,
            0.008813697863242716,
            0.008717708854245212,
            -0.07359590507241624,
            -0.63181369641799,
            -0.06773212237801722,
            -0.06154848237311674,
            0.010319625700655153,
            -0.011404053636569145,
            -0.08714925560912822,
            -0.04739250699831275,
            -0.03835693997383819,
            -0.06706567742502621,
            0.7479321845414267,
            -0.060327925544742256,
            0.7381436535982462,
            -0.6212722015561026,
            -0.06857160526243865,
            -0.04828050284544263,
            -0.6235310933122211,
            0.7614855350781388,
            -0.0788666525033598,
            -0.028722223766812164,
            -0.07300286980896076,
            0.7532029319723703,
            0.010319625700655153,
            0.7968748392573309,
            0.008027889290565839,
            0.009444994211679325,
            0.008816150510716606,
            0.7660033185903761,
            -0.07526176156507942,
            0.008060733944536484,
            0.00869203029297305,
            -0.05552477102346698,
            -0.012099311359472158,
            0.010319625700655153,
            0.006845717629545313,
            -0.04362768740478166,
            -0.07961961642206601,
            0.7577207154846075,
            -0.08279140075214159,
            -0.6453670469547014,
            -0.07827361723990435,
            0.7968748392573309,
            -0.03685101213642571,
            -0.05401884318605453
           ]
          }
         ],
         "hovertemplate": "%{xaxis.title.text}=%{x}<br>%{yaxis.title.text}=%{y}<br>Median Price=%{marker.color}<extra></extra>",
         "legendgroup": "",
         "marker": {
          "color": [
           1,
           1,
           1,
           1,
           1,
           0,
           0,
           1,
           0,
           1,
           1,
           1,
           1,
           0,
           1,
           1,
           0,
           1,
           1,
           0,
           0,
           1,
           1,
           1,
           1,
           0,
           1,
           1,
           1,
           1,
           0,
           0,
           1,
           0,
           0,
           1,
           1,
           1,
           1,
           1,
           1,
           1,
           1,
           0,
           0,
           1,
           0,
           0,
           0,
           0,
           1,
           0,
           1,
           0,
           0,
           1,
           1,
           0,
           0,
           0,
           1,
           0,
           0,
           0,
           0,
           0,
           0,
           1,
           0,
           0,
           0,
           0,
           1,
           1,
           1,
           1,
           1,
           1,
           1,
           0,
           1,
           1,
           1,
           1,
           0,
           1,
           0,
           0,
           0,
           0,
           0,
           1,
           1,
           0,
           1,
           0,
           0,
           0,
           1,
           0,
           0,
           0,
           0,
           0,
           0,
           0,
           0,
           0,
           0,
           0,
           1,
           0,
           0,
           0,
           0,
           0,
           0,
           0,
           0,
           0,
           0,
           0,
           0,
           0,
           0,
           0,
           0,
           0,
           0,
           0,
           0,
           0,
           0,
           0,
           1,
           1,
           0,
           0,
           0,
           0,
           1,
           1,
           0,
           0,
           1,
           0,
           0,
           0,
           1,
           0,
           1,
           0,
           1,
           0,
           1,
           1,
           1,
           1,
           1,
           1,
           0,
           1,
           1,
           1,
           1,
           1,
           1,
           1,
           1,
           1,
           1,
           1,
           1,
           1,
           1,
           1,
           1,
           1,
           0,
           1,
           1,
           1,
           1,
           1,
           1,
           1,
           0,
           1,
           1,
           1,
           1,
           1,
           1,
           1,
           1,
           1,
           1,
           1,
           1,
           1,
           1,
           1,
           1,
           1,
           1,
           1,
           1,
           1,
           1,
           1,
           1,
           1,
           1,
           1,
           1,
           1,
           1,
           1,
           1,
           1,
           1,
           0,
           0,
           0,
           1,
           1,
           1,
           1,
           1,
           1,
           1,
           1,
           1,
           1,
           1,
           1,
           1,
           1,
           1,
           1,
           1,
           1,
           1,
           1,
           1,
           1,
           1,
           0,
           0,
           0,
           0,
           1,
           1,
           1,
           1,
           1,
           1,
           1,
           1,
           1,
           1,
           1,
           1,
           0,
           1,
           1,
           1,
           1,
           0,
           0,
           1,
           0,
           0,
           0,
           0,
           1,
           0,
           0,
           1,
           0,
           1,
           0,
           1,
           0,
           1,
           1,
           1,
           1,
           1,
           0,
           1,
           1,
           1,
           1,
           1,
           1,
           1,
           0,
           1,
           0,
           0,
           0,
           1,
           1,
           1,
           1
          ],
          "coloraxis": "coloraxis",
          "symbol": "circle"
         },
         "name": "",
         "showlegend": false,
         "type": "splom"
        }
       ],
       "layout": {
        "autosize": true,
        "coloraxis": {
         "colorbar": {
          "title": {
           "text": "Median Price"
          }
         },
         "colorscale": [
          [
           0,
           "#0d0887"
          ],
          [
           0.1111111111111111,
           "#46039f"
          ],
          [
           0.2222222222222222,
           "#7201a8"
          ],
          [
           0.3333333333333333,
           "#9c179e"
          ],
          [
           0.4444444444444444,
           "#bd3786"
          ],
          [
           0.5555555555555556,
           "#d8576b"
          ],
          [
           0.6666666666666666,
           "#ed7953"
          ],
          [
           0.7777777777777778,
           "#fb9f3a"
          ],
          [
           0.8888888888888888,
           "#fdca26"
          ],
          [
           1,
           "#f0f921"
          ]
         ]
        },
        "dragmode": "select",
        "legend": {
         "tracegroupgap": 0
        },
        "template": {
         "data": {
          "bar": [
           {
            "error_x": {
             "color": "#2a3f5f"
            },
            "error_y": {
             "color": "#2a3f5f"
            },
            "marker": {
             "line": {
              "color": "#E5ECF6",
              "width": 0.5
             },
             "pattern": {
              "fillmode": "overlay",
              "size": 10,
              "solidity": 0.2
             }
            },
            "type": "bar"
           }
          ],
          "barpolar": [
           {
            "marker": {
             "line": {
              "color": "#E5ECF6",
              "width": 0.5
             },
             "pattern": {
              "fillmode": "overlay",
              "size": 10,
              "solidity": 0.2
             }
            },
            "type": "barpolar"
           }
          ],
          "carpet": [
           {
            "aaxis": {
             "endlinecolor": "#2a3f5f",
             "gridcolor": "white",
             "linecolor": "white",
             "minorgridcolor": "white",
             "startlinecolor": "#2a3f5f"
            },
            "baxis": {
             "endlinecolor": "#2a3f5f",
             "gridcolor": "white",
             "linecolor": "white",
             "minorgridcolor": "white",
             "startlinecolor": "#2a3f5f"
            },
            "type": "carpet"
           }
          ],
          "choropleth": [
           {
            "colorbar": {
             "outlinewidth": 0,
             "ticks": ""
            },
            "type": "choropleth"
           }
          ],
          "contour": [
           {
            "colorbar": {
             "outlinewidth": 0,
             "ticks": ""
            },
            "colorscale": [
             [
              0,
              "#0d0887"
             ],
             [
              0.1111111111111111,
              "#46039f"
             ],
             [
              0.2222222222222222,
              "#7201a8"
             ],
             [
              0.3333333333333333,
              "#9c179e"
             ],
             [
              0.4444444444444444,
              "#bd3786"
             ],
             [
              0.5555555555555556,
              "#d8576b"
             ],
             [
              0.6666666666666666,
              "#ed7953"
             ],
             [
              0.7777777777777778,
              "#fb9f3a"
             ],
             [
              0.8888888888888888,
              "#fdca26"
             ],
             [
              1,
              "#f0f921"
             ]
            ],
            "type": "contour"
           }
          ],
          "contourcarpet": [
           {
            "colorbar": {
             "outlinewidth": 0,
             "ticks": ""
            },
            "type": "contourcarpet"
           }
          ],
          "heatmap": [
           {
            "colorbar": {
             "outlinewidth": 0,
             "ticks": ""
            },
            "colorscale": [
             [
              0,
              "#0d0887"
             ],
             [
              0.1111111111111111,
              "#46039f"
             ],
             [
              0.2222222222222222,
              "#7201a8"
             ],
             [
              0.3333333333333333,
              "#9c179e"
             ],
             [
              0.4444444444444444,
              "#bd3786"
             ],
             [
              0.5555555555555556,
              "#d8576b"
             ],
             [
              0.6666666666666666,
              "#ed7953"
             ],
             [
              0.7777777777777778,
              "#fb9f3a"
             ],
             [
              0.8888888888888888,
              "#fdca26"
             ],
             [
              1,
              "#f0f921"
             ]
            ],
            "type": "heatmap"
           }
          ],
          "heatmapgl": [
           {
            "colorbar": {
             "outlinewidth": 0,
             "ticks": ""
            },
            "colorscale": [
             [
              0,
              "#0d0887"
             ],
             [
              0.1111111111111111,
              "#46039f"
             ],
             [
              0.2222222222222222,
              "#7201a8"
             ],
             [
              0.3333333333333333,
              "#9c179e"
             ],
             [
              0.4444444444444444,
              "#bd3786"
             ],
             [
              0.5555555555555556,
              "#d8576b"
             ],
             [
              0.6666666666666666,
              "#ed7953"
             ],
             [
              0.7777777777777778,
              "#fb9f3a"
             ],
             [
              0.8888888888888888,
              "#fdca26"
             ],
             [
              1,
              "#f0f921"
             ]
            ],
            "type": "heatmapgl"
           }
          ],
          "histogram": [
           {
            "marker": {
             "pattern": {
              "fillmode": "overlay",
              "size": 10,
              "solidity": 0.2
             }
            },
            "type": "histogram"
           }
          ],
          "histogram2d": [
           {
            "colorbar": {
             "outlinewidth": 0,
             "ticks": ""
            },
            "colorscale": [
             [
              0,
              "#0d0887"
             ],
             [
              0.1111111111111111,
              "#46039f"
             ],
             [
              0.2222222222222222,
              "#7201a8"
             ],
             [
              0.3333333333333333,
              "#9c179e"
             ],
             [
              0.4444444444444444,
              "#bd3786"
             ],
             [
              0.5555555555555556,
              "#d8576b"
             ],
             [
              0.6666666666666666,
              "#ed7953"
             ],
             [
              0.7777777777777778,
              "#fb9f3a"
             ],
             [
              0.8888888888888888,
              "#fdca26"
             ],
             [
              1,
              "#f0f921"
             ]
            ],
            "type": "histogram2d"
           }
          ],
          "histogram2dcontour": [
           {
            "colorbar": {
             "outlinewidth": 0,
             "ticks": ""
            },
            "colorscale": [
             [
              0,
              "#0d0887"
             ],
             [
              0.1111111111111111,
              "#46039f"
             ],
             [
              0.2222222222222222,
              "#7201a8"
             ],
             [
              0.3333333333333333,
              "#9c179e"
             ],
             [
              0.4444444444444444,
              "#bd3786"
             ],
             [
              0.5555555555555556,
              "#d8576b"
             ],
             [
              0.6666666666666666,
              "#ed7953"
             ],
             [
              0.7777777777777778,
              "#fb9f3a"
             ],
             [
              0.8888888888888888,
              "#fdca26"
             ],
             [
              1,
              "#f0f921"
             ]
            ],
            "type": "histogram2dcontour"
           }
          ],
          "mesh3d": [
           {
            "colorbar": {
             "outlinewidth": 0,
             "ticks": ""
            },
            "type": "mesh3d"
           }
          ],
          "parcoords": [
           {
            "line": {
             "colorbar": {
              "outlinewidth": 0,
              "ticks": ""
             }
            },
            "type": "parcoords"
           }
          ],
          "pie": [
           {
            "automargin": true,
            "type": "pie"
           }
          ],
          "scatter": [
           {
            "marker": {
             "colorbar": {
              "outlinewidth": 0,
              "ticks": ""
             }
            },
            "type": "scatter"
           }
          ],
          "scatter3d": [
           {
            "line": {
             "colorbar": {
              "outlinewidth": 0,
              "ticks": ""
             }
            },
            "marker": {
             "colorbar": {
              "outlinewidth": 0,
              "ticks": ""
             }
            },
            "type": "scatter3d"
           }
          ],
          "scattercarpet": [
           {
            "marker": {
             "colorbar": {
              "outlinewidth": 0,
              "ticks": ""
             }
            },
            "type": "scattercarpet"
           }
          ],
          "scattergeo": [
           {
            "marker": {
             "colorbar": {
              "outlinewidth": 0,
              "ticks": ""
             }
            },
            "type": "scattergeo"
           }
          ],
          "scattergl": [
           {
            "marker": {
             "colorbar": {
              "outlinewidth": 0,
              "ticks": ""
             }
            },
            "type": "scattergl"
           }
          ],
          "scattermapbox": [
           {
            "marker": {
             "colorbar": {
              "outlinewidth": 0,
              "ticks": ""
             }
            },
            "type": "scattermapbox"
           }
          ],
          "scatterpolar": [
           {
            "marker": {
             "colorbar": {
              "outlinewidth": 0,
              "ticks": ""
             }
            },
            "type": "scatterpolar"
           }
          ],
          "scatterpolargl": [
           {
            "marker": {
             "colorbar": {
              "outlinewidth": 0,
              "ticks": ""
             }
            },
            "type": "scatterpolargl"
           }
          ],
          "scatterternary": [
           {
            "marker": {
             "colorbar": {
              "outlinewidth": 0,
              "ticks": ""
             }
            },
            "type": "scatterternary"
           }
          ],
          "surface": [
           {
            "colorbar": {
             "outlinewidth": 0,
             "ticks": ""
            },
            "colorscale": [
             [
              0,
              "#0d0887"
             ],
             [
              0.1111111111111111,
              "#46039f"
             ],
             [
              0.2222222222222222,
              "#7201a8"
             ],
             [
              0.3333333333333333,
              "#9c179e"
             ],
             [
              0.4444444444444444,
              "#bd3786"
             ],
             [
              0.5555555555555556,
              "#d8576b"
             ],
             [
              0.6666666666666666,
              "#ed7953"
             ],
             [
              0.7777777777777778,
              "#fb9f3a"
             ],
             [
              0.8888888888888888,
              "#fdca26"
             ],
             [
              1,
              "#f0f921"
             ]
            ],
            "type": "surface"
           }
          ],
          "table": [
           {
            "cells": {
             "fill": {
              "color": "#EBF0F8"
             },
             "line": {
              "color": "white"
             }
            },
            "header": {
             "fill": {
              "color": "#C8D4E3"
             },
             "line": {
              "color": "white"
             }
            },
            "type": "table"
           }
          ]
         },
         "layout": {
          "annotationdefaults": {
           "arrowcolor": "#2a3f5f",
           "arrowhead": 0,
           "arrowwidth": 1
          },
          "autotypenumbers": "strict",
          "coloraxis": {
           "colorbar": {
            "outlinewidth": 0,
            "ticks": ""
           }
          },
          "colorscale": {
           "diverging": [
            [
             0,
             "#8e0152"
            ],
            [
             0.1,
             "#c51b7d"
            ],
            [
             0.2,
             "#de77ae"
            ],
            [
             0.3,
             "#f1b6da"
            ],
            [
             0.4,
             "#fde0ef"
            ],
            [
             0.5,
             "#f7f7f7"
            ],
            [
             0.6,
             "#e6f5d0"
            ],
            [
             0.7,
             "#b8e186"
            ],
            [
             0.8,
             "#7fbc41"
            ],
            [
             0.9,
             "#4d9221"
            ],
            [
             1,
             "#276419"
            ]
           ],
           "sequential": [
            [
             0,
             "#0d0887"
            ],
            [
             0.1111111111111111,
             "#46039f"
            ],
            [
             0.2222222222222222,
             "#7201a8"
            ],
            [
             0.3333333333333333,
             "#9c179e"
            ],
            [
             0.4444444444444444,
             "#bd3786"
            ],
            [
             0.5555555555555556,
             "#d8576b"
            ],
            [
             0.6666666666666666,
             "#ed7953"
            ],
            [
             0.7777777777777778,
             "#fb9f3a"
            ],
            [
             0.8888888888888888,
             "#fdca26"
            ],
            [
             1,
             "#f0f921"
            ]
           ],
           "sequentialminus": [
            [
             0,
             "#0d0887"
            ],
            [
             0.1111111111111111,
             "#46039f"
            ],
            [
             0.2222222222222222,
             "#7201a8"
            ],
            [
             0.3333333333333333,
             "#9c179e"
            ],
            [
             0.4444444444444444,
             "#bd3786"
            ],
            [
             0.5555555555555556,
             "#d8576b"
            ],
            [
             0.6666666666666666,
             "#ed7953"
            ],
            [
             0.7777777777777778,
             "#fb9f3a"
            ],
            [
             0.8888888888888888,
             "#fdca26"
            ],
            [
             1,
             "#f0f921"
            ]
           ]
          },
          "colorway": [
           "#636efa",
           "#EF553B",
           "#00cc96",
           "#ab63fa",
           "#FFA15A",
           "#19d3f3",
           "#FF6692",
           "#B6E880",
           "#FF97FF",
           "#FECB52"
          ],
          "font": {
           "color": "#2a3f5f"
          },
          "geo": {
           "bgcolor": "white",
           "lakecolor": "white",
           "landcolor": "#E5ECF6",
           "showlakes": true,
           "showland": true,
           "subunitcolor": "white"
          },
          "hoverlabel": {
           "align": "left"
          },
          "hovermode": "closest",
          "mapbox": {
           "style": "light"
          },
          "paper_bgcolor": "white",
          "plot_bgcolor": "#E5ECF6",
          "polar": {
           "angularaxis": {
            "gridcolor": "white",
            "linecolor": "white",
            "ticks": ""
           },
           "bgcolor": "#E5ECF6",
           "radialaxis": {
            "gridcolor": "white",
            "linecolor": "white",
            "ticks": ""
           }
          },
          "scene": {
           "xaxis": {
            "backgroundcolor": "#E5ECF6",
            "gridcolor": "white",
            "gridwidth": 2,
            "linecolor": "white",
            "showbackground": true,
            "ticks": "",
            "zerolinecolor": "white"
           },
           "yaxis": {
            "backgroundcolor": "#E5ECF6",
            "gridcolor": "white",
            "gridwidth": 2,
            "linecolor": "white",
            "showbackground": true,
            "ticks": "",
            "zerolinecolor": "white"
           },
           "zaxis": {
            "backgroundcolor": "#E5ECF6",
            "gridcolor": "white",
            "gridwidth": 2,
            "linecolor": "white",
            "showbackground": true,
            "ticks": "",
            "zerolinecolor": "white"
           }
          },
          "shapedefaults": {
           "line": {
            "color": "#2a3f5f"
           }
          },
          "ternary": {
           "aaxis": {
            "gridcolor": "white",
            "linecolor": "white",
            "ticks": ""
           },
           "baxis": {
            "gridcolor": "white",
            "linecolor": "white",
            "ticks": ""
           },
           "bgcolor": "#E5ECF6",
           "caxis": {
            "gridcolor": "white",
            "linecolor": "white",
            "ticks": ""
           }
          },
          "title": {
           "x": 0.05
          },
          "xaxis": {
           "automargin": true,
           "gridcolor": "white",
           "linecolor": "white",
           "ticks": "",
           "title": {
            "standoff": 15
           },
           "zerolinecolor": "white",
           "zerolinewidth": 2
          },
          "yaxis": {
           "automargin": true,
           "gridcolor": "white",
           "linecolor": "white",
           "ticks": "",
           "title": {
            "standoff": 15
           },
           "zerolinecolor": "white",
           "zerolinewidth": 2
          }
         }
        },
        "title": {
         "text": "Total Explained Variance: 61.80%"
        },
        "xaxis": {
         "autorange": true,
         "range": [
          -1.6937340112963521,
          2.927500718725254
         ],
         "type": "linear"
        },
        "xaxis2": {
         "autorange": true,
         "range": [
          -0.8232069887773057,
          0.9649262501367541
         ],
         "type": "linear"
        },
        "yaxis": {
         "autorange": true,
         "range": [
          -1.6937340112963521,
          2.927500718725254
         ],
         "type": "linear"
        },
        "yaxis2": {
         "autorange": true,
         "range": [
          -0.8232069887773057,
          0.9649262501367541
         ],
         "type": "linear"
        }
       }
      },
      "image/png": "[encoded data removed]",
      "text/html": [
       "<div>                            <div id=\"da7147a3-69eb-4979-a897-f47485ed46a6\" class=\"plotly-graph-div\" style=\"height:525px; width:100%;\"></div>            <script type=\"text/javascript\">                require([\"plotly\"], function(Plotly) {                    window.PLOTLYENV=window.PLOTLYENV || {};                                    if (document.getElementById(\"da7147a3-69eb-4979-a897-f47485ed46a6\")) {                    Plotly.newPlot(                        \"da7147a3-69eb-4979-a897-f47485ed46a6\",                        [{\"diagonal\":{\"visible\":false},\"dimensions\":[{\"axis\":{\"matches\":true},\"label\":\"PC 1\",\"values\":[-1.0998711722940375,-1.0984845245727948,-0.8257328665998076,-1.1100812137581288,-0.8257328665998076,1.4273552006030434,0.4687171001583591,-0.7332977258656522,0.634629052686396,-0.3470758081961798,-0.6816778579235806,-0.46166176108920115,-0.44234932872176663,1.0335099346894194,0.05688338551472914,-0.043468446718743475,1.3925027284921405,-0.341997496488294,-0.5813260256901083,0.6501263968113783,0.41079786760956455,0.19586008248307046,-1.01870834817219,0.17654765011563614,-1.000782563525999,0.2692766591568475,-0.9468564848667751,-1.1861850140685894,-1.052402431468071,-1.0200949958934338,0.588381364759266,0.7542933172873032,-0.027971102593761118,0.6501263968113783,2.1104883160975825,-0.6983718608518609,-0.7408783784913175,-0.21971480244823322,-0.3818855846885964,-0.852961990466559,-1.2119547842692802,-0.06278087908617781,-0.9608944753256969,0.5548528762857913,0.610238308611076,-1.2594235250952475,1.3763237629156853,0.7375521554160605,0.6578231379584181,1.655540380317801,-0.2209465841661435,0.4939551624534746,0.11811537445597092,0.34905283555745226,0.4506859558098668,0.06446403814039442,-0.906713634976506,0.45838269695690653,0.33871843235599947,1.8549808213193129,0.19586008248307046,0.6578231379584181,0.8290338775985083,0.3310216912089598,1.3763237629156853,1.5700880316594246,1.7746896075668837,-0.33937906704914006,0.9370397553605347,1.3364356747153825,1.1768833219141734,0.35541243528427974,-0.8412302107247901,-1.1321786078686753,-1.0174765664542795,-0.9468564848667749,-1.2220781423617384,-0.9802069076931312,-0.34707580819617967,0.7164366974605059,-0.06785919079406344,-0.020274361446721477,-0.9852852194010172,-1.1720666960689778,1.9347569977199175,-1.1869492991384891,1.8145776957671849,1.495472990164766,1.0335099346894194,0.25639156433205296,0.6977112261587206,-1.2220781423617384,0.09169316200714588,0.8971516671602322,-0.7858447783995054,0.6295934365969967,1.9060122590066713,2.2538617033223356,0.06983621815533582,1.2162563727626508,1.655540380317801,1.4156968137641615,1.1069265113631965,1.655025342965976,1.0335099346894194,0.5356081817341691,1.016815931761139,1.5470194652039504,1.8948689095196154,1.99285551987018,0.21135742660805285,2.4931902325241495,0.976927843560837,1.6949134311662788,1.4560999393162897,0.8577786163117548,1.4156968137641615,1.9347569977199175,2.1740855269217323,0.8577786163117548,1.5869075534042523,1.8150927331190099,1.3475790242024381,1.9265452192210533,1.3364356747153825,0.976927843560837,1.7746896075668837,0.9473741585619871,1.824912098968639,1.9857884354072761,1.3804097620089584,1.615137254765674,1.0173309691129642,0.49599325597320765,0.1366595619153339,-0.6584837726515591,0.7375993143590227,0.3155243470839774,0.5374768376405225,1.176368284562349,-0.3071877199958776,-0.06785919079406344,0.4506859558098668,0.9486981421994154,-0.22741154359527269,0.8572635789599297,0.4184946087566042,0.3155243470839774,-0.3818855846885964,0.46871710015835905,-0.22741154359527269,1.6954284685181036,-0.45904333165004707,0.8976667045120573,-0.10005053784732612,-0.7807664666916198,-0.26729963179557503,-1.099871172294038,-0.04850406280814286,-0.3021094082879918,0.49827078515720863,0.13979302870631297,-0.42177367288889867,-0.42685198459678425,-0.6468253858126776,-0.7060686019989006,-0.9801391698773194,-1.1397592604943407,-0.9389321717715854,-0.9403188194928292,0.13672729973114592,-1.2518428724695825,-1.1366257937033613,0.1791660795547902,-1.01870834817219,-0.9273659868522224,-1.0650613958016213,-0.7009902902910153,0.868921965798811,-0.9004307312925267,-0.09508831466081487,-0.5015498492895035,-0.7060686019989006,-0.7009902902910153,-0.42288468768205945,-0.7009902902910153,0.8173754907596277,-1.1720666960689778,-0.5864043373979938,0.1496123945559405,-0.7394917307700738,0.13158125020744815,-1.1366257937033613,-1.1366257937033613,-0.9580732722129139,0.1791660795547902,-0.10266896728648009,-0.4613208608340481,-1.0303050373575235,-0.6629750690127046,-0.8206545548919221,-0.4616617610892011,-1.1366257937033613,-1.1366257937033613,-1.1366257937033613,-0.21971480244823322,-1.1974018014147283,-1.1366257937033613,-0.9802069076931312,-1.0200949958934338,-1.1366257937033613,-0.2989759414970126,-1.1366257937033613,-0.8811182989250925,-0.6212141138904108,-1.01870834817219,-0.9726262550674659,-1.1499693019584307,-0.2030207995199527,-1.1469338300932035,-0.2147525792617219,0.8219765272047254,0.5304621322104716,0.809678749612588,-1.1831708952291031,-0.45904333165004707,-1.1366257937033613,-1.1869492991384891,-0.9004307312925267,-0.9260420032147944,-0.9788202599718877,-0.7408783784913175,-1.1015683655586181,-0.4540811084635358,-1.0984845245727948,-1.143155831673996,-1.099871172294038,-1.092290519668373,-1.1366257937033613,-1.092290519668373,-1.092290519668373,-1.2119547842692802,-1.1720666960689778,-1.0984845245727948,-1.0869183396534314,-1.1868219182935058,-0.29949097884883763,1.655540380317801,1.7752046449187087,1.3475790242024381,1.6666837298048578,-1.1575137132144258,-1.01870834817219,-0.8990440835712831,-1.1031407681188878,-1.1366257937033613,-1.2518428724695825,-1.1366257937033613,0.17146933840775055,-0.7408783784913175,-1.092290519668373,-1.1831708952291033,-0.1824451436870848,0.5780469615578135,-0.46674007279708657,-0.8206545548919221,-1.1720666960689778,-0.5683731930495013,0.5355404439183571,0.5947409644860931,0.11608390608246584,1.786347994405764,1.4560999393162897,2.2321840490719964,1.9746450859202203,0.0196137267535809,1.8661241708063687,1.5939746378671567,0.13927799135448782,0.7381143517108479,0.09677147371503149,0.34905283555745226,-0.18752345539497048,1.1768833219141734,-1.1720666960689778,-1.1366257937033613,-1.1460421641783205,-1.1974018014147283,-1.1861850140685897,0.4987858225090338,-0.06785919079406344,-1.052402431468071,-1.1575137132144258,-1.1397592604943407,-1.1254824442163058,-1.1720666960689778,-1.0585964363724922,0.3953005234845821,0.1366595619153339,0.9375547927123595,0.3310216912089598,1.2960325491632556,0.09169316200714588,-1.1366257937033613,0.03630772968186118,-1.2195354368949454]},{\"axis\":{\"matches\":true},\"label\":\"PC 2\",\"values\":[-0.05627773494217279,0.0075986815482513795,-0.06095544710966123,0.007503751041429579,-0.06095544710966127,-0.060289002156670116,-0.030981115522930824,0.002037022594886688,-0.04814547091701891,-0.06999101413413591,-0.02329766159971409,-0.06832515764147326,-0.02781544511195106,-0.05567511010408114,-0.07811368858465362,-0.03534508429901325,-0.06245178537243702,-0.07058404939759137,-0.06606626588535405,-0.08881511210179138,-0.08429732858955406,-0.039862867811250584,0.006092753710839092,-0.08037258034077227,-0.01727395025006402,-0.027216295929399704,0.00429836699847928,0.00881615051071664,0.008060733944536484,-0.057783662779585666,-0.033240007279049445,-0.05040436267313766,-0.0760147254837857,-0.08881511210179138,-0.0760051359091492,-0.6077188510193908,-0.06305441021052918,-0.6167544180438651,-0.06983108547888515,0.004295914351005373,0.011072589619361356,-0.07585479682853491,-0.018026914168770274,-0.04663954307960655,-0.08806214818308514,-0.05326587926734834,0.7494381123788391,-0.02825229329741023,-0.6333196242554023,0.7441673649478957,-0.008966524663285288,-0.023478982802389376,-0.020420837853312484,-0.028722223766812164,-0.08505029250826028,-0.013022255779237664,0.0035101057783286827,-0.6295548046618707,-0.6272959129057524,0.7404025453543648,-0.039862867811250584,-0.6333196242554023,-0.04899454337607689,-0.08279140075214159,0.7494381123788391,-0.04402916617373518,-0.6544026139791764,-0.6144955262877465,-0.6385903716863459,0.7501910762975453,0.7532029319723703,-0.042874723486075454,-0.020285805924888933,0.009566661781948912,-0.6016951396697406,0.004298366998479169,0.008678308135700197,-0.058536626698291884,-0.06999101413413585,-0.031715296633905786,-0.07526176156507942,-0.6205192376373962,-0.05794359143483641,0.010319625700655153,0.7388966175169522,0.008922042415049862,-0.6551555778978825,-0.649131866548233,-0.05567511010408114,-0.01991229266398695,-0.6340725881741084,0.008678308135700197,-0.07827361723990435,-0.6378374077676396,-0.061708411028367494,-0.04522972378254578,-0.06932456918114478,0.7328729061673025,-0.023451476335868675,-0.643861119117289,0.7441673649478957,-0.6476259387108203,-0.04302853822223032,-0.6521437222230577,-0.05567511010408114,-0.025183040094930376,-0.640096299523758,-0.0625478939127888,0.7396495814356586,-0.05581014203250468,-0.08053250899602295,0.7283551226550652,-0.639343335605052,-0.6528966861417638,0.7479321845414267,0.7592266433220198,-0.6476259387108203,0.7388966175169522,0.7343788340047152,0.7592266433220198,-0.0633008578314951,0.7411555092730707,-0.05878307431925771,-0.11290995750039044,0.7501910762975453,-0.639343335605052,-0.6544026139791764,-0.04001668254740545,-0.056581888758942316,-0.07083049701855723,-0.04127959456448197,-0.6513907583043514,0.7562147876471954,-0.023761361213944926,-0.07961961642206601,-0.608471814938097,-0.6348255520928148,-0.04212175956736926,-0.024401251406612538,-0.643108155198583,-0.07074397805284215,-0.07526176156507942,-0.08505029250826028,-0.051253435132195574,-0.07224990589025451,-0.6370844438489334,-0.6288018407431648,-0.04212175956736926,-0.06983108547888515,-0.030981115522930817,-0.07224990589025451,0.7434144010291895,-0.6122366345316281,0.758473679403314,-0.6190133097999838,-0.06230144629182295,-0.0714969419715483,-0.0562777349421732,-0.03242933716454008,-0.07133701331629756,-0.6303077685805772,0.7727799938587319,-0.06907812156017896,-0.06848508629672345,-0.02113487838394675,-0.0632143388657799,0.0034295888159058684,-0.05552477102346698,0.004586825873426657,-0.059289590616998095,-0.017653400907868235,0.011825553538067624,0.7968748392573309,-0.6242840572309276,0.006092753710839092,-0.004627378368213146,-0.05643766359742394,-0.06380737412923539,-0.049747507294783125,-0.060042554535704326,-0.010010400104412807,-0.0675721937227665,-0.0632143388657799,-0.06380737412923539,-0.005916250330785009,-0.06380737412923539,-0.636331479930227,0.010319625700655153,-0.06547323062189861,-0.024957404173281107,0.0008220062798955616,-0.07902658115861051,0.7968748392573309,0.7968748392573309,0.004927210699441884,-0.6242840572309276,-0.07510183290982873,-0.005690227164995578,0.005997823204017227,-0.001295000061828081,-0.06154848237311674,-0.06832515764147273,0.7968748392573309,0.7968748392573309,0.7968748392573309,-0.6167544180438651,0.009444994211679325,0.7968748392573309,-0.058536626698291884,-0.057783662779585666,0.7968748392573309,0.7810625969645004,0.7968748392573309,-0.019532842006182646,-0.06531330196664788,0.006092753710839092,0.006554806107124077,0.008256714960135877,-0.032333228624188325,0.008151429845621415,-0.007751508348294072,-0.03073809970259465,-0.08655622034567272,-0.09182696777661627,0.008717708854245191,-0.6122366345316281,0.7968748392573309,0.008922042415049862,-0.060042554535704326,-0.015864130953003232,0.00533978979213287,-0.06305441021052918,0.006639573945859454,-0.0032337248360567983,0.007598681548251514,0.007947500476085672,-0.0562777349421732,0.008813697863242716,0.7968748392573309,0.008813697863242716,0.008813697863242716,0.011072589619361356,0.010319625700655153,0.007598681548251514,-0.0016155226933882842,0.00890439376432769,-0.6152484902064528,0.7441673649478957,0.7419084731917768,-0.05878307431925771,-0.06480678566890749,0.00869203029297305,0.006092753710839092,0.0038338619547204356,0.007177292097926165,0.7968748392573309,0.011825553538067624,0.7968748392573309,-0.07977954507731673,-0.06305441021052918,0.008813697863242716,0.008717708854245212,-0.07359590507241624,-0.63181369641799,-0.06773212237801722,-0.06154848237311674,0.010319625700655153,-0.011404053636569145,-0.08714925560912822,-0.04739250699831275,-0.03835693997383819,-0.06706567742502621,0.7479321845414267,-0.060327925544742256,0.7381436535982462,-0.6212722015561026,-0.06857160526243865,-0.04828050284544263,-0.6235310933122211,0.7614855350781388,-0.0788666525033598,-0.028722223766812164,-0.07300286980896076,0.7532029319723703,0.010319625700655153,0.7968748392573309,0.008027889290565839,0.009444994211679325,0.008816150510716606,0.7660033185903761,-0.07526176156507942,0.008060733944536484,0.00869203029297305,-0.05552477102346698,-0.012099311359472158,0.010319625700655153,0.006845717629545313,-0.04362768740478166,-0.07961961642206601,0.7577207154846075,-0.08279140075214159,-0.6453670469547014,-0.07827361723990435,0.7968748392573309,-0.03685101213642571,-0.05401884318605453]}],\"hovertemplate\":\"%{xaxis.title.text}=%{x}<br>%{yaxis.title.text}=%{y}<br>Median Price=%{marker.color}<extra></extra>\",\"legendgroup\":\"\",\"marker\":{\"color\":[1,1,1,1,1,0,0,1,0,1,1,1,1,0,1,1,0,1,1,0,0,1,1,1,1,0,1,1,1,1,0,0,1,0,0,1,1,1,1,1,1,1,1,0,0,1,0,0,0,0,1,0,1,0,0,1,1,0,0,0,1,0,0,0,0,0,0,1,0,0,0,0,1,1,1,1,1,1,1,0,1,1,1,1,0,1,0,0,0,0,0,1,1,0,1,0,0,0,1,0,0,0,0,0,0,0,0,0,0,0,1,0,0,0,0,0,0,0,0,0,0,0,0,0,0,0,0,0,0,0,0,0,0,0,1,1,0,0,0,0,1,1,0,0,1,0,0,0,1,0,1,0,1,0,1,1,1,1,1,1,0,1,1,1,1,1,1,1,1,1,1,1,1,1,1,1,1,1,0,1,1,1,1,1,1,1,0,1,1,1,1,1,1,1,1,1,1,1,1,1,1,1,1,1,1,1,1,1,1,1,1,1,1,1,1,1,1,1,1,1,1,0,0,0,1,1,1,1,1,1,1,1,1,1,1,1,1,1,1,1,1,1,1,1,1,1,1,0,0,0,0,1,1,1,1,1,1,1,1,1,1,1,1,0,1,1,1,1,0,0,1,0,0,0,0,1,0,0,1,0,1,0,1,0,1,1,1,1,1,0,1,1,1,1,1,1,1,0,1,0,0,0,1,1,1,1],\"coloraxis\":\"coloraxis\",\"symbol\":\"circle\"},\"name\":\"\",\"showlegend\":false,\"type\":\"splom\"}],                        {\"coloraxis\":{\"colorbar\":{\"title\":{\"text\":\"Median Price\"}},\"colorscale\":[[0.0,\"#0d0887\"],[0.1111111111111111,\"#46039f\"],[0.2222222222222222,\"#7201a8\"],[0.3333333333333333,\"#9c179e\"],[0.4444444444444444,\"#bd3786\"],[0.5555555555555556,\"#d8576b\"],[0.6666666666666666,\"#ed7953\"],[0.7777777777777778,\"#fb9f3a\"],[0.8888888888888888,\"#fdca26\"],[1.0,\"#f0f921\"]]},\"dragmode\":\"select\",\"legend\":{\"tracegroupgap\":0},\"template\":{\"data\":{\"bar\":[{\"error_x\":{\"color\":\"#2a3f5f\"},\"error_y\":{\"color\":\"#2a3f5f\"},\"marker\":{\"line\":{\"color\":\"#E5ECF6\",\"width\":0.5},\"pattern\":{\"fillmode\":\"overlay\",\"size\":10,\"solidity\":0.2}},\"type\":\"bar\"}],\"barpolar\":[{\"marker\":{\"line\":{\"color\":\"#E5ECF6\",\"width\":0.5},\"pattern\":{\"fillmode\":\"overlay\",\"size\":10,\"solidity\":0.2}},\"type\":\"barpolar\"}],\"carpet\":[{\"aaxis\":{\"endlinecolor\":\"#2a3f5f\",\"gridcolor\":\"white\",\"linecolor\":\"white\",\"minorgridcolor\":\"white\",\"startlinecolor\":\"#2a3f5f\"},\"baxis\":{\"endlinecolor\":\"#2a3f5f\",\"gridcolor\":\"white\",\"linecolor\":\"white\",\"minorgridcolor\":\"white\",\"startlinecolor\":\"#2a3f5f\"},\"type\":\"carpet\"}],\"choropleth\":[{\"colorbar\":{\"outlinewidth\":0,\"ticks\":\"\"},\"type\":\"choropleth\"}],\"contour\":[{\"colorbar\":{\"outlinewidth\":0,\"ticks\":\"\"},\"colorscale\":[[0.0,\"#0d0887\"],[0.1111111111111111,\"#46039f\"],[0.2222222222222222,\"#7201a8\"],[0.3333333333333333,\"#9c179e\"],[0.4444444444444444,\"#bd3786\"],[0.5555555555555556,\"#d8576b\"],[0.6666666666666666,\"#ed7953\"],[0.7777777777777778,\"#fb9f3a\"],[0.8888888888888888,\"#fdca26\"],[1.0,\"#f0f921\"]],\"type\":\"contour\"}],\"contourcarpet\":[{\"colorbar\":{\"outlinewidth\":0,\"ticks\":\"\"},\"type\":\"contourcarpet\"}],\"heatmap\":[{\"colorbar\":{\"outlinewidth\":0,\"ticks\":\"\"},\"colorscale\":[[0.0,\"#0d0887\"],[0.1111111111111111,\"#46039f\"],[0.2222222222222222,\"#7201a8\"],[0.3333333333333333,\"#9c179e\"],[0.4444444444444444,\"#bd3786\"],[0.5555555555555556,\"#d8576b\"],[0.6666666666666666,\"#ed7953\"],[0.7777777777777778,\"#fb9f3a\"],[0.8888888888888888,\"#fdca26\"],[1.0,\"#f0f921\"]],\"type\":\"heatmap\"}],\"heatmapgl\":[{\"colorbar\":{\"outlinewidth\":0,\"ticks\":\"\"},\"colorscale\":[[0.0,\"#0d0887\"],[0.1111111111111111,\"#46039f\"],[0.2222222222222222,\"#7201a8\"],[0.3333333333333333,\"#9c179e\"],[0.4444444444444444,\"#bd3786\"],[0.5555555555555556,\"#d8576b\"],[0.6666666666666666,\"#ed7953\"],[0.7777777777777778,\"#fb9f3a\"],[0.8888888888888888,\"#fdca26\"],[1.0,\"#f0f921\"]],\"type\":\"heatmapgl\"}],\"histogram\":[{\"marker\":{\"pattern\":{\"fillmode\":\"overlay\",\"size\":10,\"solidity\":0.2}},\"type\":\"histogram\"}],\"histogram2d\":[{\"colorbar\":{\"outlinewidth\":0,\"ticks\":\"\"},\"colorscale\":[[0.0,\"#0d0887\"],[0.1111111111111111,\"#46039f\"],[0.2222222222222222,\"#7201a8\"],[0.3333333333333333,\"#9c179e\"],[0.4444444444444444,\"#bd3786\"],[0.5555555555555556,\"#d8576b\"],[0.6666666666666666,\"#ed7953\"],[0.7777777777777778,\"#fb9f3a\"],[0.8888888888888888,\"#fdca26\"],[1.0,\"#f0f921\"]],\"type\":\"histogram2d\"}],\"histogram2dcontour\":[{\"colorbar\":{\"outlinewidth\":0,\"ticks\":\"\"},\"colorscale\":[[0.0,\"#0d0887\"],[0.1111111111111111,\"#46039f\"],[0.2222222222222222,\"#7201a8\"],[0.3333333333333333,\"#9c179e\"],[0.4444444444444444,\"#bd3786\"],[0.5555555555555556,\"#d8576b\"],[0.6666666666666666,\"#ed7953\"],[0.7777777777777778,\"#fb9f3a\"],[0.8888888888888888,\"#fdca26\"],[1.0,\"#f0f921\"]],\"type\":\"histogram2dcontour\"}],\"mesh3d\":[{\"colorbar\":{\"outlinewidth\":0,\"ticks\":\"\"},\"type\":\"mesh3d\"}],\"parcoords\":[{\"line\":{\"colorbar\":{\"outlinewidth\":0,\"ticks\":\"\"}},\"type\":\"parcoords\"}],\"pie\":[{\"automargin\":true,\"type\":\"pie\"}],\"scatter\":[{\"marker\":{\"colorbar\":{\"outlinewidth\":0,\"ticks\":\"\"}},\"type\":\"scatter\"}],\"scatter3d\":[{\"line\":{\"colorbar\":{\"outlinewidth\":0,\"ticks\":\"\"}},\"marker\":{\"colorbar\":{\"outlinewidth\":0,\"ticks\":\"\"}},\"type\":\"scatter3d\"}],\"scattercarpet\":[{\"marker\":{\"colorbar\":{\"outlinewidth\":0,\"ticks\":\"\"}},\"type\":\"scattercarpet\"}],\"scattergeo\":[{\"marker\":{\"colorbar\":{\"outlinewidth\":0,\"ticks\":\"\"}},\"type\":\"scattergeo\"}],\"scattergl\":[{\"marker\":{\"colorbar\":{\"outlinewidth\":0,\"ticks\":\"\"}},\"type\":\"scattergl\"}],\"scattermapbox\":[{\"marker\":{\"colorbar\":{\"outlinewidth\":0,\"ticks\":\"\"}},\"type\":\"scattermapbox\"}],\"scatterpolar\":[{\"marker\":{\"colorbar\":{\"outlinewidth\":0,\"ticks\":\"\"}},\"type\":\"scatterpolar\"}],\"scatterpolargl\":[{\"marker\":{\"colorbar\":{\"outlinewidth\":0,\"ticks\":\"\"}},\"type\":\"scatterpolargl\"}],\"scatterternary\":[{\"marker\":{\"colorbar\":{\"outlinewidth\":0,\"ticks\":\"\"}},\"type\":\"scatterternary\"}],\"surface\":[{\"colorbar\":{\"outlinewidth\":0,\"ticks\":\"\"},\"colorscale\":[[0.0,\"#0d0887\"],[0.1111111111111111,\"#46039f\"],[0.2222222222222222,\"#7201a8\"],[0.3333333333333333,\"#9c179e\"],[0.4444444444444444,\"#bd3786\"],[0.5555555555555556,\"#d8576b\"],[0.6666666666666666,\"#ed7953\"],[0.7777777777777778,\"#fb9f3a\"],[0.8888888888888888,\"#fdca26\"],[1.0,\"#f0f921\"]],\"type\":\"surface\"}],\"table\":[{\"cells\":{\"fill\":{\"color\":\"#EBF0F8\"},\"line\":{\"color\":\"white\"}},\"header\":{\"fill\":{\"color\":\"#C8D4E3\"},\"line\":{\"color\":\"white\"}},\"type\":\"table\"}]},\"layout\":{\"annotationdefaults\":{\"arrowcolor\":\"#2a3f5f\",\"arrowhead\":0,\"arrowwidth\":1},\"autotypenumbers\":\"strict\",\"coloraxis\":{\"colorbar\":{\"outlinewidth\":0,\"ticks\":\"\"}},\"colorscale\":{\"diverging\":[[0,\"#8e0152\"],[0.1,\"#c51b7d\"],[0.2,\"#de77ae\"],[0.3,\"#f1b6da\"],[0.4,\"#fde0ef\"],[0.5,\"#f7f7f7\"],[0.6,\"#e6f5d0\"],[0.7,\"#b8e186\"],[0.8,\"#7fbc41\"],[0.9,\"#4d9221\"],[1,\"#276419\"]],\"sequential\":[[0.0,\"#0d0887\"],[0.1111111111111111,\"#46039f\"],[0.2222222222222222,\"#7201a8\"],[0.3333333333333333,\"#9c179e\"],[0.4444444444444444,\"#bd3786\"],[0.5555555555555556,\"#d8576b\"],[0.6666666666666666,\"#ed7953\"],[0.7777777777777778,\"#fb9f3a\"],[0.8888888888888888,\"#fdca26\"],[1.0,\"#f0f921\"]],\"sequentialminus\":[[0.0,\"#0d0887\"],[0.1111111111111111,\"#46039f\"],[0.2222222222222222,\"#7201a8\"],[0.3333333333333333,\"#9c179e\"],[0.4444444444444444,\"#bd3786\"],[0.5555555555555556,\"#d8576b\"],[0.6666666666666666,\"#ed7953\"],[0.7777777777777778,\"#fb9f3a\"],[0.8888888888888888,\"#fdca26\"],[1.0,\"#f0f921\"]]},\"colorway\":[\"#636efa\",\"#EF553B\",\"#00cc96\",\"#ab63fa\",\"#FFA15A\",\"#19d3f3\",\"#FF6692\",\"#B6E880\",\"#FF97FF\",\"#FECB52\"],\"font\":{\"color\":\"#2a3f5f\"},\"geo\":{\"bgcolor\":\"white\",\"lakecolor\":\"white\",\"landcolor\":\"#E5ECF6\",\"showlakes\":true,\"showland\":true,\"subunitcolor\":\"white\"},\"hoverlabel\":{\"align\":\"left\"},\"hovermode\":\"closest\",\"mapbox\":{\"style\":\"light\"},\"paper_bgcolor\":\"white\",\"plot_bgcolor\":\"#E5ECF6\",\"polar\":{\"angularaxis\":{\"gridcolor\":\"white\",\"linecolor\":\"white\",\"ticks\":\"\"},\"bgcolor\":\"#E5ECF6\",\"radialaxis\":{\"gridcolor\":\"white\",\"linecolor\":\"white\",\"ticks\":\"\"}},\"scene\":{\"xaxis\":{\"backgroundcolor\":\"#E5ECF6\",\"gridcolor\":\"white\",\"gridwidth\":2,\"linecolor\":\"white\",\"showbackground\":true,\"ticks\":\"\",\"zerolinecolor\":\"white\"},\"yaxis\":{\"backgroundcolor\":\"#E5ECF6\",\"gridcolor\":\"white\",\"gridwidth\":2,\"linecolor\":\"white\",\"showbackground\":true,\"ticks\":\"\",\"zerolinecolor\":\"white\"},\"zaxis\":{\"backgroundcolor\":\"#E5ECF6\",\"gridcolor\":\"white\",\"gridwidth\":2,\"linecolor\":\"white\",\"showbackground\":true,\"ticks\":\"\",\"zerolinecolor\":\"white\"}},\"shapedefaults\":{\"line\":{\"color\":\"#2a3f5f\"}},\"ternary\":{\"aaxis\":{\"gridcolor\":\"white\",\"linecolor\":\"white\",\"ticks\":\"\"},\"baxis\":{\"gridcolor\":\"white\",\"linecolor\":\"white\",\"ticks\":\"\"},\"bgcolor\":\"#E5ECF6\",\"caxis\":{\"gridcolor\":\"white\",\"linecolor\":\"white\",\"ticks\":\"\"}},\"title\":{\"x\":0.05},\"xaxis\":{\"automargin\":true,\"gridcolor\":\"white\",\"linecolor\":\"white\",\"ticks\":\"\",\"title\":{\"standoff\":15},\"zerolinecolor\":\"white\",\"zerolinewidth\":2},\"yaxis\":{\"automargin\":true,\"gridcolor\":\"white\",\"linecolor\":\"white\",\"ticks\":\"\",\"title\":{\"standoff\":15},\"zerolinecolor\":\"white\",\"zerolinewidth\":2}}},\"title\":{\"text\":\"Total Explained Variance: 61.80%\"}},                        {\"responsive\": true}                    ).then(function(){\n",
       "                            \n",
       "var gd = document.getElementById('da7147a3-69eb-4979-a897-f47485ed46a6');\n",
       "var x = new MutationObserver(function (mutations, observer) {{\n",
       "        var display = window.getComputedStyle(gd).display;\n",
       "        if (!display || display === 'none') {{\n",
       "            console.log([gd, 'removed!']);\n",
       "            Plotly.purge(gd);\n",
       "            observer.disconnect();\n",
       "        }}\n",
       "}});\n",
       "\n",
       "// Listen for the removal of the full notebook cells\n",
       "var notebookContainer = gd.closest('#notebook-container');\n",
       "if (notebookContainer) {{\n",
       "    x.observe(notebookContainer, {childList: true});\n",
       "}}\n",
       "\n",
       "// Listen for the clearing of the current output cell\n",
       "var outputEl = gd.closest('.output');\n",
       "if (outputEl) {{\n",
       "    x.observe(outputEl, {childList: true});\n",
       "}}\n",
       "\n",
       "                        })                };                });            </script>        </div>"
      ]
     },
     "metadata": {},
     "output_type": "display_data"
    }
   ],
   "source": [
    "#Visualize PCA with 2 components\n",
    "n_components = 2\n",
    "\n",
    "pca = PCA(n_components=n_components)\n",
    "components = pca.fit_transform(X)\n",
    "\n",
    "total_var = pca.explained_variance_ratio_.sum() * 100\n",
    "\n",
    "labels = {str(i): f\"PC {i+1}\" for i in range(n_components)}\n",
    "labels['color'] = 'Median Price'\n",
    "\n",
    "fig = px.scatter_matrix(\n",
    "    components,\n",
    "    color=y_km,\n",
    "    dimensions=range(n_components),\n",
    "    labels=labels,\n",
    "    title=f'Total Explained Variance: {total_var:.2f}%',\n",
    ")\n",
    "fig.update_traces(diagonal_visible=False)\n",
    "fig.show()"
   ]
  },
  {
   "cell_type": "code",
   "execution_count": 156,
   "id": "77da5878-6687-4b02-b394-59b314d80f0e",
   "metadata": {},
   "outputs": [
    {
     "data": {
      "application/vnd.plotly.v1+json": {
       "config": {
        "plotlyServerURL": "https://plot.ly"
       },
       "data": [
        {
         "hovertemplate": "0=%{x}<br>1=%{y}<br>color=%{marker.color}<extra></extra>",
         "legendgroup": "",
         "marker": {
          "color": [
           1,
           1,
           1,
           1,
           1,
           0,
           0,
           1,
           0,
           1,
           1,
           1,
           1,
           0,
           1,
           1,
           0,
           1,
           1,
           0,
           0,
           1,
           1,
           1,
           1,
           0,
           1,
           1,
           1,
           1,
           0,
           0,
           1,
           0,
           0,
           1,
           1,
           1,
           1,
           1,
           1,
           1,
           1,
           0,
           0,
           1,
           0,
           0,
           0,
           0,
           1,
           0,
           1,
           0,
           0,
           1,
           1,
           0,
           0,
           0,
           1,
           0,
           0,
           0,
           0,
           0,
           0,
           1,
           0,
           0,
           0,
           0,
           1,
           1,
           1,
           1,
           1,
           1,
           1,
           0,
           1,
           1,
           1,
           1,
           0,
           1,
           0,
           0,
           0,
           0,
           0,
           1,
           1,
           0,
           1,
           0,
           0,
           0,
           1,
           0,
           0,
           0,
           0,
           0,
           0,
           0,
           0,
           0,
           0,
           0,
           1,
           0,
           0,
           0,
           0,
           0,
           0,
           0,
           0,
           0,
           0,
           0,
           0,
           0,
           0,
           0,
           0,
           0,
           0,
           0,
           0,
           0,
           0,
           0,
           1,
           1,
           0,
           0,
           0,
           0,
           1,
           1,
           0,
           0,
           1,
           0,
           0,
           0,
           1,
           0,
           1,
           0,
           1,
           0,
           1,
           1,
           1,
           1,
           1,
           1,
           0,
           1,
           1,
           1,
           1,
           1,
           1,
           1,
           1,
           1,
           1,
           1,
           1,
           1,
           1,
           1,
           1,
           1,
           0,
           1,
           1,
           1,
           1,
           1,
           1,
           1,
           0,
           1,
           1,
           1,
           1,
           1,
           1,
           1,
           1,
           1,
           1,
           1,
           1,
           1,
           1,
           1,
           1,
           1,
           1,
           1,
           1,
           1,
           1,
           1,
           1,
           1,
           1,
           1,
           1,
           1,
           1,
           1,
           1,
           1,
           1,
           0,
           0,
           0,
           1,
           1,
           1,
           1,
           1,
           1,
           1,
           1,
           1,
           1,
           1,
           1,
           1,
           1,
           1,
           1,
           1,
           1,
           1,
           1,
           1,
           1,
           1,
           0,
           0,
           0,
           0,
           1,
           1,
           1,
           1,
           1,
           1,
           1,
           1,
           1,
           1,
           1,
           1,
           0,
           1,
           1,
           1,
           1,
           0,
           0,
           1,
           0,
           0,
           0,
           0,
           1,
           0,
           0,
           1,
           0,
           1,
           0,
           1,
           0,
           1,
           1,
           1,
           1,
           1,
           0,
           1,
           1,
           1,
           1,
           1,
           1,
           1,
           0,
           1,
           0,
           0,
           0,
           1,
           1,
           1,
           1
          ],
          "coloraxis": "coloraxis",
          "symbol": "circle"
         },
         "mode": "markers",
         "name": "",
         "orientation": "v",
         "showlegend": false,
         "type": "scatter",
         "x": [
          -1.0998711722940375,
          -1.0984845245727948,
          -0.8257328665998076,
          -1.1100812137581288,
          -0.8257328665998076,
          1.4273552006030434,
          0.4687171001583591,
          -0.7332977258656522,
          0.634629052686396,
          -0.3470758081961798,
          -0.6816778579235806,
          -0.46166176108920115,
          -0.44234932872176663,
          1.0335099346894194,
          0.05688338551472914,
          -0.043468446718743475,
          1.3925027284921405,
          -0.341997496488294,
          -0.5813260256901083,
          0.6501263968113783,
          0.41079786760956455,
          0.19586008248307046,
          -1.01870834817219,
          0.17654765011563614,
          -1.000782563525999,
          0.2692766591568475,
          -0.9468564848667751,
          -1.1861850140685894,
          -1.052402431468071,
          -1.0200949958934338,
          0.588381364759266,
          0.7542933172873032,
          -0.027971102593761118,
          0.6501263968113783,
          2.1104883160975825,
          -0.6983718608518609,
          -0.7408783784913175,
          -0.21971480244823322,
          -0.3818855846885964,
          -0.852961990466559,
          -1.2119547842692802,
          -0.06278087908617781,
          -0.9608944753256969,
          0.5548528762857913,
          0.610238308611076,
          -1.2594235250952475,
          1.3763237629156853,
          0.7375521554160605,
          0.6578231379584181,
          1.655540380317801,
          -0.2209465841661435,
          0.4939551624534746,
          0.11811537445597092,
          0.34905283555745226,
          0.4506859558098668,
          0.06446403814039442,
          -0.906713634976506,
          0.45838269695690653,
          0.33871843235599947,
          1.8549808213193129,
          0.19586008248307046,
          0.6578231379584181,
          0.8290338775985083,
          0.3310216912089598,
          1.3763237629156853,
          1.5700880316594246,
          1.7746896075668837,
          -0.33937906704914006,
          0.9370397553605347,
          1.3364356747153825,
          1.1768833219141734,
          0.35541243528427974,
          -0.8412302107247901,
          -1.1321786078686753,
          -1.0174765664542795,
          -0.9468564848667749,
          -1.2220781423617384,
          -0.9802069076931312,
          -0.34707580819617967,
          0.7164366974605059,
          -0.06785919079406344,
          -0.020274361446721477,
          -0.9852852194010172,
          -1.1720666960689778,
          1.9347569977199175,
          -1.1869492991384891,
          1.8145776957671849,
          1.495472990164766,
          1.0335099346894194,
          0.25639156433205296,
          0.6977112261587206,
          -1.2220781423617384,
          0.09169316200714588,
          0.8971516671602322,
          -0.7858447783995054,
          0.6295934365969967,
          1.9060122590066713,
          2.2538617033223356,
          0.06983621815533582,
          1.2162563727626508,
          1.655540380317801,
          1.4156968137641615,
          1.1069265113631965,
          1.655025342965976,
          1.0335099346894194,
          0.5356081817341691,
          1.016815931761139,
          1.5470194652039504,
          1.8948689095196154,
          1.99285551987018,
          0.21135742660805285,
          2.4931902325241495,
          0.976927843560837,
          1.6949134311662788,
          1.4560999393162897,
          0.8577786163117548,
          1.4156968137641615,
          1.9347569977199175,
          2.1740855269217323,
          0.8577786163117548,
          1.5869075534042523,
          1.8150927331190099,
          1.3475790242024381,
          1.9265452192210533,
          1.3364356747153825,
          0.976927843560837,
          1.7746896075668837,
          0.9473741585619871,
          1.824912098968639,
          1.9857884354072761,
          1.3804097620089584,
          1.615137254765674,
          1.0173309691129642,
          0.49599325597320765,
          0.1366595619153339,
          -0.6584837726515591,
          0.7375993143590227,
          0.3155243470839774,
          0.5374768376405225,
          1.176368284562349,
          -0.3071877199958776,
          -0.06785919079406344,
          0.4506859558098668,
          0.9486981421994154,
          -0.22741154359527269,
          0.8572635789599297,
          0.4184946087566042,
          0.3155243470839774,
          -0.3818855846885964,
          0.46871710015835905,
          -0.22741154359527269,
          1.6954284685181036,
          -0.45904333165004707,
          0.8976667045120573,
          -0.10005053784732612,
          -0.7807664666916198,
          -0.26729963179557503,
          -1.099871172294038,
          -0.04850406280814286,
          -0.3021094082879918,
          0.49827078515720863,
          0.13979302870631297,
          -0.42177367288889867,
          -0.42685198459678425,
          -0.6468253858126776,
          -0.7060686019989006,
          -0.9801391698773194,
          -1.1397592604943407,
          -0.9389321717715854,
          -0.9403188194928292,
          0.13672729973114592,
          -1.2518428724695825,
          -1.1366257937033613,
          0.1791660795547902,
          -1.01870834817219,
          -0.9273659868522224,
          -1.0650613958016213,
          -0.7009902902910153,
          0.868921965798811,
          -0.9004307312925267,
          -0.09508831466081487,
          -0.5015498492895035,
          -0.7060686019989006,
          -0.7009902902910153,
          -0.42288468768205945,
          -0.7009902902910153,
          0.8173754907596277,
          -1.1720666960689778,
          -0.5864043373979938,
          0.1496123945559405,
          -0.7394917307700738,
          0.13158125020744815,
          -1.1366257937033613,
          -1.1366257937033613,
          -0.9580732722129139,
          0.1791660795547902,
          -0.10266896728648009,
          -0.4613208608340481,
          -1.0303050373575235,
          -0.6629750690127046,
          -0.8206545548919221,
          -0.4616617610892011,
          -1.1366257937033613,
          -1.1366257937033613,
          -1.1366257937033613,
          -0.21971480244823322,
          -1.1974018014147283,
          -1.1366257937033613,
          -0.9802069076931312,
          -1.0200949958934338,
          -1.1366257937033613,
          -0.2989759414970126,
          -1.1366257937033613,
          -0.8811182989250925,
          -0.6212141138904108,
          -1.01870834817219,
          -0.9726262550674659,
          -1.1499693019584307,
          -0.2030207995199527,
          -1.1469338300932035,
          -0.2147525792617219,
          0.8219765272047254,
          0.5304621322104716,
          0.809678749612588,
          -1.1831708952291031,
          -0.45904333165004707,
          -1.1366257937033613,
          -1.1869492991384891,
          -0.9004307312925267,
          -0.9260420032147944,
          -0.9788202599718877,
          -0.7408783784913175,
          -1.1015683655586181,
          -0.4540811084635358,
          -1.0984845245727948,
          -1.143155831673996,
          -1.099871172294038,
          -1.092290519668373,
          -1.1366257937033613,
          -1.092290519668373,
          -1.092290519668373,
          -1.2119547842692802,
          -1.1720666960689778,
          -1.0984845245727948,
          -1.0869183396534314,
          -1.1868219182935058,
          -0.29949097884883763,
          1.655540380317801,
          1.7752046449187087,
          1.3475790242024381,
          1.6666837298048578,
          -1.1575137132144258,
          -1.01870834817219,
          -0.8990440835712831,
          -1.1031407681188878,
          -1.1366257937033613,
          -1.2518428724695825,
          -1.1366257937033613,
          0.17146933840775055,
          -0.7408783784913175,
          -1.092290519668373,
          -1.1831708952291033,
          -0.1824451436870848,
          0.5780469615578135,
          -0.46674007279708657,
          -0.8206545548919221,
          -1.1720666960689778,
          -0.5683731930495013,
          0.5355404439183571,
          0.5947409644860931,
          0.11608390608246584,
          1.786347994405764,
          1.4560999393162897,
          2.2321840490719964,
          1.9746450859202203,
          0.0196137267535809,
          1.8661241708063687,
          1.5939746378671567,
          0.13927799135448782,
          0.7381143517108479,
          0.09677147371503149,
          0.34905283555745226,
          -0.18752345539497048,
          1.1768833219141734,
          -1.1720666960689778,
          -1.1366257937033613,
          -1.1460421641783205,
          -1.1974018014147283,
          -1.1861850140685897,
          0.4987858225090338,
          -0.06785919079406344,
          -1.052402431468071,
          -1.1575137132144258,
          -1.1397592604943407,
          -1.1254824442163058,
          -1.1720666960689778,
          -1.0585964363724922,
          0.3953005234845821,
          0.1366595619153339,
          0.9375547927123595,
          0.3310216912089598,
          1.2960325491632556,
          0.09169316200714588,
          -1.1366257937033613,
          0.03630772968186118,
          -1.2195354368949454
         ],
         "xaxis": "x",
         "y": [
          -0.05627773494217279,
          0.0075986815482513795,
          -0.06095544710966123,
          0.007503751041429579,
          -0.06095544710966127,
          -0.060289002156670116,
          -0.030981115522930824,
          0.002037022594886688,
          -0.04814547091701891,
          -0.06999101413413591,
          -0.02329766159971409,
          -0.06832515764147326,
          -0.02781544511195106,
          -0.05567511010408114,
          -0.07811368858465362,
          -0.03534508429901325,
          -0.06245178537243702,
          -0.07058404939759137,
          -0.06606626588535405,
          -0.08881511210179138,
          -0.08429732858955406,
          -0.039862867811250584,
          0.006092753710839092,
          -0.08037258034077227,
          -0.01727395025006402,
          -0.027216295929399704,
          0.00429836699847928,
          0.00881615051071664,
          0.008060733944536484,
          -0.057783662779585666,
          -0.033240007279049445,
          -0.05040436267313766,
          -0.0760147254837857,
          -0.08881511210179138,
          -0.0760051359091492,
          -0.6077188510193908,
          -0.06305441021052918,
          -0.6167544180438651,
          -0.06983108547888515,
          0.004295914351005373,
          0.011072589619361356,
          -0.07585479682853491,
          -0.018026914168770274,
          -0.04663954307960655,
          -0.08806214818308514,
          -0.05326587926734834,
          0.7494381123788391,
          -0.02825229329741023,
          -0.6333196242554023,
          0.7441673649478957,
          -0.008966524663285288,
          -0.023478982802389376,
          -0.020420837853312484,
          -0.028722223766812164,
          -0.08505029250826028,
          -0.013022255779237664,
          0.0035101057783286827,
          -0.6295548046618707,
          -0.6272959129057524,
          0.7404025453543648,
          -0.039862867811250584,
          -0.6333196242554023,
          -0.04899454337607689,
          -0.08279140075214159,
          0.7494381123788391,
          -0.04402916617373518,
          -0.6544026139791764,
          -0.6144955262877465,
          -0.6385903716863459,
          0.7501910762975453,
          0.7532029319723703,
          -0.042874723486075454,
          -0.020285805924888933,
          0.009566661781948912,
          -0.6016951396697406,
          0.004298366998479169,
          0.008678308135700197,
          -0.058536626698291884,
          -0.06999101413413585,
          -0.031715296633905786,
          -0.07526176156507942,
          -0.6205192376373962,
          -0.05794359143483641,
          0.010319625700655153,
          0.7388966175169522,
          0.008922042415049862,
          -0.6551555778978825,
          -0.649131866548233,
          -0.05567511010408114,
          -0.01991229266398695,
          -0.6340725881741084,
          0.008678308135700197,
          -0.07827361723990435,
          -0.6378374077676396,
          -0.061708411028367494,
          -0.04522972378254578,
          -0.06932456918114478,
          0.7328729061673025,
          -0.023451476335868675,
          -0.643861119117289,
          0.7441673649478957,
          -0.6476259387108203,
          -0.04302853822223032,
          -0.6521437222230577,
          -0.05567511010408114,
          -0.025183040094930376,
          -0.640096299523758,
          -0.0625478939127888,
          0.7396495814356586,
          -0.05581014203250468,
          -0.08053250899602295,
          0.7283551226550652,
          -0.639343335605052,
          -0.6528966861417638,
          0.7479321845414267,
          0.7592266433220198,
          -0.6476259387108203,
          0.7388966175169522,
          0.7343788340047152,
          0.7592266433220198,
          -0.0633008578314951,
          0.7411555092730707,
          -0.05878307431925771,
          -0.11290995750039044,
          0.7501910762975453,
          -0.639343335605052,
          -0.6544026139791764,
          -0.04001668254740545,
          -0.056581888758942316,
          -0.07083049701855723,
          -0.04127959456448197,
          -0.6513907583043514,
          0.7562147876471954,
          -0.023761361213944926,
          -0.07961961642206601,
          -0.608471814938097,
          -0.6348255520928148,
          -0.04212175956736926,
          -0.024401251406612538,
          -0.643108155198583,
          -0.07074397805284215,
          -0.07526176156507942,
          -0.08505029250826028,
          -0.051253435132195574,
          -0.07224990589025451,
          -0.6370844438489334,
          -0.6288018407431648,
          -0.04212175956736926,
          -0.06983108547888515,
          -0.030981115522930817,
          -0.07224990589025451,
          0.7434144010291895,
          -0.6122366345316281,
          0.758473679403314,
          -0.6190133097999838,
          -0.06230144629182295,
          -0.0714969419715483,
          -0.0562777349421732,
          -0.03242933716454008,
          -0.07133701331629756,
          -0.6303077685805772,
          0.7727799938587319,
          -0.06907812156017896,
          -0.06848508629672345,
          -0.02113487838394675,
          -0.0632143388657799,
          0.0034295888159058684,
          -0.05552477102346698,
          0.004586825873426657,
          -0.059289590616998095,
          -0.017653400907868235,
          0.011825553538067624,
          0.7968748392573309,
          -0.6242840572309276,
          0.006092753710839092,
          -0.004627378368213146,
          -0.05643766359742394,
          -0.06380737412923539,
          -0.049747507294783125,
          -0.060042554535704326,
          -0.010010400104412807,
          -0.0675721937227665,
          -0.0632143388657799,
          -0.06380737412923539,
          -0.005916250330785009,
          -0.06380737412923539,
          -0.636331479930227,
          0.010319625700655153,
          -0.06547323062189861,
          -0.024957404173281107,
          0.0008220062798955616,
          -0.07902658115861051,
          0.7968748392573309,
          0.7968748392573309,
          0.004927210699441884,
          -0.6242840572309276,
          -0.07510183290982873,
          -0.005690227164995578,
          0.005997823204017227,
          -0.001295000061828081,
          -0.06154848237311674,
          -0.06832515764147273,
          0.7968748392573309,
          0.7968748392573309,
          0.7968748392573309,
          -0.6167544180438651,
          0.009444994211679325,
          0.7968748392573309,
          -0.058536626698291884,
          -0.057783662779585666,
          0.7968748392573309,
          0.7810625969645004,
          0.7968748392573309,
          -0.019532842006182646,
          -0.06531330196664788,
          0.006092753710839092,
          0.006554806107124077,
          0.008256714960135877,
          -0.032333228624188325,
          0.008151429845621415,
          -0.007751508348294072,
          -0.03073809970259465,
          -0.08655622034567272,
          -0.09182696777661627,
          0.008717708854245191,
          -0.6122366345316281,
          0.7968748392573309,
          0.008922042415049862,
          -0.060042554535704326,
          -0.015864130953003232,
          0.00533978979213287,
          -0.06305441021052918,
          0.006639573945859454,
          -0.0032337248360567983,
          0.007598681548251514,
          0.007947500476085672,
          -0.0562777349421732,
          0.008813697863242716,
          0.7968748392573309,
          0.008813697863242716,
          0.008813697863242716,
          0.011072589619361356,
          0.010319625700655153,
          0.007598681548251514,
          -0.0016155226933882842,
          0.00890439376432769,
          -0.6152484902064528,
          0.7441673649478957,
          0.7419084731917768,
          -0.05878307431925771,
          -0.06480678566890749,
          0.00869203029297305,
          0.006092753710839092,
          0.0038338619547204356,
          0.007177292097926165,
          0.7968748392573309,
          0.011825553538067624,
          0.7968748392573309,
          -0.07977954507731673,
          -0.06305441021052918,
          0.008813697863242716,
          0.008717708854245212,
          -0.07359590507241624,
          -0.63181369641799,
          -0.06773212237801722,
          -0.06154848237311674,
          0.010319625700655153,
          -0.011404053636569145,
          -0.08714925560912822,
          -0.04739250699831275,
          -0.03835693997383819,
          -0.06706567742502621,
          0.7479321845414267,
          -0.060327925544742256,
          0.7381436535982462,
          -0.6212722015561026,
          -0.06857160526243865,
          -0.04828050284544263,
          -0.6235310933122211,
          0.7614855350781388,
          -0.0788666525033598,
          -0.028722223766812164,
          -0.07300286980896076,
          0.7532029319723703,
          0.010319625700655153,
          0.7968748392573309,
          0.008027889290565839,
          0.009444994211679325,
          0.008816150510716606,
          0.7660033185903761,
          -0.07526176156507942,
          0.008060733944536484,
          0.00869203029297305,
          -0.05552477102346698,
          -0.012099311359472158,
          0.010319625700655153,
          0.006845717629545313,
          -0.04362768740478166,
          -0.07961961642206601,
          0.7577207154846075,
          -0.08279140075214159,
          -0.6453670469547014,
          -0.07827361723990435,
          0.7968748392573309,
          -0.03685101213642571,
          -0.05401884318605453
         ],
         "yaxis": "y"
        }
       ],
       "layout": {
        "autosize": true,
        "coloraxis": {
         "colorbar": {
          "title": {
           "text": "color"
          }
         },
         "colorscale": [
          [
           0,
           "#0d0887"
          ],
          [
           0.1111111111111111,
           "#46039f"
          ],
          [
           0.2222222222222222,
           "#7201a8"
          ],
          [
           0.3333333333333333,
           "#9c179e"
          ],
          [
           0.4444444444444444,
           "#bd3786"
          ],
          [
           0.5555555555555556,
           "#d8576b"
          ],
          [
           0.6666666666666666,
           "#ed7953"
          ],
          [
           0.7777777777777778,
           "#fb9f3a"
          ],
          [
           0.8888888888888888,
           "#fdca26"
          ],
          [
           1,
           "#f0f921"
          ]
         ]
        },
        "legend": {
         "tracegroupgap": 0
        },
        "margin": {
         "t": 60
        },
        "template": {
         "data": {
          "bar": [
           {
            "error_x": {
             "color": "#2a3f5f"
            },
            "error_y": {
             "color": "#2a3f5f"
            },
            "marker": {
             "line": {
              "color": "#E5ECF6",
              "width": 0.5
             },
             "pattern": {
              "fillmode": "overlay",
              "size": 10,
              "solidity": 0.2
             }
            },
            "type": "bar"
           }
          ],
          "barpolar": [
           {
            "marker": {
             "line": {
              "color": "#E5ECF6",
              "width": 0.5
             },
             "pattern": {
              "fillmode": "overlay",
              "size": 10,
              "solidity": 0.2
             }
            },
            "type": "barpolar"
           }
          ],
          "carpet": [
           {
            "aaxis": {
             "endlinecolor": "#2a3f5f",
             "gridcolor": "white",
             "linecolor": "white",
             "minorgridcolor": "white",
             "startlinecolor": "#2a3f5f"
            },
            "baxis": {
             "endlinecolor": "#2a3f5f",
             "gridcolor": "white",
             "linecolor": "white",
             "minorgridcolor": "white",
             "startlinecolor": "#2a3f5f"
            },
            "type": "carpet"
           }
          ],
          "choropleth": [
           {
            "colorbar": {
             "outlinewidth": 0,
             "ticks": ""
            },
            "type": "choropleth"
           }
          ],
          "contour": [
           {
            "colorbar": {
             "outlinewidth": 0,
             "ticks": ""
            },
            "colorscale": [
             [
              0,
              "#0d0887"
             ],
             [
              0.1111111111111111,
              "#46039f"
             ],
             [
              0.2222222222222222,
              "#7201a8"
             ],
             [
              0.3333333333333333,
              "#9c179e"
             ],
             [
              0.4444444444444444,
              "#bd3786"
             ],
             [
              0.5555555555555556,
              "#d8576b"
             ],
             [
              0.6666666666666666,
              "#ed7953"
             ],
             [
              0.7777777777777778,
              "#fb9f3a"
             ],
             [
              0.8888888888888888,
              "#fdca26"
             ],
             [
              1,
              "#f0f921"
             ]
            ],
            "type": "contour"
           }
          ],
          "contourcarpet": [
           {
            "colorbar": {
             "outlinewidth": 0,
             "ticks": ""
            },
            "type": "contourcarpet"
           }
          ],
          "heatmap": [
           {
            "colorbar": {
             "outlinewidth": 0,
             "ticks": ""
            },
            "colorscale": [
             [
              0,
              "#0d0887"
             ],
             [
              0.1111111111111111,
              "#46039f"
             ],
             [
              0.2222222222222222,
              "#7201a8"
             ],
             [
              0.3333333333333333,
              "#9c179e"
             ],
             [
              0.4444444444444444,
              "#bd3786"
             ],
             [
              0.5555555555555556,
              "#d8576b"
             ],
             [
              0.6666666666666666,
              "#ed7953"
             ],
             [
              0.7777777777777778,
              "#fb9f3a"
             ],
             [
              0.8888888888888888,
              "#fdca26"
             ],
             [
              1,
              "#f0f921"
             ]
            ],
            "type": "heatmap"
           }
          ],
          "heatmapgl": [
           {
            "colorbar": {
             "outlinewidth": 0,
             "ticks": ""
            },
            "colorscale": [
             [
              0,
              "#0d0887"
             ],
             [
              0.1111111111111111,
              "#46039f"
             ],
             [
              0.2222222222222222,
              "#7201a8"
             ],
             [
              0.3333333333333333,
              "#9c179e"
             ],
             [
              0.4444444444444444,
              "#bd3786"
             ],
             [
              0.5555555555555556,
              "#d8576b"
             ],
             [
              0.6666666666666666,
              "#ed7953"
             ],
             [
              0.7777777777777778,
              "#fb9f3a"
             ],
             [
              0.8888888888888888,
              "#fdca26"
             ],
             [
              1,
              "#f0f921"
             ]
            ],
            "type": "heatmapgl"
           }
          ],
          "histogram": [
           {
            "marker": {
             "pattern": {
              "fillmode": "overlay",
              "size": 10,
              "solidity": 0.2
             }
            },
            "type": "histogram"
           }
          ],
          "histogram2d": [
           {
            "colorbar": {
             "outlinewidth": 0,
             "ticks": ""
            },
            "colorscale": [
             [
              0,
              "#0d0887"
             ],
             [
              0.1111111111111111,
              "#46039f"
             ],
             [
              0.2222222222222222,
              "#7201a8"
             ],
             [
              0.3333333333333333,
              "#9c179e"
             ],
             [
              0.4444444444444444,
              "#bd3786"
             ],
             [
              0.5555555555555556,
              "#d8576b"
             ],
             [
              0.6666666666666666,
              "#ed7953"
             ],
             [
              0.7777777777777778,
              "#fb9f3a"
             ],
             [
              0.8888888888888888,
              "#fdca26"
             ],
             [
              1,
              "#f0f921"
             ]
            ],
            "type": "histogram2d"
           }
          ],
          "histogram2dcontour": [
           {
            "colorbar": {
             "outlinewidth": 0,
             "ticks": ""
            },
            "colorscale": [
             [
              0,
              "#0d0887"
             ],
             [
              0.1111111111111111,
              "#46039f"
             ],
             [
              0.2222222222222222,
              "#7201a8"
             ],
             [
              0.3333333333333333,
              "#9c179e"
             ],
             [
              0.4444444444444444,
              "#bd3786"
             ],
             [
              0.5555555555555556,
              "#d8576b"
             ],
             [
              0.6666666666666666,
              "#ed7953"
             ],
             [
              0.7777777777777778,
              "#fb9f3a"
             ],
             [
              0.8888888888888888,
              "#fdca26"
             ],
             [
              1,
              "#f0f921"
             ]
            ],
            "type": "histogram2dcontour"
           }
          ],
          "mesh3d": [
           {
            "colorbar": {
             "outlinewidth": 0,
             "ticks": ""
            },
            "type": "mesh3d"
           }
          ],
          "parcoords": [
           {
            "line": {
             "colorbar": {
              "outlinewidth": 0,
              "ticks": ""
             }
            },
            "type": "parcoords"
           }
          ],
          "pie": [
           {
            "automargin": true,
            "type": "pie"
           }
          ],
          "scatter": [
           {
            "marker": {
             "colorbar": {
              "outlinewidth": 0,
              "ticks": ""
             }
            },
            "type": "scatter"
           }
          ],
          "scatter3d": [
           {
            "line": {
             "colorbar": {
              "outlinewidth": 0,
              "ticks": ""
             }
            },
            "marker": {
             "colorbar": {
              "outlinewidth": 0,
              "ticks": ""
             }
            },
            "type": "scatter3d"
           }
          ],
          "scattercarpet": [
           {
            "marker": {
             "colorbar": {
              "outlinewidth": 0,
              "ticks": ""
             }
            },
            "type": "scattercarpet"
           }
          ],
          "scattergeo": [
           {
            "marker": {
             "colorbar": {
              "outlinewidth": 0,
              "ticks": ""
             }
            },
            "type": "scattergeo"
           }
          ],
          "scattergl": [
           {
            "marker": {
             "colorbar": {
              "outlinewidth": 0,
              "ticks": ""
             }
            },
            "type": "scattergl"
           }
          ],
          "scattermapbox": [
           {
            "marker": {
             "colorbar": {
              "outlinewidth": 0,
              "ticks": ""
             }
            },
            "type": "scattermapbox"
           }
          ],
          "scatterpolar": [
           {
            "marker": {
             "colorbar": {
              "outlinewidth": 0,
              "ticks": ""
             }
            },
            "type": "scatterpolar"
           }
          ],
          "scatterpolargl": [
           {
            "marker": {
             "colorbar": {
              "outlinewidth": 0,
              "ticks": ""
             }
            },
            "type": "scatterpolargl"
           }
          ],
          "scatterternary": [
           {
            "marker": {
             "colorbar": {
              "outlinewidth": 0,
              "ticks": ""
             }
            },
            "type": "scatterternary"
           }
          ],
          "surface": [
           {
            "colorbar": {
             "outlinewidth": 0,
             "ticks": ""
            },
            "colorscale": [
             [
              0,
              "#0d0887"
             ],
             [
              0.1111111111111111,
              "#46039f"
             ],
             [
              0.2222222222222222,
              "#7201a8"
             ],
             [
              0.3333333333333333,
              "#9c179e"
             ],
             [
              0.4444444444444444,
              "#bd3786"
             ],
             [
              0.5555555555555556,
              "#d8576b"
             ],
             [
              0.6666666666666666,
              "#ed7953"
             ],
             [
              0.7777777777777778,
              "#fb9f3a"
             ],
             [
              0.8888888888888888,
              "#fdca26"
             ],
             [
              1,
              "#f0f921"
             ]
            ],
            "type": "surface"
           }
          ],
          "table": [
           {
            "cells": {
             "fill": {
              "color": "#EBF0F8"
             },
             "line": {
              "color": "white"
             }
            },
            "header": {
             "fill": {
              "color": "#C8D4E3"
             },
             "line": {
              "color": "white"
             }
            },
            "type": "table"
           }
          ]
         },
         "layout": {
          "annotationdefaults": {
           "arrowcolor": "#2a3f5f",
           "arrowhead": 0,
           "arrowwidth": 1
          },
          "autotypenumbers": "strict",
          "coloraxis": {
           "colorbar": {
            "outlinewidth": 0,
            "ticks": ""
           }
          },
          "colorscale": {
           "diverging": [
            [
             0,
             "#8e0152"
            ],
            [
             0.1,
             "#c51b7d"
            ],
            [
             0.2,
             "#de77ae"
            ],
            [
             0.3,
             "#f1b6da"
            ],
            [
             0.4,
             "#fde0ef"
            ],
            [
             0.5,
             "#f7f7f7"
            ],
            [
             0.6,
             "#e6f5d0"
            ],
            [
             0.7,
             "#b8e186"
            ],
            [
             0.8,
             "#7fbc41"
            ],
            [
             0.9,
             "#4d9221"
            ],
            [
             1,
             "#276419"
            ]
           ],
           "sequential": [
            [
             0,
             "#0d0887"
            ],
            [
             0.1111111111111111,
             "#46039f"
            ],
            [
             0.2222222222222222,
             "#7201a8"
            ],
            [
             0.3333333333333333,
             "#9c179e"
            ],
            [
             0.4444444444444444,
             "#bd3786"
            ],
            [
             0.5555555555555556,
             "#d8576b"
            ],
            [
             0.6666666666666666,
             "#ed7953"
            ],
            [
             0.7777777777777778,
             "#fb9f3a"
            ],
            [
             0.8888888888888888,
             "#fdca26"
            ],
            [
             1,
             "#f0f921"
            ]
           ],
           "sequentialminus": [
            [
             0,
             "#0d0887"
            ],
            [
             0.1111111111111111,
             "#46039f"
            ],
            [
             0.2222222222222222,
             "#7201a8"
            ],
            [
             0.3333333333333333,
             "#9c179e"
            ],
            [
             0.4444444444444444,
             "#bd3786"
            ],
            [
             0.5555555555555556,
             "#d8576b"
            ],
            [
             0.6666666666666666,
             "#ed7953"
            ],
            [
             0.7777777777777778,
             "#fb9f3a"
            ],
            [
             0.8888888888888888,
             "#fdca26"
            ],
            [
             1,
             "#f0f921"
            ]
           ]
          },
          "colorway": [
           "#636efa",
           "#EF553B",
           "#00cc96",
           "#ab63fa",
           "#FFA15A",
           "#19d3f3",
           "#FF6692",
           "#B6E880",
           "#FF97FF",
           "#FECB52"
          ],
          "font": {
           "color": "#2a3f5f"
          },
          "geo": {
           "bgcolor": "white",
           "lakecolor": "white",
           "landcolor": "#E5ECF6",
           "showlakes": true,
           "showland": true,
           "subunitcolor": "white"
          },
          "hoverlabel": {
           "align": "left"
          },
          "hovermode": "closest",
          "mapbox": {
           "style": "light"
          },
          "paper_bgcolor": "white",
          "plot_bgcolor": "#E5ECF6",
          "polar": {
           "angularaxis": {
            "gridcolor": "white",
            "linecolor": "white",
            "ticks": ""
           },
           "bgcolor": "#E5ECF6",
           "radialaxis": {
            "gridcolor": "white",
            "linecolor": "white",
            "ticks": ""
           }
          },
          "scene": {
           "xaxis": {
            "backgroundcolor": "#E5ECF6",
            "gridcolor": "white",
            "gridwidth": 2,
            "linecolor": "white",
            "showbackground": true,
            "ticks": "",
            "zerolinecolor": "white"
           },
           "yaxis": {
            "backgroundcolor": "#E5ECF6",
            "gridcolor": "white",
            "gridwidth": 2,
            "linecolor": "white",
            "showbackground": true,
            "ticks": "",
            "zerolinecolor": "white"
           },
           "zaxis": {
            "backgroundcolor": "#E5ECF6",
            "gridcolor": "white",
            "gridwidth": 2,
            "linecolor": "white",
            "showbackground": true,
            "ticks": "",
            "zerolinecolor": "white"
           }
          },
          "shapedefaults": {
           "line": {
            "color": "#2a3f5f"
           }
          },
          "ternary": {
           "aaxis": {
            "gridcolor": "white",
            "linecolor": "white",
            "ticks": ""
           },
           "baxis": {
            "gridcolor": "white",
            "linecolor": "white",
            "ticks": ""
           },
           "bgcolor": "#E5ECF6",
           "caxis": {
            "gridcolor": "white",
            "linecolor": "white",
            "ticks": ""
           }
          },
          "title": {
           "x": 0.05
          },
          "xaxis": {
           "automargin": true,
           "gridcolor": "white",
           "linecolor": "white",
           "ticks": "",
           "title": {
            "standoff": 15
           },
           "zerolinecolor": "white",
           "zerolinewidth": 2
          },
          "yaxis": {
           "automargin": true,
           "gridcolor": "white",
           "linecolor": "white",
           "ticks": "",
           "title": {
            "standoff": 15
           },
           "zerolinecolor": "white",
           "zerolinewidth": 2
          }
         }
        },
        "xaxis": {
         "anchor": "y",
         "autorange": true,
         "domain": [
          0,
          1
         ],
         "range": [
          -1.4919424894741862,
          2.725709196903088
         ],
         "title": {
          "text": "0"
         },
         "type": "linear"
        },
        "yaxis": {
         "anchor": "x",
         "autorange": true,
         "domain": [
          0,
          1
         ],
         "range": [
          -0.7675831298823412,
          0.9093023912417897
         ],
         "title": {
          "text": "1"
         },
         "type": "linear"
        }
       }
      },
      "image/png": "[encoded data removed]",
      "text/html": [
       "<div>                            <div id=\"6b992202-0745-4e32-ab5d-e5b906056947\" class=\"plotly-graph-div\" style=\"height:525px; width:100%;\"></div>            <script type=\"text/javascript\">                require([\"plotly\"], function(Plotly) {                    window.PLOTLYENV=window.PLOTLYENV || {};                                    if (document.getElementById(\"6b992202-0745-4e32-ab5d-e5b906056947\")) {                    Plotly.newPlot(                        \"6b992202-0745-4e32-ab5d-e5b906056947\",                        [{\"hovertemplate\":\"0=%{x}<br>1=%{y}<br>color=%{marker.color}<extra></extra>\",\"legendgroup\":\"\",\"marker\":{\"color\":[1,1,1,1,1,0,0,1,0,1,1,1,1,0,1,1,0,1,1,0,0,1,1,1,1,0,1,1,1,1,0,0,1,0,0,1,1,1,1,1,1,1,1,0,0,1,0,0,0,0,1,0,1,0,0,1,1,0,0,0,1,0,0,0,0,0,0,1,0,0,0,0,1,1,1,1,1,1,1,0,1,1,1,1,0,1,0,0,0,0,0,1,1,0,1,0,0,0,1,0,0,0,0,0,0,0,0,0,0,0,1,0,0,0,0,0,0,0,0,0,0,0,0,0,0,0,0,0,0,0,0,0,0,0,1,1,0,0,0,0,1,1,0,0,1,0,0,0,1,0,1,0,1,0,1,1,1,1,1,1,0,1,1,1,1,1,1,1,1,1,1,1,1,1,1,1,1,1,0,1,1,1,1,1,1,1,0,1,1,1,1,1,1,1,1,1,1,1,1,1,1,1,1,1,1,1,1,1,1,1,1,1,1,1,1,1,1,1,1,1,1,0,0,0,1,1,1,1,1,1,1,1,1,1,1,1,1,1,1,1,1,1,1,1,1,1,1,0,0,0,0,1,1,1,1,1,1,1,1,1,1,1,1,0,1,1,1,1,0,0,1,0,0,0,0,1,0,0,1,0,1,0,1,0,1,1,1,1,1,0,1,1,1,1,1,1,1,0,1,0,0,0,1,1,1,1],\"coloraxis\":\"coloraxis\",\"symbol\":\"circle\"},\"mode\":\"markers\",\"name\":\"\",\"orientation\":\"v\",\"showlegend\":false,\"type\":\"scatter\",\"x\":[-1.0998711722940375,-1.0984845245727948,-0.8257328665998076,-1.1100812137581288,-0.8257328665998076,1.4273552006030434,0.4687171001583591,-0.7332977258656522,0.634629052686396,-0.3470758081961798,-0.6816778579235806,-0.46166176108920115,-0.44234932872176663,1.0335099346894194,0.05688338551472914,-0.043468446718743475,1.3925027284921405,-0.341997496488294,-0.5813260256901083,0.6501263968113783,0.41079786760956455,0.19586008248307046,-1.01870834817219,0.17654765011563614,-1.000782563525999,0.2692766591568475,-0.9468564848667751,-1.1861850140685894,-1.052402431468071,-1.0200949958934338,0.588381364759266,0.7542933172873032,-0.027971102593761118,0.6501263968113783,2.1104883160975825,-0.6983718608518609,-0.7408783784913175,-0.21971480244823322,-0.3818855846885964,-0.852961990466559,-1.2119547842692802,-0.06278087908617781,-0.9608944753256969,0.5548528762857913,0.610238308611076,-1.2594235250952475,1.3763237629156853,0.7375521554160605,0.6578231379584181,1.655540380317801,-0.2209465841661435,0.4939551624534746,0.11811537445597092,0.34905283555745226,0.4506859558098668,0.06446403814039442,-0.906713634976506,0.45838269695690653,0.33871843235599947,1.8549808213193129,0.19586008248307046,0.6578231379584181,0.8290338775985083,0.3310216912089598,1.3763237629156853,1.5700880316594246,1.7746896075668837,-0.33937906704914006,0.9370397553605347,1.3364356747153825,1.1768833219141734,0.35541243528427974,-0.8412302107247901,-1.1321786078686753,-1.0174765664542795,-0.9468564848667749,-1.2220781423617384,-0.9802069076931312,-0.34707580819617967,0.7164366974605059,-0.06785919079406344,-0.020274361446721477,-0.9852852194010172,-1.1720666960689778,1.9347569977199175,-1.1869492991384891,1.8145776957671849,1.495472990164766,1.0335099346894194,0.25639156433205296,0.6977112261587206,-1.2220781423617384,0.09169316200714588,0.8971516671602322,-0.7858447783995054,0.6295934365969967,1.9060122590066713,2.2538617033223356,0.06983621815533582,1.2162563727626508,1.655540380317801,1.4156968137641615,1.1069265113631965,1.655025342965976,1.0335099346894194,0.5356081817341691,1.016815931761139,1.5470194652039504,1.8948689095196154,1.99285551987018,0.21135742660805285,2.4931902325241495,0.976927843560837,1.6949134311662788,1.4560999393162897,0.8577786163117548,1.4156968137641615,1.9347569977199175,2.1740855269217323,0.8577786163117548,1.5869075534042523,1.8150927331190099,1.3475790242024381,1.9265452192210533,1.3364356747153825,0.976927843560837,1.7746896075668837,0.9473741585619871,1.824912098968639,1.9857884354072761,1.3804097620089584,1.615137254765674,1.0173309691129642,0.49599325597320765,0.1366595619153339,-0.6584837726515591,0.7375993143590227,0.3155243470839774,0.5374768376405225,1.176368284562349,-0.3071877199958776,-0.06785919079406344,0.4506859558098668,0.9486981421994154,-0.22741154359527269,0.8572635789599297,0.4184946087566042,0.3155243470839774,-0.3818855846885964,0.46871710015835905,-0.22741154359527269,1.6954284685181036,-0.45904333165004707,0.8976667045120573,-0.10005053784732612,-0.7807664666916198,-0.26729963179557503,-1.099871172294038,-0.04850406280814286,-0.3021094082879918,0.49827078515720863,0.13979302870631297,-0.42177367288889867,-0.42685198459678425,-0.6468253858126776,-0.7060686019989006,-0.9801391698773194,-1.1397592604943407,-0.9389321717715854,-0.9403188194928292,0.13672729973114592,-1.2518428724695825,-1.1366257937033613,0.1791660795547902,-1.01870834817219,-0.9273659868522224,-1.0650613958016213,-0.7009902902910153,0.868921965798811,-0.9004307312925267,-0.09508831466081487,-0.5015498492895035,-0.7060686019989006,-0.7009902902910153,-0.42288468768205945,-0.7009902902910153,0.8173754907596277,-1.1720666960689778,-0.5864043373979938,0.1496123945559405,-0.7394917307700738,0.13158125020744815,-1.1366257937033613,-1.1366257937033613,-0.9580732722129139,0.1791660795547902,-0.10266896728648009,-0.4613208608340481,-1.0303050373575235,-0.6629750690127046,-0.8206545548919221,-0.4616617610892011,-1.1366257937033613,-1.1366257937033613,-1.1366257937033613,-0.21971480244823322,-1.1974018014147283,-1.1366257937033613,-0.9802069076931312,-1.0200949958934338,-1.1366257937033613,-0.2989759414970126,-1.1366257937033613,-0.8811182989250925,-0.6212141138904108,-1.01870834817219,-0.9726262550674659,-1.1499693019584307,-0.2030207995199527,-1.1469338300932035,-0.2147525792617219,0.8219765272047254,0.5304621322104716,0.809678749612588,-1.1831708952291031,-0.45904333165004707,-1.1366257937033613,-1.1869492991384891,-0.9004307312925267,-0.9260420032147944,-0.9788202599718877,-0.7408783784913175,-1.1015683655586181,-0.4540811084635358,-1.0984845245727948,-1.143155831673996,-1.099871172294038,-1.092290519668373,-1.1366257937033613,-1.092290519668373,-1.092290519668373,-1.2119547842692802,-1.1720666960689778,-1.0984845245727948,-1.0869183396534314,-1.1868219182935058,-0.29949097884883763,1.655540380317801,1.7752046449187087,1.3475790242024381,1.6666837298048578,-1.1575137132144258,-1.01870834817219,-0.8990440835712831,-1.1031407681188878,-1.1366257937033613,-1.2518428724695825,-1.1366257937033613,0.17146933840775055,-0.7408783784913175,-1.092290519668373,-1.1831708952291033,-0.1824451436870848,0.5780469615578135,-0.46674007279708657,-0.8206545548919221,-1.1720666960689778,-0.5683731930495013,0.5355404439183571,0.5947409644860931,0.11608390608246584,1.786347994405764,1.4560999393162897,2.2321840490719964,1.9746450859202203,0.0196137267535809,1.8661241708063687,1.5939746378671567,0.13927799135448782,0.7381143517108479,0.09677147371503149,0.34905283555745226,-0.18752345539497048,1.1768833219141734,-1.1720666960689778,-1.1366257937033613,-1.1460421641783205,-1.1974018014147283,-1.1861850140685897,0.4987858225090338,-0.06785919079406344,-1.052402431468071,-1.1575137132144258,-1.1397592604943407,-1.1254824442163058,-1.1720666960689778,-1.0585964363724922,0.3953005234845821,0.1366595619153339,0.9375547927123595,0.3310216912089598,1.2960325491632556,0.09169316200714588,-1.1366257937033613,0.03630772968186118,-1.2195354368949454],\"xaxis\":\"x\",\"y\":[-0.05627773494217279,0.0075986815482513795,-0.06095544710966123,0.007503751041429579,-0.06095544710966127,-0.060289002156670116,-0.030981115522930824,0.002037022594886688,-0.04814547091701891,-0.06999101413413591,-0.02329766159971409,-0.06832515764147326,-0.02781544511195106,-0.05567511010408114,-0.07811368858465362,-0.03534508429901325,-0.06245178537243702,-0.07058404939759137,-0.06606626588535405,-0.08881511210179138,-0.08429732858955406,-0.039862867811250584,0.006092753710839092,-0.08037258034077227,-0.01727395025006402,-0.027216295929399704,0.00429836699847928,0.00881615051071664,0.008060733944536484,-0.057783662779585666,-0.033240007279049445,-0.05040436267313766,-0.0760147254837857,-0.08881511210179138,-0.0760051359091492,-0.6077188510193908,-0.06305441021052918,-0.6167544180438651,-0.06983108547888515,0.004295914351005373,0.011072589619361356,-0.07585479682853491,-0.018026914168770274,-0.04663954307960655,-0.08806214818308514,-0.05326587926734834,0.7494381123788391,-0.02825229329741023,-0.6333196242554023,0.7441673649478957,-0.008966524663285288,-0.023478982802389376,-0.020420837853312484,-0.028722223766812164,-0.08505029250826028,-0.013022255779237664,0.0035101057783286827,-0.6295548046618707,-0.6272959129057524,0.7404025453543648,-0.039862867811250584,-0.6333196242554023,-0.04899454337607689,-0.08279140075214159,0.7494381123788391,-0.04402916617373518,-0.6544026139791764,-0.6144955262877465,-0.6385903716863459,0.7501910762975453,0.7532029319723703,-0.042874723486075454,-0.020285805924888933,0.009566661781948912,-0.6016951396697406,0.004298366998479169,0.008678308135700197,-0.058536626698291884,-0.06999101413413585,-0.031715296633905786,-0.07526176156507942,-0.6205192376373962,-0.05794359143483641,0.010319625700655153,0.7388966175169522,0.008922042415049862,-0.6551555778978825,-0.649131866548233,-0.05567511010408114,-0.01991229266398695,-0.6340725881741084,0.008678308135700197,-0.07827361723990435,-0.6378374077676396,-0.061708411028367494,-0.04522972378254578,-0.06932456918114478,0.7328729061673025,-0.023451476335868675,-0.643861119117289,0.7441673649478957,-0.6476259387108203,-0.04302853822223032,-0.6521437222230577,-0.05567511010408114,-0.025183040094930376,-0.640096299523758,-0.0625478939127888,0.7396495814356586,-0.05581014203250468,-0.08053250899602295,0.7283551226550652,-0.639343335605052,-0.6528966861417638,0.7479321845414267,0.7592266433220198,-0.6476259387108203,0.7388966175169522,0.7343788340047152,0.7592266433220198,-0.0633008578314951,0.7411555092730707,-0.05878307431925771,-0.11290995750039044,0.7501910762975453,-0.639343335605052,-0.6544026139791764,-0.04001668254740545,-0.056581888758942316,-0.07083049701855723,-0.04127959456448197,-0.6513907583043514,0.7562147876471954,-0.023761361213944926,-0.07961961642206601,-0.608471814938097,-0.6348255520928148,-0.04212175956736926,-0.024401251406612538,-0.643108155198583,-0.07074397805284215,-0.07526176156507942,-0.08505029250826028,-0.051253435132195574,-0.07224990589025451,-0.6370844438489334,-0.6288018407431648,-0.04212175956736926,-0.06983108547888515,-0.030981115522930817,-0.07224990589025451,0.7434144010291895,-0.6122366345316281,0.758473679403314,-0.6190133097999838,-0.06230144629182295,-0.0714969419715483,-0.0562777349421732,-0.03242933716454008,-0.07133701331629756,-0.6303077685805772,0.7727799938587319,-0.06907812156017896,-0.06848508629672345,-0.02113487838394675,-0.0632143388657799,0.0034295888159058684,-0.05552477102346698,0.004586825873426657,-0.059289590616998095,-0.017653400907868235,0.011825553538067624,0.7968748392573309,-0.6242840572309276,0.006092753710839092,-0.004627378368213146,-0.05643766359742394,-0.06380737412923539,-0.049747507294783125,-0.060042554535704326,-0.010010400104412807,-0.0675721937227665,-0.0632143388657799,-0.06380737412923539,-0.005916250330785009,-0.06380737412923539,-0.636331479930227,0.010319625700655153,-0.06547323062189861,-0.024957404173281107,0.0008220062798955616,-0.07902658115861051,0.7968748392573309,0.7968748392573309,0.004927210699441884,-0.6242840572309276,-0.07510183290982873,-0.005690227164995578,0.005997823204017227,-0.001295000061828081,-0.06154848237311674,-0.06832515764147273,0.7968748392573309,0.7968748392573309,0.7968748392573309,-0.6167544180438651,0.009444994211679325,0.7968748392573309,-0.058536626698291884,-0.057783662779585666,0.7968748392573309,0.7810625969645004,0.7968748392573309,-0.019532842006182646,-0.06531330196664788,0.006092753710839092,0.006554806107124077,0.008256714960135877,-0.032333228624188325,0.008151429845621415,-0.007751508348294072,-0.03073809970259465,-0.08655622034567272,-0.09182696777661627,0.008717708854245191,-0.6122366345316281,0.7968748392573309,0.008922042415049862,-0.060042554535704326,-0.015864130953003232,0.00533978979213287,-0.06305441021052918,0.006639573945859454,-0.0032337248360567983,0.007598681548251514,0.007947500476085672,-0.0562777349421732,0.008813697863242716,0.7968748392573309,0.008813697863242716,0.008813697863242716,0.011072589619361356,0.010319625700655153,0.007598681548251514,-0.0016155226933882842,0.00890439376432769,-0.6152484902064528,0.7441673649478957,0.7419084731917768,-0.05878307431925771,-0.06480678566890749,0.00869203029297305,0.006092753710839092,0.0038338619547204356,0.007177292097926165,0.7968748392573309,0.011825553538067624,0.7968748392573309,-0.07977954507731673,-0.06305441021052918,0.008813697863242716,0.008717708854245212,-0.07359590507241624,-0.63181369641799,-0.06773212237801722,-0.06154848237311674,0.010319625700655153,-0.011404053636569145,-0.08714925560912822,-0.04739250699831275,-0.03835693997383819,-0.06706567742502621,0.7479321845414267,-0.060327925544742256,0.7381436535982462,-0.6212722015561026,-0.06857160526243865,-0.04828050284544263,-0.6235310933122211,0.7614855350781388,-0.0788666525033598,-0.028722223766812164,-0.07300286980896076,0.7532029319723703,0.010319625700655153,0.7968748392573309,0.008027889290565839,0.009444994211679325,0.008816150510716606,0.7660033185903761,-0.07526176156507942,0.008060733944536484,0.00869203029297305,-0.05552477102346698,-0.012099311359472158,0.010319625700655153,0.006845717629545313,-0.04362768740478166,-0.07961961642206601,0.7577207154846075,-0.08279140075214159,-0.6453670469547014,-0.07827361723990435,0.7968748392573309,-0.03685101213642571,-0.05401884318605453],\"yaxis\":\"y\"}],                        {\"coloraxis\":{\"colorbar\":{\"title\":{\"text\":\"color\"}},\"colorscale\":[[0.0,\"#0d0887\"],[0.1111111111111111,\"#46039f\"],[0.2222222222222222,\"#7201a8\"],[0.3333333333333333,\"#9c179e\"],[0.4444444444444444,\"#bd3786\"],[0.5555555555555556,\"#d8576b\"],[0.6666666666666666,\"#ed7953\"],[0.7777777777777778,\"#fb9f3a\"],[0.8888888888888888,\"#fdca26\"],[1.0,\"#f0f921\"]]},\"legend\":{\"tracegroupgap\":0},\"margin\":{\"t\":60},\"template\":{\"data\":{\"bar\":[{\"error_x\":{\"color\":\"#2a3f5f\"},\"error_y\":{\"color\":\"#2a3f5f\"},\"marker\":{\"line\":{\"color\":\"#E5ECF6\",\"width\":0.5},\"pattern\":{\"fillmode\":\"overlay\",\"size\":10,\"solidity\":0.2}},\"type\":\"bar\"}],\"barpolar\":[{\"marker\":{\"line\":{\"color\":\"#E5ECF6\",\"width\":0.5},\"pattern\":{\"fillmode\":\"overlay\",\"size\":10,\"solidity\":0.2}},\"type\":\"barpolar\"}],\"carpet\":[{\"aaxis\":{\"endlinecolor\":\"#2a3f5f\",\"gridcolor\":\"white\",\"linecolor\":\"white\",\"minorgridcolor\":\"white\",\"startlinecolor\":\"#2a3f5f\"},\"baxis\":{\"endlinecolor\":\"#2a3f5f\",\"gridcolor\":\"white\",\"linecolor\":\"white\",\"minorgridcolor\":\"white\",\"startlinecolor\":\"#2a3f5f\"},\"type\":\"carpet\"}],\"choropleth\":[{\"colorbar\":{\"outlinewidth\":0,\"ticks\":\"\"},\"type\":\"choropleth\"}],\"contour\":[{\"colorbar\":{\"outlinewidth\":0,\"ticks\":\"\"},\"colorscale\":[[0.0,\"#0d0887\"],[0.1111111111111111,\"#46039f\"],[0.2222222222222222,\"#7201a8\"],[0.3333333333333333,\"#9c179e\"],[0.4444444444444444,\"#bd3786\"],[0.5555555555555556,\"#d8576b\"],[0.6666666666666666,\"#ed7953\"],[0.7777777777777778,\"#fb9f3a\"],[0.8888888888888888,\"#fdca26\"],[1.0,\"#f0f921\"]],\"type\":\"contour\"}],\"contourcarpet\":[{\"colorbar\":{\"outlinewidth\":0,\"ticks\":\"\"},\"type\":\"contourcarpet\"}],\"heatmap\":[{\"colorbar\":{\"outlinewidth\":0,\"ticks\":\"\"},\"colorscale\":[[0.0,\"#0d0887\"],[0.1111111111111111,\"#46039f\"],[0.2222222222222222,\"#7201a8\"],[0.3333333333333333,\"#9c179e\"],[0.4444444444444444,\"#bd3786\"],[0.5555555555555556,\"#d8576b\"],[0.6666666666666666,\"#ed7953\"],[0.7777777777777778,\"#fb9f3a\"],[0.8888888888888888,\"#fdca26\"],[1.0,\"#f0f921\"]],\"type\":\"heatmap\"}],\"heatmapgl\":[{\"colorbar\":{\"outlinewidth\":0,\"ticks\":\"\"},\"colorscale\":[[0.0,\"#0d0887\"],[0.1111111111111111,\"#46039f\"],[0.2222222222222222,\"#7201a8\"],[0.3333333333333333,\"#9c179e\"],[0.4444444444444444,\"#bd3786\"],[0.5555555555555556,\"#d8576b\"],[0.6666666666666666,\"#ed7953\"],[0.7777777777777778,\"#fb9f3a\"],[0.8888888888888888,\"#fdca26\"],[1.0,\"#f0f921\"]],\"type\":\"heatmapgl\"}],\"histogram\":[{\"marker\":{\"pattern\":{\"fillmode\":\"overlay\",\"size\":10,\"solidity\":0.2}},\"type\":\"histogram\"}],\"histogram2d\":[{\"colorbar\":{\"outlinewidth\":0,\"ticks\":\"\"},\"colorscale\":[[0.0,\"#0d0887\"],[0.1111111111111111,\"#46039f\"],[0.2222222222222222,\"#7201a8\"],[0.3333333333333333,\"#9c179e\"],[0.4444444444444444,\"#bd3786\"],[0.5555555555555556,\"#d8576b\"],[0.6666666666666666,\"#ed7953\"],[0.7777777777777778,\"#fb9f3a\"],[0.8888888888888888,\"#fdca26\"],[1.0,\"#f0f921\"]],\"type\":\"histogram2d\"}],\"histogram2dcontour\":[{\"colorbar\":{\"outlinewidth\":0,\"ticks\":\"\"},\"colorscale\":[[0.0,\"#0d0887\"],[0.1111111111111111,\"#46039f\"],[0.2222222222222222,\"#7201a8\"],[0.3333333333333333,\"#9c179e\"],[0.4444444444444444,\"#bd3786\"],[0.5555555555555556,\"#d8576b\"],[0.6666666666666666,\"#ed7953\"],[0.7777777777777778,\"#fb9f3a\"],[0.8888888888888888,\"#fdca26\"],[1.0,\"#f0f921\"]],\"type\":\"histogram2dcontour\"}],\"mesh3d\":[{\"colorbar\":{\"outlinewidth\":0,\"ticks\":\"\"},\"type\":\"mesh3d\"}],\"parcoords\":[{\"line\":{\"colorbar\":{\"outlinewidth\":0,\"ticks\":\"\"}},\"type\":\"parcoords\"}],\"pie\":[{\"automargin\":true,\"type\":\"pie\"}],\"scatter\":[{\"marker\":{\"colorbar\":{\"outlinewidth\":0,\"ticks\":\"\"}},\"type\":\"scatter\"}],\"scatter3d\":[{\"line\":{\"colorbar\":{\"outlinewidth\":0,\"ticks\":\"\"}},\"marker\":{\"colorbar\":{\"outlinewidth\":0,\"ticks\":\"\"}},\"type\":\"scatter3d\"}],\"scattercarpet\":[{\"marker\":{\"colorbar\":{\"outlinewidth\":0,\"ticks\":\"\"}},\"type\":\"scattercarpet\"}],\"scattergeo\":[{\"marker\":{\"colorbar\":{\"outlinewidth\":0,\"ticks\":\"\"}},\"type\":\"scattergeo\"}],\"scattergl\":[{\"marker\":{\"colorbar\":{\"outlinewidth\":0,\"ticks\":\"\"}},\"type\":\"scattergl\"}],\"scattermapbox\":[{\"marker\":{\"colorbar\":{\"outlinewidth\":0,\"ticks\":\"\"}},\"type\":\"scattermapbox\"}],\"scatterpolar\":[{\"marker\":{\"colorbar\":{\"outlinewidth\":0,\"ticks\":\"\"}},\"type\":\"scatterpolar\"}],\"scatterpolargl\":[{\"marker\":{\"colorbar\":{\"outlinewidth\":0,\"ticks\":\"\"}},\"type\":\"scatterpolargl\"}],\"scatterternary\":[{\"marker\":{\"colorbar\":{\"outlinewidth\":0,\"ticks\":\"\"}},\"type\":\"scatterternary\"}],\"surface\":[{\"colorbar\":{\"outlinewidth\":0,\"ticks\":\"\"},\"colorscale\":[[0.0,\"#0d0887\"],[0.1111111111111111,\"#46039f\"],[0.2222222222222222,\"#7201a8\"],[0.3333333333333333,\"#9c179e\"],[0.4444444444444444,\"#bd3786\"],[0.5555555555555556,\"#d8576b\"],[0.6666666666666666,\"#ed7953\"],[0.7777777777777778,\"#fb9f3a\"],[0.8888888888888888,\"#fdca26\"],[1.0,\"#f0f921\"]],\"type\":\"surface\"}],\"table\":[{\"cells\":{\"fill\":{\"color\":\"#EBF0F8\"},\"line\":{\"color\":\"white\"}},\"header\":{\"fill\":{\"color\":\"#C8D4E3\"},\"line\":{\"color\":\"white\"}},\"type\":\"table\"}]},\"layout\":{\"annotationdefaults\":{\"arrowcolor\":\"#2a3f5f\",\"arrowhead\":0,\"arrowwidth\":1},\"autotypenumbers\":\"strict\",\"coloraxis\":{\"colorbar\":{\"outlinewidth\":0,\"ticks\":\"\"}},\"colorscale\":{\"diverging\":[[0,\"#8e0152\"],[0.1,\"#c51b7d\"],[0.2,\"#de77ae\"],[0.3,\"#f1b6da\"],[0.4,\"#fde0ef\"],[0.5,\"#f7f7f7\"],[0.6,\"#e6f5d0\"],[0.7,\"#b8e186\"],[0.8,\"#7fbc41\"],[0.9,\"#4d9221\"],[1,\"#276419\"]],\"sequential\":[[0.0,\"#0d0887\"],[0.1111111111111111,\"#46039f\"],[0.2222222222222222,\"#7201a8\"],[0.3333333333333333,\"#9c179e\"],[0.4444444444444444,\"#bd3786\"],[0.5555555555555556,\"#d8576b\"],[0.6666666666666666,\"#ed7953\"],[0.7777777777777778,\"#fb9f3a\"],[0.8888888888888888,\"#fdca26\"],[1.0,\"#f0f921\"]],\"sequentialminus\":[[0.0,\"#0d0887\"],[0.1111111111111111,\"#46039f\"],[0.2222222222222222,\"#7201a8\"],[0.3333333333333333,\"#9c179e\"],[0.4444444444444444,\"#bd3786\"],[0.5555555555555556,\"#d8576b\"],[0.6666666666666666,\"#ed7953\"],[0.7777777777777778,\"#fb9f3a\"],[0.8888888888888888,\"#fdca26\"],[1.0,\"#f0f921\"]]},\"colorway\":[\"#636efa\",\"#EF553B\",\"#00cc96\",\"#ab63fa\",\"#FFA15A\",\"#19d3f3\",\"#FF6692\",\"#B6E880\",\"#FF97FF\",\"#FECB52\"],\"font\":{\"color\":\"#2a3f5f\"},\"geo\":{\"bgcolor\":\"white\",\"lakecolor\":\"white\",\"landcolor\":\"#E5ECF6\",\"showlakes\":true,\"showland\":true,\"subunitcolor\":\"white\"},\"hoverlabel\":{\"align\":\"left\"},\"hovermode\":\"closest\",\"mapbox\":{\"style\":\"light\"},\"paper_bgcolor\":\"white\",\"plot_bgcolor\":\"#E5ECF6\",\"polar\":{\"angularaxis\":{\"gridcolor\":\"white\",\"linecolor\":\"white\",\"ticks\":\"\"},\"bgcolor\":\"#E5ECF6\",\"radialaxis\":{\"gridcolor\":\"white\",\"linecolor\":\"white\",\"ticks\":\"\"}},\"scene\":{\"xaxis\":{\"backgroundcolor\":\"#E5ECF6\",\"gridcolor\":\"white\",\"gridwidth\":2,\"linecolor\":\"white\",\"showbackground\":true,\"ticks\":\"\",\"zerolinecolor\":\"white\"},\"yaxis\":{\"backgroundcolor\":\"#E5ECF6\",\"gridcolor\":\"white\",\"gridwidth\":2,\"linecolor\":\"white\",\"showbackground\":true,\"ticks\":\"\",\"zerolinecolor\":\"white\"},\"zaxis\":{\"backgroundcolor\":\"#E5ECF6\",\"gridcolor\":\"white\",\"gridwidth\":2,\"linecolor\":\"white\",\"showbackground\":true,\"ticks\":\"\",\"zerolinecolor\":\"white\"}},\"shapedefaults\":{\"line\":{\"color\":\"#2a3f5f\"}},\"ternary\":{\"aaxis\":{\"gridcolor\":\"white\",\"linecolor\":\"white\",\"ticks\":\"\"},\"baxis\":{\"gridcolor\":\"white\",\"linecolor\":\"white\",\"ticks\":\"\"},\"bgcolor\":\"#E5ECF6\",\"caxis\":{\"gridcolor\":\"white\",\"linecolor\":\"white\",\"ticks\":\"\"}},\"title\":{\"x\":0.05},\"xaxis\":{\"automargin\":true,\"gridcolor\":\"white\",\"linecolor\":\"white\",\"ticks\":\"\",\"title\":{\"standoff\":15},\"zerolinecolor\":\"white\",\"zerolinewidth\":2},\"yaxis\":{\"automargin\":true,\"gridcolor\":\"white\",\"linecolor\":\"white\",\"ticks\":\"\",\"title\":{\"standoff\":15},\"zerolinecolor\":\"white\",\"zerolinewidth\":2}}},\"xaxis\":{\"anchor\":\"y\",\"domain\":[0.0,1.0],\"title\":{\"text\":\"0\"}},\"yaxis\":{\"anchor\":\"x\",\"domain\":[0.0,1.0],\"title\":{\"text\":\"1\"}}},                        {\"responsive\": true}                    ).then(function(){\n",
       "                            \n",
       "var gd = document.getElementById('6b992202-0745-4e32-ab5d-e5b906056947');\n",
       "var x = new MutationObserver(function (mutations, observer) {{\n",
       "        var display = window.getComputedStyle(gd).display;\n",
       "        if (!display || display === 'none') {{\n",
       "            console.log([gd, 'removed!']);\n",
       "            Plotly.purge(gd);\n",
       "            observer.disconnect();\n",
       "        }}\n",
       "}});\n",
       "\n",
       "// Listen for the removal of the full notebook cells\n",
       "var notebookContainer = gd.closest('#notebook-container');\n",
       "if (notebookContainer) {{\n",
       "    x.observe(notebookContainer, {childList: true});\n",
       "}}\n",
       "\n",
       "// Listen for the clearing of the current output cell\n",
       "var outputEl = gd.closest('.output');\n",
       "if (outputEl) {{\n",
       "    x.observe(outputEl, {childList: true});\n",
       "}}\n",
       "\n",
       "                        })                };                });            </script>        </div>"
      ]
     },
     "metadata": {},
     "output_type": "display_data"
    }
   ],
   "source": [
    "# 2D Scatter Plot\n",
    "X = model_data_encoded\n",
    "\n",
    "pca_nbhoods = PCA(n_components=2)\n",
    "components = pca_nbhoods.fit_transform(X)\n",
    "fig = px.scatter(components, x=0, y=1, color=y_km)\n",
    "fig.show()"
   ]
  },
  {
   "cell_type": "code",
   "execution_count": 157,
   "id": "b0ee6359-3c01-40d0-8159-9193bb8a315d",
   "metadata": {},
   "outputs": [
    {
     "data": {
      "application/vnd.plotly.v1+json": {
       "config": {
        "plotlyServerURL": "https://plot.ly"
       },
       "data": [
        {
         "hovertemplate": "PC 1=%{x}<br>PC 2=%{y}<br>PC 3=%{z}<br>color=%{marker.color}<extra></extra>",
         "legendgroup": "",
         "marker": {
          "color": [
           1,
           1,
           1,
           1,
           1,
           0,
           0,
           1,
           0,
           1,
           1,
           1,
           1,
           0,
           1,
           1,
           0,
           1,
           1,
           0,
           0,
           1,
           1,
           1,
           1,
           0,
           1,
           1,
           1,
           1,
           0,
           0,
           1,
           0,
           0,
           1,
           1,
           1,
           1,
           1,
           1,
           1,
           1,
           0,
           0,
           1,
           0,
           0,
           0,
           0,
           1,
           0,
           1,
           0,
           0,
           1,
           1,
           0,
           0,
           0,
           1,
           0,
           0,
           0,
           0,
           0,
           0,
           1,
           0,
           0,
           0,
           0,
           1,
           1,
           1,
           1,
           1,
           1,
           1,
           0,
           1,
           1,
           1,
           1,
           0,
           1,
           0,
           0,
           0,
           0,
           0,
           1,
           1,
           0,
           1,
           0,
           0,
           0,
           1,
           0,
           0,
           0,
           0,
           0,
           0,
           0,
           0,
           0,
           0,
           0,
           1,
           0,
           0,
           0,
           0,
           0,
           0,
           0,
           0,
           0,
           0,
           0,
           0,
           0,
           0,
           0,
           0,
           0,
           0,
           0,
           0,
           0,
           0,
           0,
           1,
           1,
           0,
           0,
           0,
           0,
           1,
           1,
           0,
           0,
           1,
           0,
           0,
           0,
           1,
           0,
           1,
           0,
           1,
           0,
           1,
           1,
           1,
           1,
           1,
           1,
           0,
           1,
           1,
           1,
           1,
           1,
           1,
           1,
           1,
           1,
           1,
           1,
           1,
           1,
           1,
           1,
           1,
           1,
           0,
           1,
           1,
           1,
           1,
           1,
           1,
           1,
           0,
           1,
           1,
           1,
           1,
           1,
           1,
           1,
           1,
           1,
           1,
           1,
           1,
           1,
           1,
           1,
           1,
           1,
           1,
           1,
           1,
           1,
           1,
           1,
           1,
           1,
           1,
           1,
           1,
           1,
           1,
           1,
           1,
           1,
           1,
           0,
           0,
           0,
           1,
           1,
           1,
           1,
           1,
           1,
           1,
           1,
           1,
           1,
           1,
           1,
           1,
           1,
           1,
           1,
           1,
           1,
           1,
           1,
           1,
           1,
           1,
           0,
           0,
           0,
           0,
           1,
           1,
           1,
           1,
           1,
           1,
           1,
           1,
           1,
           1,
           1,
           1,
           0,
           1,
           1,
           1,
           1,
           0,
           0,
           1,
           0,
           0,
           0,
           0,
           1,
           0,
           0,
           1,
           0,
           1,
           0,
           1,
           0,
           1,
           1,
           1,
           1,
           1,
           0,
           1,
           1,
           1,
           1,
           1,
           1,
           1,
           0,
           1,
           0,
           0,
           0,
           1,
           1,
           1,
           1
          ],
          "coloraxis": "coloraxis",
          "symbol": "circle"
         },
         "mode": "markers",
         "name": "",
         "scene": "scene",
         "showlegend": false,
         "type": "scatter3d",
         "x": [
          -1.0998711722940375,
          -1.0984845245727948,
          -0.8257328665998076,
          -1.1100812137581288,
          -0.8257328665998076,
          1.4273552006030434,
          0.4687171001583591,
          -0.7332977258656522,
          0.634629052686396,
          -0.3470758081961798,
          -0.6816778579235806,
          -0.46166176108920115,
          -0.44234932872176663,
          1.0335099346894194,
          0.05688338551472914,
          -0.043468446718743475,
          1.3925027284921405,
          -0.341997496488294,
          -0.5813260256901083,
          0.6501263968113783,
          0.41079786760956455,
          0.19586008248307046,
          -1.01870834817219,
          0.17654765011563614,
          -1.000782563525999,
          0.2692766591568475,
          -0.9468564848667751,
          -1.1861850140685894,
          -1.052402431468071,
          -1.0200949958934338,
          0.588381364759266,
          0.7542933172873032,
          -0.027971102593761118,
          0.6501263968113783,
          2.1104883160975825,
          -0.6983718608518609,
          -0.7408783784913175,
          -0.21971480244823322,
          -0.3818855846885964,
          -0.852961990466559,
          -1.2119547842692802,
          -0.06278087908617781,
          -0.9608944753256969,
          0.5548528762857913,
          0.610238308611076,
          -1.2594235250952475,
          1.3763237629156853,
          0.7375521554160605,
          0.6578231379584181,
          1.655540380317801,
          -0.2209465841661435,
          0.4939551624534746,
          0.11811537445597092,
          0.34905283555745226,
          0.4506859558098668,
          0.06446403814039442,
          -0.906713634976506,
          0.45838269695690653,
          0.33871843235599947,
          1.8549808213193129,
          0.19586008248307046,
          0.6578231379584181,
          0.8290338775985083,
          0.3310216912089598,
          1.3763237629156853,
          1.5700880316594246,
          1.7746896075668837,
          -0.33937906704914006,
          0.9370397553605347,
          1.3364356747153825,
          1.1768833219141734,
          0.35541243528427974,
          -0.8412302107247901,
          -1.1321786078686753,
          -1.0174765664542795,
          -0.9468564848667749,
          -1.2220781423617384,
          -0.9802069076931312,
          -0.34707580819617967,
          0.7164366974605059,
          -0.06785919079406344,
          -0.020274361446721477,
          -0.9852852194010172,
          -1.1720666960689778,
          1.9347569977199175,
          -1.1869492991384891,
          1.8145776957671849,
          1.495472990164766,
          1.0335099346894194,
          0.25639156433205296,
          0.6977112261587206,
          -1.2220781423617384,
          0.09169316200714588,
          0.8971516671602322,
          -0.7858447783995054,
          0.6295934365969967,
          1.9060122590066713,
          2.2538617033223356,
          0.06983621815533582,
          1.2162563727626508,
          1.655540380317801,
          1.4156968137641615,
          1.1069265113631965,
          1.655025342965976,
          1.0335099346894194,
          0.5356081817341691,
          1.016815931761139,
          1.5470194652039504,
          1.8948689095196154,
          1.99285551987018,
          0.21135742660805285,
          2.4931902325241495,
          0.976927843560837,
          1.6949134311662788,
          1.4560999393162897,
          0.8577786163117548,
          1.4156968137641615,
          1.9347569977199175,
          2.1740855269217323,
          0.8577786163117548,
          1.5869075534042523,
          1.8150927331190099,
          1.3475790242024381,
          1.9265452192210533,
          1.3364356747153825,
          0.976927843560837,
          1.7746896075668837,
          0.9473741585619871,
          1.824912098968639,
          1.9857884354072761,
          1.3804097620089584,
          1.615137254765674,
          1.0173309691129642,
          0.49599325597320765,
          0.1366595619153339,
          -0.6584837726515591,
          0.7375993143590227,
          0.3155243470839774,
          0.5374768376405225,
          1.176368284562349,
          -0.3071877199958776,
          -0.06785919079406344,
          0.4506859558098668,
          0.9486981421994154,
          -0.22741154359527269,
          0.8572635789599297,
          0.4184946087566042,
          0.3155243470839774,
          -0.3818855846885964,
          0.46871710015835905,
          -0.22741154359527269,
          1.6954284685181036,
          -0.45904333165004707,
          0.8976667045120573,
          -0.10005053784732612,
          -0.7807664666916198,
          -0.26729963179557503,
          -1.099871172294038,
          -0.04850406280814286,
          -0.3021094082879918,
          0.49827078515720863,
          0.13979302870631297,
          -0.42177367288889867,
          -0.42685198459678425,
          -0.6468253858126776,
          -0.7060686019989006,
          -0.9801391698773194,
          -1.1397592604943407,
          -0.9389321717715854,
          -0.9403188194928292,
          0.13672729973114592,
          -1.2518428724695825,
          -1.1366257937033613,
          0.1791660795547902,
          -1.01870834817219,
          -0.9273659868522224,
          -1.0650613958016213,
          -0.7009902902910153,
          0.868921965798811,
          -0.9004307312925267,
          -0.09508831466081487,
          -0.5015498492895035,
          -0.7060686019989006,
          -0.7009902902910153,
          -0.42288468768205945,
          -0.7009902902910153,
          0.8173754907596277,
          -1.1720666960689778,
          -0.5864043373979938,
          0.1496123945559405,
          -0.7394917307700738,
          0.13158125020744815,
          -1.1366257937033613,
          -1.1366257937033613,
          -0.9580732722129139,
          0.1791660795547902,
          -0.10266896728648009,
          -0.4613208608340481,
          -1.0303050373575235,
          -0.6629750690127046,
          -0.8206545548919221,
          -0.4616617610892011,
          -1.1366257937033613,
          -1.1366257937033613,
          -1.1366257937033613,
          -0.21971480244823322,
          -1.1974018014147283,
          -1.1366257937033613,
          -0.9802069076931312,
          -1.0200949958934338,
          -1.1366257937033613,
          -0.2989759414970126,
          -1.1366257937033613,
          -0.8811182989250925,
          -0.6212141138904108,
          -1.01870834817219,
          -0.9726262550674659,
          -1.1499693019584307,
          -0.2030207995199527,
          -1.1469338300932035,
          -0.2147525792617219,
          0.8219765272047254,
          0.5304621322104716,
          0.809678749612588,
          -1.1831708952291031,
          -0.45904333165004707,
          -1.1366257937033613,
          -1.1869492991384891,
          -0.9004307312925267,
          -0.9260420032147944,
          -0.9788202599718877,
          -0.7408783784913175,
          -1.1015683655586181,
          -0.4540811084635358,
          -1.0984845245727948,
          -1.143155831673996,
          -1.099871172294038,
          -1.092290519668373,
          -1.1366257937033613,
          -1.092290519668373,
          -1.092290519668373,
          -1.2119547842692802,
          -1.1720666960689778,
          -1.0984845245727948,
          -1.0869183396534314,
          -1.1868219182935058,
          -0.29949097884883763,
          1.655540380317801,
          1.7752046449187087,
          1.3475790242024381,
          1.6666837298048578,
          -1.1575137132144258,
          -1.01870834817219,
          -0.8990440835712831,
          -1.1031407681188878,
          -1.1366257937033613,
          -1.2518428724695825,
          -1.1366257937033613,
          0.17146933840775055,
          -0.7408783784913175,
          -1.092290519668373,
          -1.1831708952291033,
          -0.1824451436870848,
          0.5780469615578135,
          -0.46674007279708657,
          -0.8206545548919221,
          -1.1720666960689778,
          -0.5683731930495013,
          0.5355404439183571,
          0.5947409644860931,
          0.11608390608246584,
          1.786347994405764,
          1.4560999393162897,
          2.2321840490719964,
          1.9746450859202203,
          0.0196137267535809,
          1.8661241708063687,
          1.5939746378671567,
          0.13927799135448782,
          0.7381143517108479,
          0.09677147371503149,
          0.34905283555745226,
          -0.18752345539497048,
          1.1768833219141734,
          -1.1720666960689778,
          -1.1366257937033613,
          -1.1460421641783205,
          -1.1974018014147283,
          -1.1861850140685897,
          0.4987858225090338,
          -0.06785919079406344,
          -1.052402431468071,
          -1.1575137132144258,
          -1.1397592604943407,
          -1.1254824442163058,
          -1.1720666960689778,
          -1.0585964363724922,
          0.3953005234845821,
          0.1366595619153339,
          0.9375547927123595,
          0.3310216912089598,
          1.2960325491632556,
          0.09169316200714588,
          -1.1366257937033613,
          0.03630772968186118,
          -1.2195354368949454
         ],
         "y": [
          -0.05627773494217279,
          0.0075986815482513795,
          -0.06095544710966123,
          0.007503751041429579,
          -0.06095544710966127,
          -0.060289002156670116,
          -0.030981115522930824,
          0.002037022594886688,
          -0.04814547091701891,
          -0.06999101413413591,
          -0.02329766159971409,
          -0.06832515764147326,
          -0.02781544511195106,
          -0.05567511010408114,
          -0.07811368858465362,
          -0.03534508429901325,
          -0.06245178537243702,
          -0.07058404939759137,
          -0.06606626588535405,
          -0.08881511210179138,
          -0.08429732858955406,
          -0.039862867811250584,
          0.006092753710839092,
          -0.08037258034077227,
          -0.01727395025006402,
          -0.027216295929399704,
          0.00429836699847928,
          0.00881615051071664,
          0.008060733944536484,
          -0.057783662779585666,
          -0.033240007279049445,
          -0.05040436267313766,
          -0.0760147254837857,
          -0.08881511210179138,
          -0.0760051359091492,
          -0.6077188510193908,
          -0.06305441021052918,
          -0.6167544180438651,
          -0.06983108547888515,
          0.004295914351005373,
          0.011072589619361356,
          -0.07585479682853491,
          -0.018026914168770274,
          -0.04663954307960655,
          -0.08806214818308514,
          -0.05326587926734834,
          0.7494381123788391,
          -0.02825229329741023,
          -0.6333196242554023,
          0.7441673649478957,
          -0.008966524663285288,
          -0.023478982802389376,
          -0.020420837853312484,
          -0.028722223766812164,
          -0.08505029250826028,
          -0.013022255779237664,
          0.0035101057783286827,
          -0.6295548046618707,
          -0.6272959129057524,
          0.7404025453543648,
          -0.039862867811250584,
          -0.6333196242554023,
          -0.04899454337607689,
          -0.08279140075214159,
          0.7494381123788391,
          -0.04402916617373518,
          -0.6544026139791764,
          -0.6144955262877465,
          -0.6385903716863459,
          0.7501910762975453,
          0.7532029319723703,
          -0.042874723486075454,
          -0.020285805924888933,
          0.009566661781948912,
          -0.6016951396697406,
          0.004298366998479169,
          0.008678308135700197,
          -0.058536626698291884,
          -0.06999101413413585,
          -0.031715296633905786,
          -0.07526176156507942,
          -0.6205192376373962,
          -0.05794359143483641,
          0.010319625700655153,
          0.7388966175169522,
          0.008922042415049862,
          -0.6551555778978825,
          -0.649131866548233,
          -0.05567511010408114,
          -0.01991229266398695,
          -0.6340725881741084,
          0.008678308135700197,
          -0.07827361723990435,
          -0.6378374077676396,
          -0.061708411028367494,
          -0.04522972378254578,
          -0.06932456918114478,
          0.7328729061673025,
          -0.023451476335868675,
          -0.643861119117289,
          0.7441673649478957,
          -0.6476259387108203,
          -0.04302853822223032,
          -0.6521437222230577,
          -0.05567511010408114,
          -0.025183040094930376,
          -0.640096299523758,
          -0.0625478939127888,
          0.7396495814356586,
          -0.05581014203250468,
          -0.08053250899602295,
          0.7283551226550652,
          -0.639343335605052,
          -0.6528966861417638,
          0.7479321845414267,
          0.7592266433220198,
          -0.6476259387108203,
          0.7388966175169522,
          0.7343788340047152,
          0.7592266433220198,
          -0.0633008578314951,
          0.7411555092730707,
          -0.05878307431925771,
          -0.11290995750039044,
          0.7501910762975453,
          -0.639343335605052,
          -0.6544026139791764,
          -0.04001668254740545,
          -0.056581888758942316,
          -0.07083049701855723,
          -0.04127959456448197,
          -0.6513907583043514,
          0.7562147876471954,
          -0.023761361213944926,
          -0.07961961642206601,
          -0.608471814938097,
          -0.6348255520928148,
          -0.04212175956736926,
          -0.024401251406612538,
          -0.643108155198583,
          -0.07074397805284215,
          -0.07526176156507942,
          -0.08505029250826028,
          -0.051253435132195574,
          -0.07224990589025451,
          -0.6370844438489334,
          -0.6288018407431648,
          -0.04212175956736926,
          -0.06983108547888515,
          -0.030981115522930817,
          -0.07224990589025451,
          0.7434144010291895,
          -0.6122366345316281,
          0.758473679403314,
          -0.6190133097999838,
          -0.06230144629182295,
          -0.0714969419715483,
          -0.0562777349421732,
          -0.03242933716454008,
          -0.07133701331629756,
          -0.6303077685805772,
          0.7727799938587319,
          -0.06907812156017896,
          -0.06848508629672345,
          -0.02113487838394675,
          -0.0632143388657799,
          0.0034295888159058684,
          -0.05552477102346698,
          0.004586825873426657,
          -0.059289590616998095,
          -0.017653400907868235,
          0.011825553538067624,
          0.7968748392573309,
          -0.6242840572309276,
          0.006092753710839092,
          -0.004627378368213146,
          -0.05643766359742394,
          -0.06380737412923539,
          -0.049747507294783125,
          -0.060042554535704326,
          -0.010010400104412807,
          -0.0675721937227665,
          -0.0632143388657799,
          -0.06380737412923539,
          -0.005916250330785009,
          -0.06380737412923539,
          -0.636331479930227,
          0.010319625700655153,
          -0.06547323062189861,
          -0.024957404173281107,
          0.0008220062798955616,
          -0.07902658115861051,
          0.7968748392573309,
          0.7968748392573309,
          0.004927210699441884,
          -0.6242840572309276,
          -0.07510183290982873,
          -0.005690227164995578,
          0.005997823204017227,
          -0.001295000061828081,
          -0.06154848237311674,
          -0.06832515764147273,
          0.7968748392573309,
          0.7968748392573309,
          0.7968748392573309,
          -0.6167544180438651,
          0.009444994211679325,
          0.7968748392573309,
          -0.058536626698291884,
          -0.057783662779585666,
          0.7968748392573309,
          0.7810625969645004,
          0.7968748392573309,
          -0.019532842006182646,
          -0.06531330196664788,
          0.006092753710839092,
          0.006554806107124077,
          0.008256714960135877,
          -0.032333228624188325,
          0.008151429845621415,
          -0.007751508348294072,
          -0.03073809970259465,
          -0.08655622034567272,
          -0.09182696777661627,
          0.008717708854245191,
          -0.6122366345316281,
          0.7968748392573309,
          0.008922042415049862,
          -0.060042554535704326,
          -0.015864130953003232,
          0.00533978979213287,
          -0.06305441021052918,
          0.006639573945859454,
          -0.0032337248360567983,
          0.007598681548251514,
          0.007947500476085672,
          -0.0562777349421732,
          0.008813697863242716,
          0.7968748392573309,
          0.008813697863242716,
          0.008813697863242716,
          0.011072589619361356,
          0.010319625700655153,
          0.007598681548251514,
          -0.0016155226933882842,
          0.00890439376432769,
          -0.6152484902064528,
          0.7441673649478957,
          0.7419084731917768,
          -0.05878307431925771,
          -0.06480678566890749,
          0.00869203029297305,
          0.006092753710839092,
          0.0038338619547204356,
          0.007177292097926165,
          0.7968748392573309,
          0.011825553538067624,
          0.7968748392573309,
          -0.07977954507731673,
          -0.06305441021052918,
          0.008813697863242716,
          0.008717708854245212,
          -0.07359590507241624,
          -0.63181369641799,
          -0.06773212237801722,
          -0.06154848237311674,
          0.010319625700655153,
          -0.011404053636569145,
          -0.08714925560912822,
          -0.04739250699831275,
          -0.03835693997383819,
          -0.06706567742502621,
          0.7479321845414267,
          -0.060327925544742256,
          0.7381436535982462,
          -0.6212722015561026,
          -0.06857160526243865,
          -0.04828050284544263,
          -0.6235310933122211,
          0.7614855350781388,
          -0.0788666525033598,
          -0.028722223766812164,
          -0.07300286980896076,
          0.7532029319723703,
          0.010319625700655153,
          0.7968748392573309,
          0.008027889290565839,
          0.009444994211679325,
          0.008816150510716606,
          0.7660033185903761,
          -0.07526176156507942,
          0.008060733944536484,
          0.00869203029297305,
          -0.05552477102346698,
          -0.012099311359472158,
          0.010319625700655153,
          0.006845717629545313,
          -0.04362768740478166,
          -0.07961961642206601,
          0.7577207154846075,
          -0.08279140075214159,
          -0.6453670469547014,
          -0.07827361723990435,
          0.7968748392573309,
          -0.03685101213642571,
          -0.05401884318605453
         ],
         "z": [
          0.7550722068598761,
          -0.13428816977508623,
          -0.5815237177006312,
          -0.10338311287005732,
          -0.5815237177006313,
          0.08747285042405832,
          -0.0015880259637747497,
          -0.19739206444885565,
          -0.007620741106187712,
          -0.55117472056944,
          -0.09108048321696421,
          0.7955375363681317,
          -0.07590598465136858,
          0.01767008983647182,
          0.8284156165935892,
          -0.050615153708708976,
          0.04043183768486542,
          0.80312478565093,
          0.7879502870853342,
          -0.487947643212791,
          -0.5031221417783868,
          -0.035440655143113224,
          -0.12923000358655426,
          0.8360028658763875,
          -0.11131314797109189,
          -0.014233441435104556,
          -0.09041048166870752,
          -0.10558498023430325,
          -0.2176247292029834,
          0.7601303730484086,
          0.0059992233190231045,
          -3.3491823389848486e-05,
          -0.5309420558153122,
          -0.487947643212791,
          0.08595533338165263,
          -0.15405383115704518,
          0.7778339547082701,
          -0.12370483402585372,
          0.8005957025566641,
          -0.20497931373165368,
          -0.22774106158004728,
          0.8208283673107915,
          -0.1087840648768259,
          -0.012678907294719658,
          -0.49047672630705685,
          0.7449558744828128,
          0.02377975379298598,
          0.0213731204900074,
          -0.06806500595200268,
          0.04148333545284763,
          -0.07864834170123515,
          0.0032283269005023672,
          -0.011240544767651258,
          -0.009175275246572643,
          -0.5005930586841206,
          -0.1468104025635367,
          -0.0877449871441451,
          -0.08071042142333247,
          -0.08829767070613034,
          0.05412875092417745,
          -0.035440655143113224,
          -0.06806500595200268,
          0.049536604010069006,
          -0.5081803079669186,
          0.02377975379298598,
          0.07027122079343064,
          0.0027493206874440908,
          -0.13129208330865152,
          -0.05036142429214102,
          0.021250670698720022,
          0.011134338321656207,
          -0.025324322766049432,
          -0.10119681559402813,
          -0.2226828953915154,
          -0.17428649591117276,
          -0.09041048166870772,
          -0.10676459580518614,
          0.7626594561426749,
          -0.55117472056944,
          0.026695701646338093,
          -0.5334711389095781,
          -0.11105941855452392,
          -0.5916400500776949,
          -0.22521197848578126,
          0.05918691711270937,
          -0.10599421452519335,
          0.005278403781710035,
          -0.014954260972417631,
          0.01767008983647182,
          -0.01255515469616791,
          -0.06553592285773678,
          -0.10676459580518614,
          -0.5233548065325142,
          -0.05289050738640698,
          -0.578994634606365,
          0.036891188538739246,
          0.11782184755524985,
          0.07941958186683701,
          -0.02687885690643429,
          -0.032657842632279305,
          0.04148333545284763,
          -0.020012427160949538,
          0.03887730354448055,
          -0.0048379285953538504,
          0.01767008983647182,
          0.005148426963693774,
          -0.04530325810360905,
          0.0950600997068562,
          0.05665783401844339,
          0.10762636066284861,
          -0.5157675572497163,
          0.09459408043243277,
          -0.04783234119787506,
          -0.002308845501087829,
          0.028837919981517877,
          -0.009098326432471443,
          -0.020012427160949538,
          0.05918691711270937,
          0.07436141567830508,
          -0.009098326432471443,
          0.09758918280112217,
          0.05159966782991146,
          0.08241468423552638,
          -0.4070169841962805,
          0.021250670698720022,
          -0.04783234119787506,
          0.0027493206874440908,
          0.028760971167416723,
          0.08440079924126773,
          0.1228800137437817,
          0.06364255503473498,
          -0.0073670116896197655,
          0.0010180059445923785,
          0.0043196183428752715,
          0.8334737827821214,
          -0.15152474806277927,
          -0.06300683976347081,
          -0.027853405860315365,
          0.00839563197295252,
          -0.03518692572654525,
          -0.5486456374751738,
          -0.5334711389095781,
          -0.5005930586841206,
          0.05712385329286684,
          -0.5435874712866419,
          -0.05541959048067294,
          -0.08323950451759841,
          -0.027853405860315365,
          0.8005957025566641,
          -0.0015880259637747866,
          -0.5435874712866419,
          0.04401241854711363,
          -0.13887933259144952,
          -0.006569243338205479,
          -0.11611758474305583,
          0.7753048716140043,
          -0.546116554380908,
          0.7550722068598769,
          -0.006103224063781997,
          0.8056538687451952,
          -0.07818133832906654,
          -0.054621822129258604,
          0.798066619462398,
          -0.5562328867579719,
          -0.044039470477771375,
          -0.5739364684178333,
          -0.09095673061841252,
          0.7525431237656104,
          -0.1241718373980223,
          0.7651885392369405,
          -0.020142403978965807,
          -0.2302701446743132,
          -0.13555248114576918,
          -0.0984140030831942,
          -0.12923000358655426,
          -0.09010593426308323,
          -0.5966982162662271,
          0.780363037802536,
          0.05206568710433497,
          0.7677176223312066,
          -0.1569267349406005,
          0.7930084532738664,
          -0.5739364684178333,
          0.780363037802536,
          -0.05389631290891015,
          0.780363037802536,
          -0.05794867357493885,
          -0.22521197848578126,
          -0.5663492191350353,
          -0.021820690717902446,
          -0.11152642192669254,
          -0.5208257234382485,
          -0.13555248114576918,
          -0.13555248114576918,
          -0.09955645406979005,
          -0.0984140030831942,
          0.8182992842165251,
          -0.0563783759195077,
          -0.0983249466815256,
          -0.06946929912937579,
          0.7727757885197386,
          0.7955375363681317,
          -0.13555248114576918,
          -0.13555248114576918,
          -0.13555248114576918,
          -0.12370483402585372,
          -0.11473095263538578,
          -0.13555248114576918,
          0.7626594561426749,
          0.7601303730484086,
          -0.13555248114576918,
          -0.0824417361661842,
          -0.13555248114576918,
          -0.10372589868829404,
          0.785421203991068,
          -0.12923000358655426,
          -0.21256656301445165,
          -0.10591219596432348,
          -0.0607314860857728,
          -0.1033969257157789,
          -0.16451398422339839,
          0.028235391715011604,
          -0.49553489249558863,
          -0.4778313108357271,
          -0.10321076927371822,
          -0.13887933259144952,
          -0.13555248114576918,
          -0.10599421452519335,
          0.7677176223312066,
          -0.061743052137633,
          -0.1267009204922883,
          0.7778339547082701,
          -0.09793499687013585,
          -0.17968848278899419,
          -0.13428816977508615,
          -0.10061527157030715,
          0.7550722068598769,
          -0.2201538122972493,
          -0.13555248114576918,
          -0.2201538122972493,
          -0.2201538122972493,
          -0.22774106158004728,
          -0.22521197848578126,
          -0.13428816977508615,
          -0.10022226664014701,
          -0.10592600881004491,
          -0.1287630002143856,
          0.04148333545284763,
          0.04907058473564551,
          0.08241468423552638,
          0.10264734898965408,
          -0.11220186954111974,
          -0.12923000358655426,
          -0.12164275430375633,
          -0.0980197738668962,
          -0.13555248114576918,
          -0.2302701446743132,
          -0.13555248114576918,
          -0.5182966403439823,
          0.7778339547082701,
          -0.2201538122972493,
          -0.10321076927371817,
          0.8132411180279939,
          -0.07312317214053457,
          -0.5587619698522376,
          0.7727757885197386,
          -0.22521197848578126,
          -0.06734418641468964,
          0.8587646137247807,
          -0.010149824200453676,
          -0.04049882133164516,
          0.1102345982724519,
          0.028837919981517877,
          0.12280085922844446,
          0.06171600020697535,
          -0.10853033546025796,
          0.11529276446098381,
          0.08233552972018908,
          -0.1009430861774601,
          -0.01668557571526933,
          0.8309446996878554,
          -0.009175275246572643,
          -0.5410583881923763,
          0.011134338321656207,
          -0.22521197848578126,
          -0.13555248114576918,
          -0.1029194857097408,
          -0.11473095263538578,
          -0.10558498023430345,
          -0.031860074280865076,
          -0.5334711389095781,
          -0.2176247292029834,
          -0.11220186954111974,
          0.7525431237656104,
          -0.07438846760896285,
          -0.22521197848578126,
          -0.13175908668082018,
          -0.02279523967178347,
          0.8334737827821214,
          -0.004040160243939547,
          -0.5081803079669186,
          -0.027599676443747383,
          -0.5233548065325142,
          -0.13555248114576918,
          -0.04555698752017706,
          0.7474849575770786
         ]
        }
       ],
       "layout": {
        "autosize": true,
        "coloraxis": {
         "colorbar": {
          "title": {
           "text": "color"
          }
         },
         "colorscale": [
          [
           0,
           "#0d0887"
          ],
          [
           0.1111111111111111,
           "#46039f"
          ],
          [
           0.2222222222222222,
           "#7201a8"
          ],
          [
           0.3333333333333333,
           "#9c179e"
          ],
          [
           0.4444444444444444,
           "#bd3786"
          ],
          [
           0.5555555555555556,
           "#d8576b"
          ],
          [
           0.6666666666666666,
           "#ed7953"
          ],
          [
           0.7777777777777778,
           "#fb9f3a"
          ],
          [
           0.8888888888888888,
           "#fdca26"
          ],
          [
           1,
           "#f0f921"
          ]
         ]
        },
        "legend": {
         "tracegroupgap": 0
        },
        "scene": {
         "aspectmode": "auto",
         "aspectratio": {
          "x": 1.8817574032907995,
          "y": 0.7281242258778653,
          "z": 0.7298454177409479
         },
         "domain": {
          "x": [
           0,
           1
          ],
          "y": [
           0,
           1
          ]
         },
         "xaxis": {
          "title": {
           "text": "PC 1"
          },
          "type": "linear"
         },
         "yaxis": {
          "title": {
           "text": "PC 2"
          },
          "type": "linear"
         },
         "zaxis": {
          "title": {
           "text": "PC 3"
          },
          "type": "linear"
         }
        },
        "template": {
         "data": {
          "bar": [
           {
            "error_x": {
             "color": "#2a3f5f"
            },
            "error_y": {
             "color": "#2a3f5f"
            },
            "marker": {
             "line": {
              "color": "#E5ECF6",
              "width": 0.5
             },
             "pattern": {
              "fillmode": "overlay",
              "size": 10,
              "solidity": 0.2
             }
            },
            "type": "bar"
           }
          ],
          "barpolar": [
           {
            "marker": {
             "line": {
              "color": "#E5ECF6",
              "width": 0.5
             },
             "pattern": {
              "fillmode": "overlay",
              "size": 10,
              "solidity": 0.2
             }
            },
            "type": "barpolar"
           }
          ],
          "carpet": [
           {
            "aaxis": {
             "endlinecolor": "#2a3f5f",
             "gridcolor": "white",
             "linecolor": "white",
             "minorgridcolor": "white",
             "startlinecolor": "#2a3f5f"
            },
            "baxis": {
             "endlinecolor": "#2a3f5f",
             "gridcolor": "white",
             "linecolor": "white",
             "minorgridcolor": "white",
             "startlinecolor": "#2a3f5f"
            },
            "type": "carpet"
           }
          ],
          "choropleth": [
           {
            "colorbar": {
             "outlinewidth": 0,
             "ticks": ""
            },
            "type": "choropleth"
           }
          ],
          "contour": [
           {
            "colorbar": {
             "outlinewidth": 0,
             "ticks": ""
            },
            "colorscale": [
             [
              0,
              "#0d0887"
             ],
             [
              0.1111111111111111,
              "#46039f"
             ],
             [
              0.2222222222222222,
              "#7201a8"
             ],
             [
              0.3333333333333333,
              "#9c179e"
             ],
             [
              0.4444444444444444,
              "#bd3786"
             ],
             [
              0.5555555555555556,
              "#d8576b"
             ],
             [
              0.6666666666666666,
              "#ed7953"
             ],
             [
              0.7777777777777778,
              "#fb9f3a"
             ],
             [
              0.8888888888888888,
              "#fdca26"
             ],
             [
              1,
              "#f0f921"
             ]
            ],
            "type": "contour"
           }
          ],
          "contourcarpet": [
           {
            "colorbar": {
             "outlinewidth": 0,
             "ticks": ""
            },
            "type": "contourcarpet"
           }
          ],
          "heatmap": [
           {
            "colorbar": {
             "outlinewidth": 0,
             "ticks": ""
            },
            "colorscale": [
             [
              0,
              "#0d0887"
             ],
             [
              0.1111111111111111,
              "#46039f"
             ],
             [
              0.2222222222222222,
              "#7201a8"
             ],
             [
              0.3333333333333333,
              "#9c179e"
             ],
             [
              0.4444444444444444,
              "#bd3786"
             ],
             [
              0.5555555555555556,
              "#d8576b"
             ],
             [
              0.6666666666666666,
              "#ed7953"
             ],
             [
              0.7777777777777778,
              "#fb9f3a"
             ],
             [
              0.8888888888888888,
              "#fdca26"
             ],
             [
              1,
              "#f0f921"
             ]
            ],
            "type": "heatmap"
           }
          ],
          "heatmapgl": [
           {
            "colorbar": {
             "outlinewidth": 0,
             "ticks": ""
            },
            "colorscale": [
             [
              0,
              "#0d0887"
             ],
             [
              0.1111111111111111,
              "#46039f"
             ],
             [
              0.2222222222222222,
              "#7201a8"
             ],
             [
              0.3333333333333333,
              "#9c179e"
             ],
             [
              0.4444444444444444,
              "#bd3786"
             ],
             [
              0.5555555555555556,
              "#d8576b"
             ],
             [
              0.6666666666666666,
              "#ed7953"
             ],
             [
              0.7777777777777778,
              "#fb9f3a"
             ],
             [
              0.8888888888888888,
              "#fdca26"
             ],
             [
              1,
              "#f0f921"
             ]
            ],
            "type": "heatmapgl"
           }
          ],
          "histogram": [
           {
            "marker": {
             "pattern": {
              "fillmode": "overlay",
              "size": 10,
              "solidity": 0.2
             }
            },
            "type": "histogram"
           }
          ],
          "histogram2d": [
           {
            "colorbar": {
             "outlinewidth": 0,
             "ticks": ""
            },
            "colorscale": [
             [
              0,
              "#0d0887"
             ],
             [
              0.1111111111111111,
              "#46039f"
             ],
             [
              0.2222222222222222,
              "#7201a8"
             ],
             [
              0.3333333333333333,
              "#9c179e"
             ],
             [
              0.4444444444444444,
              "#bd3786"
             ],
             [
              0.5555555555555556,
              "#d8576b"
             ],
             [
              0.6666666666666666,
              "#ed7953"
             ],
             [
              0.7777777777777778,
              "#fb9f3a"
             ],
             [
              0.8888888888888888,
              "#fdca26"
             ],
             [
              1,
              "#f0f921"
             ]
            ],
            "type": "histogram2d"
           }
          ],
          "histogram2dcontour": [
           {
            "colorbar": {
             "outlinewidth": 0,
             "ticks": ""
            },
            "colorscale": [
             [
              0,
              "#0d0887"
             ],
             [
              0.1111111111111111,
              "#46039f"
             ],
             [
              0.2222222222222222,
              "#7201a8"
             ],
             [
              0.3333333333333333,
              "#9c179e"
             ],
             [
              0.4444444444444444,
              "#bd3786"
             ],
             [
              0.5555555555555556,
              "#d8576b"
             ],
             [
              0.6666666666666666,
              "#ed7953"
             ],
             [
              0.7777777777777778,
              "#fb9f3a"
             ],
             [
              0.8888888888888888,
              "#fdca26"
             ],
             [
              1,
              "#f0f921"
             ]
            ],
            "type": "histogram2dcontour"
           }
          ],
          "mesh3d": [
           {
            "colorbar": {
             "outlinewidth": 0,
             "ticks": ""
            },
            "type": "mesh3d"
           }
          ],
          "parcoords": [
           {
            "line": {
             "colorbar": {
              "outlinewidth": 0,
              "ticks": ""
             }
            },
            "type": "parcoords"
           }
          ],
          "pie": [
           {
            "automargin": true,
            "type": "pie"
           }
          ],
          "scatter": [
           {
            "marker": {
             "colorbar": {
              "outlinewidth": 0,
              "ticks": ""
             }
            },
            "type": "scatter"
           }
          ],
          "scatter3d": [
           {
            "line": {
             "colorbar": {
              "outlinewidth": 0,
              "ticks": ""
             }
            },
            "marker": {
             "colorbar": {
              "outlinewidth": 0,
              "ticks": ""
             }
            },
            "type": "scatter3d"
           }
          ],
          "scattercarpet": [
           {
            "marker": {
             "colorbar": {
              "outlinewidth": 0,
              "ticks": ""
             }
            },
            "type": "scattercarpet"
           }
          ],
          "scattergeo": [
           {
            "marker": {
             "colorbar": {
              "outlinewidth": 0,
              "ticks": ""
             }
            },
            "type": "scattergeo"
           }
          ],
          "scattergl": [
           {
            "marker": {
             "colorbar": {
              "outlinewidth": 0,
              "ticks": ""
             }
            },
            "type": "scattergl"
           }
          ],
          "scattermapbox": [
           {
            "marker": {
             "colorbar": {
              "outlinewidth": 0,
              "ticks": ""
             }
            },
            "type": "scattermapbox"
           }
          ],
          "scatterpolar": [
           {
            "marker": {
             "colorbar": {
              "outlinewidth": 0,
              "ticks": ""
             }
            },
            "type": "scatterpolar"
           }
          ],
          "scatterpolargl": [
           {
            "marker": {
             "colorbar": {
              "outlinewidth": 0,
              "ticks": ""
             }
            },
            "type": "scatterpolargl"
           }
          ],
          "scatterternary": [
           {
            "marker": {
             "colorbar": {
              "outlinewidth": 0,
              "ticks": ""
             }
            },
            "type": "scatterternary"
           }
          ],
          "surface": [
           {
            "colorbar": {
             "outlinewidth": 0,
             "ticks": ""
            },
            "colorscale": [
             [
              0,
              "#0d0887"
             ],
             [
              0.1111111111111111,
              "#46039f"
             ],
             [
              0.2222222222222222,
              "#7201a8"
             ],
             [
              0.3333333333333333,
              "#9c179e"
             ],
             [
              0.4444444444444444,
              "#bd3786"
             ],
             [
              0.5555555555555556,
              "#d8576b"
             ],
             [
              0.6666666666666666,
              "#ed7953"
             ],
             [
              0.7777777777777778,
              "#fb9f3a"
             ],
             [
              0.8888888888888888,
              "#fdca26"
             ],
             [
              1,
              "#f0f921"
             ]
            ],
            "type": "surface"
           }
          ],
          "table": [
           {
            "cells": {
             "fill": {
              "color": "#EBF0F8"
             },
             "line": {
              "color": "white"
             }
            },
            "header": {
             "fill": {
              "color": "#C8D4E3"
             },
             "line": {
              "color": "white"
             }
            },
            "type": "table"
           }
          ]
         },
         "layout": {
          "annotationdefaults": {
           "arrowcolor": "#2a3f5f",
           "arrowhead": 0,
           "arrowwidth": 1
          },
          "autotypenumbers": "strict",
          "coloraxis": {
           "colorbar": {
            "outlinewidth": 0,
            "ticks": ""
           }
          },
          "colorscale": {
           "diverging": [
            [
             0,
             "#8e0152"
            ],
            [
             0.1,
             "#c51b7d"
            ],
            [
             0.2,
             "#de77ae"
            ],
            [
             0.3,
             "#f1b6da"
            ],
            [
             0.4,
             "#fde0ef"
            ],
            [
             0.5,
             "#f7f7f7"
            ],
            [
             0.6,
             "#e6f5d0"
            ],
            [
             0.7,
             "#b8e186"
            ],
            [
             0.8,
             "#7fbc41"
            ],
            [
             0.9,
             "#4d9221"
            ],
            [
             1,
             "#276419"
            ]
           ],
           "sequential": [
            [
             0,
             "#0d0887"
            ],
            [
             0.1111111111111111,
             "#46039f"
            ],
            [
             0.2222222222222222,
             "#7201a8"
            ],
            [
             0.3333333333333333,
             "#9c179e"
            ],
            [
             0.4444444444444444,
             "#bd3786"
            ],
            [
             0.5555555555555556,
             "#d8576b"
            ],
            [
             0.6666666666666666,
             "#ed7953"
            ],
            [
             0.7777777777777778,
             "#fb9f3a"
            ],
            [
             0.8888888888888888,
             "#fdca26"
            ],
            [
             1,
             "#f0f921"
            ]
           ],
           "sequentialminus": [
            [
             0,
             "#0d0887"
            ],
            [
             0.1111111111111111,
             "#46039f"
            ],
            [
             0.2222222222222222,
             "#7201a8"
            ],
            [
             0.3333333333333333,
             "#9c179e"
            ],
            [
             0.4444444444444444,
             "#bd3786"
            ],
            [
             0.5555555555555556,
             "#d8576b"
            ],
            [
             0.6666666666666666,
             "#ed7953"
            ],
            [
             0.7777777777777778,
             "#fb9f3a"
            ],
            [
             0.8888888888888888,
             "#fdca26"
            ],
            [
             1,
             "#f0f921"
            ]
           ]
          },
          "colorway": [
           "#636efa",
           "#EF553B",
           "#00cc96",
           "#ab63fa",
           "#FFA15A",
           "#19d3f3",
           "#FF6692",
           "#B6E880",
           "#FF97FF",
           "#FECB52"
          ],
          "font": {
           "color": "#2a3f5f"
          },
          "geo": {
           "bgcolor": "white",
           "lakecolor": "white",
           "landcolor": "#E5ECF6",
           "showlakes": true,
           "showland": true,
           "subunitcolor": "white"
          },
          "hoverlabel": {
           "align": "left"
          },
          "hovermode": "closest",
          "mapbox": {
           "style": "light"
          },
          "paper_bgcolor": "white",
          "plot_bgcolor": "#E5ECF6",
          "polar": {
           "angularaxis": {
            "gridcolor": "white",
            "linecolor": "white",
            "ticks": ""
           },
           "bgcolor": "#E5ECF6",
           "radialaxis": {
            "gridcolor": "white",
            "linecolor": "white",
            "ticks": ""
           }
          },
          "scene": {
           "xaxis": {
            "backgroundcolor": "#E5ECF6",
            "gridcolor": "white",
            "gridwidth": 2,
            "linecolor": "white",
            "showbackground": true,
            "ticks": "",
            "zerolinecolor": "white"
           },
           "yaxis": {
            "backgroundcolor": "#E5ECF6",
            "gridcolor": "white",
            "gridwidth": 2,
            "linecolor": "white",
            "showbackground": true,
            "ticks": "",
            "zerolinecolor": "white"
           },
           "zaxis": {
            "backgroundcolor": "#E5ECF6",
            "gridcolor": "white",
            "gridwidth": 2,
            "linecolor": "white",
            "showbackground": true,
            "ticks": "",
            "zerolinecolor": "white"
           }
          },
          "shapedefaults": {
           "line": {
            "color": "#2a3f5f"
           }
          },
          "ternary": {
           "aaxis": {
            "gridcolor": "white",
            "linecolor": "white",
            "ticks": ""
           },
           "baxis": {
            "gridcolor": "white",
            "linecolor": "white",
            "ticks": ""
           },
           "bgcolor": "#E5ECF6",
           "caxis": {
            "gridcolor": "white",
            "linecolor": "white",
            "ticks": ""
           }
          },
          "title": {
           "x": 0.05
          },
          "xaxis": {
           "automargin": true,
           "gridcolor": "white",
           "linecolor": "white",
           "ticks": "",
           "title": {
            "standoff": 15
           },
           "zerolinecolor": "white",
           "zerolinewidth": 2
          },
          "yaxis": {
           "automargin": true,
           "gridcolor": "white",
           "linecolor": "white",
           "ticks": "",
           "title": {
            "standoff": 15
           },
           "zerolinecolor": "white",
           "zerolinewidth": 2
          }
         }
        },
        "title": {
         "text": "Total Explained Variance: 68.51%"
        }
       }
      },
      "image/png": "[encoded data removed]",
      "text/html": [
       "<div>                            <div id=\"913674cd-7d7c-40b4-a07b-36e31dbcabd6\" class=\"plotly-graph-div\" style=\"height:525px; width:100%;\"></div>            <script type=\"text/javascript\">                require([\"plotly\"], function(Plotly) {                    window.PLOTLYENV=window.PLOTLYENV || {};                                    if (document.getElementById(\"913674cd-7d7c-40b4-a07b-36e31dbcabd6\")) {                    Plotly.newPlot(                        \"913674cd-7d7c-40b4-a07b-36e31dbcabd6\",                        [{\"hovertemplate\":\"PC 1=%{x}<br>PC 2=%{y}<br>PC 3=%{z}<br>color=%{marker.color}<extra></extra>\",\"legendgroup\":\"\",\"marker\":{\"color\":[1,1,1,1,1,0,0,1,0,1,1,1,1,0,1,1,0,1,1,0,0,1,1,1,1,0,1,1,1,1,0,0,1,0,0,1,1,1,1,1,1,1,1,0,0,1,0,0,0,0,1,0,1,0,0,1,1,0,0,0,1,0,0,0,0,0,0,1,0,0,0,0,1,1,1,1,1,1,1,0,1,1,1,1,0,1,0,0,0,0,0,1,1,0,1,0,0,0,1,0,0,0,0,0,0,0,0,0,0,0,1,0,0,0,0,0,0,0,0,0,0,0,0,0,0,0,0,0,0,0,0,0,0,0,1,1,0,0,0,0,1,1,0,0,1,0,0,0,1,0,1,0,1,0,1,1,1,1,1,1,0,1,1,1,1,1,1,1,1,1,1,1,1,1,1,1,1,1,0,1,1,1,1,1,1,1,0,1,1,1,1,1,1,1,1,1,1,1,1,1,1,1,1,1,1,1,1,1,1,1,1,1,1,1,1,1,1,1,1,1,1,0,0,0,1,1,1,1,1,1,1,1,1,1,1,1,1,1,1,1,1,1,1,1,1,1,1,0,0,0,0,1,1,1,1,1,1,1,1,1,1,1,1,0,1,1,1,1,0,0,1,0,0,0,0,1,0,0,1,0,1,0,1,0,1,1,1,1,1,0,1,1,1,1,1,1,1,0,1,0,0,0,1,1,1,1],\"coloraxis\":\"coloraxis\",\"symbol\":\"circle\"},\"mode\":\"markers\",\"name\":\"\",\"scene\":\"scene\",\"showlegend\":false,\"type\":\"scatter3d\",\"x\":[-1.0998711722940375,-1.0984845245727948,-0.8257328665998076,-1.1100812137581288,-0.8257328665998076,1.4273552006030434,0.4687171001583591,-0.7332977258656522,0.634629052686396,-0.3470758081961798,-0.6816778579235806,-0.46166176108920115,-0.44234932872176663,1.0335099346894194,0.05688338551472914,-0.043468446718743475,1.3925027284921405,-0.341997496488294,-0.5813260256901083,0.6501263968113783,0.41079786760956455,0.19586008248307046,-1.01870834817219,0.17654765011563614,-1.000782563525999,0.2692766591568475,-0.9468564848667751,-1.1861850140685894,-1.052402431468071,-1.0200949958934338,0.588381364759266,0.7542933172873032,-0.027971102593761118,0.6501263968113783,2.1104883160975825,-0.6983718608518609,-0.7408783784913175,-0.21971480244823322,-0.3818855846885964,-0.852961990466559,-1.2119547842692802,-0.06278087908617781,-0.9608944753256969,0.5548528762857913,0.610238308611076,-1.2594235250952475,1.3763237629156853,0.7375521554160605,0.6578231379584181,1.655540380317801,-0.2209465841661435,0.4939551624534746,0.11811537445597092,0.34905283555745226,0.4506859558098668,0.06446403814039442,-0.906713634976506,0.45838269695690653,0.33871843235599947,1.8549808213193129,0.19586008248307046,0.6578231379584181,0.8290338775985083,0.3310216912089598,1.3763237629156853,1.5700880316594246,1.7746896075668837,-0.33937906704914006,0.9370397553605347,1.3364356747153825,1.1768833219141734,0.35541243528427974,-0.8412302107247901,-1.1321786078686753,-1.0174765664542795,-0.9468564848667749,-1.2220781423617384,-0.9802069076931312,-0.34707580819617967,0.7164366974605059,-0.06785919079406344,-0.020274361446721477,-0.9852852194010172,-1.1720666960689778,1.9347569977199175,-1.1869492991384891,1.8145776957671849,1.495472990164766,1.0335099346894194,0.25639156433205296,0.6977112261587206,-1.2220781423617384,0.09169316200714588,0.8971516671602322,-0.7858447783995054,0.6295934365969967,1.9060122590066713,2.2538617033223356,0.06983621815533582,1.2162563727626508,1.655540380317801,1.4156968137641615,1.1069265113631965,1.655025342965976,1.0335099346894194,0.5356081817341691,1.016815931761139,1.5470194652039504,1.8948689095196154,1.99285551987018,0.21135742660805285,2.4931902325241495,0.976927843560837,1.6949134311662788,1.4560999393162897,0.8577786163117548,1.4156968137641615,1.9347569977199175,2.1740855269217323,0.8577786163117548,1.5869075534042523,1.8150927331190099,1.3475790242024381,1.9265452192210533,1.3364356747153825,0.976927843560837,1.7746896075668837,0.9473741585619871,1.824912098968639,1.9857884354072761,1.3804097620089584,1.615137254765674,1.0173309691129642,0.49599325597320765,0.1366595619153339,-0.6584837726515591,0.7375993143590227,0.3155243470839774,0.5374768376405225,1.176368284562349,-0.3071877199958776,-0.06785919079406344,0.4506859558098668,0.9486981421994154,-0.22741154359527269,0.8572635789599297,0.4184946087566042,0.3155243470839774,-0.3818855846885964,0.46871710015835905,-0.22741154359527269,1.6954284685181036,-0.45904333165004707,0.8976667045120573,-0.10005053784732612,-0.7807664666916198,-0.26729963179557503,-1.099871172294038,-0.04850406280814286,-0.3021094082879918,0.49827078515720863,0.13979302870631297,-0.42177367288889867,-0.42685198459678425,-0.6468253858126776,-0.7060686019989006,-0.9801391698773194,-1.1397592604943407,-0.9389321717715854,-0.9403188194928292,0.13672729973114592,-1.2518428724695825,-1.1366257937033613,0.1791660795547902,-1.01870834817219,-0.9273659868522224,-1.0650613958016213,-0.7009902902910153,0.868921965798811,-0.9004307312925267,-0.09508831466081487,-0.5015498492895035,-0.7060686019989006,-0.7009902902910153,-0.42288468768205945,-0.7009902902910153,0.8173754907596277,-1.1720666960689778,-0.5864043373979938,0.1496123945559405,-0.7394917307700738,0.13158125020744815,-1.1366257937033613,-1.1366257937033613,-0.9580732722129139,0.1791660795547902,-0.10266896728648009,-0.4613208608340481,-1.0303050373575235,-0.6629750690127046,-0.8206545548919221,-0.4616617610892011,-1.1366257937033613,-1.1366257937033613,-1.1366257937033613,-0.21971480244823322,-1.1974018014147283,-1.1366257937033613,-0.9802069076931312,-1.0200949958934338,-1.1366257937033613,-0.2989759414970126,-1.1366257937033613,-0.8811182989250925,-0.6212141138904108,-1.01870834817219,-0.9726262550674659,-1.1499693019584307,-0.2030207995199527,-1.1469338300932035,-0.2147525792617219,0.8219765272047254,0.5304621322104716,0.809678749612588,-1.1831708952291031,-0.45904333165004707,-1.1366257937033613,-1.1869492991384891,-0.9004307312925267,-0.9260420032147944,-0.9788202599718877,-0.7408783784913175,-1.1015683655586181,-0.4540811084635358,-1.0984845245727948,-1.143155831673996,-1.099871172294038,-1.092290519668373,-1.1366257937033613,-1.092290519668373,-1.092290519668373,-1.2119547842692802,-1.1720666960689778,-1.0984845245727948,-1.0869183396534314,-1.1868219182935058,-0.29949097884883763,1.655540380317801,1.7752046449187087,1.3475790242024381,1.6666837298048578,-1.1575137132144258,-1.01870834817219,-0.8990440835712831,-1.1031407681188878,-1.1366257937033613,-1.2518428724695825,-1.1366257937033613,0.17146933840775055,-0.7408783784913175,-1.092290519668373,-1.1831708952291033,-0.1824451436870848,0.5780469615578135,-0.46674007279708657,-0.8206545548919221,-1.1720666960689778,-0.5683731930495013,0.5355404439183571,0.5947409644860931,0.11608390608246584,1.786347994405764,1.4560999393162897,2.2321840490719964,1.9746450859202203,0.0196137267535809,1.8661241708063687,1.5939746378671567,0.13927799135448782,0.7381143517108479,0.09677147371503149,0.34905283555745226,-0.18752345539497048,1.1768833219141734,-1.1720666960689778,-1.1366257937033613,-1.1460421641783205,-1.1974018014147283,-1.1861850140685897,0.4987858225090338,-0.06785919079406344,-1.052402431468071,-1.1575137132144258,-1.1397592604943407,-1.1254824442163058,-1.1720666960689778,-1.0585964363724922,0.3953005234845821,0.1366595619153339,0.9375547927123595,0.3310216912089598,1.2960325491632556,0.09169316200714588,-1.1366257937033613,0.03630772968186118,-1.2195354368949454],\"y\":[-0.05627773494217279,0.0075986815482513795,-0.06095544710966123,0.007503751041429579,-0.06095544710966127,-0.060289002156670116,-0.030981115522930824,0.002037022594886688,-0.04814547091701891,-0.06999101413413591,-0.02329766159971409,-0.06832515764147326,-0.02781544511195106,-0.05567511010408114,-0.07811368858465362,-0.03534508429901325,-0.06245178537243702,-0.07058404939759137,-0.06606626588535405,-0.08881511210179138,-0.08429732858955406,-0.039862867811250584,0.006092753710839092,-0.08037258034077227,-0.01727395025006402,-0.027216295929399704,0.00429836699847928,0.00881615051071664,0.008060733944536484,-0.057783662779585666,-0.033240007279049445,-0.05040436267313766,-0.0760147254837857,-0.08881511210179138,-0.0760051359091492,-0.6077188510193908,-0.06305441021052918,-0.6167544180438651,-0.06983108547888515,0.004295914351005373,0.011072589619361356,-0.07585479682853491,-0.018026914168770274,-0.04663954307960655,-0.08806214818308514,-0.05326587926734834,0.7494381123788391,-0.02825229329741023,-0.6333196242554023,0.7441673649478957,-0.008966524663285288,-0.023478982802389376,-0.020420837853312484,-0.028722223766812164,-0.08505029250826028,-0.013022255779237664,0.0035101057783286827,-0.6295548046618707,-0.6272959129057524,0.7404025453543648,-0.039862867811250584,-0.6333196242554023,-0.04899454337607689,-0.08279140075214159,0.7494381123788391,-0.04402916617373518,-0.6544026139791764,-0.6144955262877465,-0.6385903716863459,0.7501910762975453,0.7532029319723703,-0.042874723486075454,-0.020285805924888933,0.009566661781948912,-0.6016951396697406,0.004298366998479169,0.008678308135700197,-0.058536626698291884,-0.06999101413413585,-0.031715296633905786,-0.07526176156507942,-0.6205192376373962,-0.05794359143483641,0.010319625700655153,0.7388966175169522,0.008922042415049862,-0.6551555778978825,-0.649131866548233,-0.05567511010408114,-0.01991229266398695,-0.6340725881741084,0.008678308135700197,-0.07827361723990435,-0.6378374077676396,-0.061708411028367494,-0.04522972378254578,-0.06932456918114478,0.7328729061673025,-0.023451476335868675,-0.643861119117289,0.7441673649478957,-0.6476259387108203,-0.04302853822223032,-0.6521437222230577,-0.05567511010408114,-0.025183040094930376,-0.640096299523758,-0.0625478939127888,0.7396495814356586,-0.05581014203250468,-0.08053250899602295,0.7283551226550652,-0.639343335605052,-0.6528966861417638,0.7479321845414267,0.7592266433220198,-0.6476259387108203,0.7388966175169522,0.7343788340047152,0.7592266433220198,-0.0633008578314951,0.7411555092730707,-0.05878307431925771,-0.11290995750039044,0.7501910762975453,-0.639343335605052,-0.6544026139791764,-0.04001668254740545,-0.056581888758942316,-0.07083049701855723,-0.04127959456448197,-0.6513907583043514,0.7562147876471954,-0.023761361213944926,-0.07961961642206601,-0.608471814938097,-0.6348255520928148,-0.04212175956736926,-0.024401251406612538,-0.643108155198583,-0.07074397805284215,-0.07526176156507942,-0.08505029250826028,-0.051253435132195574,-0.07224990589025451,-0.6370844438489334,-0.6288018407431648,-0.04212175956736926,-0.06983108547888515,-0.030981115522930817,-0.07224990589025451,0.7434144010291895,-0.6122366345316281,0.758473679403314,-0.6190133097999838,-0.06230144629182295,-0.0714969419715483,-0.0562777349421732,-0.03242933716454008,-0.07133701331629756,-0.6303077685805772,0.7727799938587319,-0.06907812156017896,-0.06848508629672345,-0.02113487838394675,-0.0632143388657799,0.0034295888159058684,-0.05552477102346698,0.004586825873426657,-0.059289590616998095,-0.017653400907868235,0.011825553538067624,0.7968748392573309,-0.6242840572309276,0.006092753710839092,-0.004627378368213146,-0.05643766359742394,-0.06380737412923539,-0.049747507294783125,-0.060042554535704326,-0.010010400104412807,-0.0675721937227665,-0.0632143388657799,-0.06380737412923539,-0.005916250330785009,-0.06380737412923539,-0.636331479930227,0.010319625700655153,-0.06547323062189861,-0.024957404173281107,0.0008220062798955616,-0.07902658115861051,0.7968748392573309,0.7968748392573309,0.004927210699441884,-0.6242840572309276,-0.07510183290982873,-0.005690227164995578,0.005997823204017227,-0.001295000061828081,-0.06154848237311674,-0.06832515764147273,0.7968748392573309,0.7968748392573309,0.7968748392573309,-0.6167544180438651,0.009444994211679325,0.7968748392573309,-0.058536626698291884,-0.057783662779585666,0.7968748392573309,0.7810625969645004,0.7968748392573309,-0.019532842006182646,-0.06531330196664788,0.006092753710839092,0.006554806107124077,0.008256714960135877,-0.032333228624188325,0.008151429845621415,-0.007751508348294072,-0.03073809970259465,-0.08655622034567272,-0.09182696777661627,0.008717708854245191,-0.6122366345316281,0.7968748392573309,0.008922042415049862,-0.060042554535704326,-0.015864130953003232,0.00533978979213287,-0.06305441021052918,0.006639573945859454,-0.0032337248360567983,0.007598681548251514,0.007947500476085672,-0.0562777349421732,0.008813697863242716,0.7968748392573309,0.008813697863242716,0.008813697863242716,0.011072589619361356,0.010319625700655153,0.007598681548251514,-0.0016155226933882842,0.00890439376432769,-0.6152484902064528,0.7441673649478957,0.7419084731917768,-0.05878307431925771,-0.06480678566890749,0.00869203029297305,0.006092753710839092,0.0038338619547204356,0.007177292097926165,0.7968748392573309,0.011825553538067624,0.7968748392573309,-0.07977954507731673,-0.06305441021052918,0.008813697863242716,0.008717708854245212,-0.07359590507241624,-0.63181369641799,-0.06773212237801722,-0.06154848237311674,0.010319625700655153,-0.011404053636569145,-0.08714925560912822,-0.04739250699831275,-0.03835693997383819,-0.06706567742502621,0.7479321845414267,-0.060327925544742256,0.7381436535982462,-0.6212722015561026,-0.06857160526243865,-0.04828050284544263,-0.6235310933122211,0.7614855350781388,-0.0788666525033598,-0.028722223766812164,-0.07300286980896076,0.7532029319723703,0.010319625700655153,0.7968748392573309,0.008027889290565839,0.009444994211679325,0.008816150510716606,0.7660033185903761,-0.07526176156507942,0.008060733944536484,0.00869203029297305,-0.05552477102346698,-0.012099311359472158,0.010319625700655153,0.006845717629545313,-0.04362768740478166,-0.07961961642206601,0.7577207154846075,-0.08279140075214159,-0.6453670469547014,-0.07827361723990435,0.7968748392573309,-0.03685101213642571,-0.05401884318605453],\"z\":[0.7550722068598761,-0.13428816977508623,-0.5815237177006312,-0.10338311287005732,-0.5815237177006313,0.08747285042405832,-0.0015880259637747497,-0.19739206444885565,-0.007620741106187712,-0.55117472056944,-0.09108048321696421,0.7955375363681317,-0.07590598465136858,0.01767008983647182,0.8284156165935892,-0.050615153708708976,0.04043183768486542,0.80312478565093,0.7879502870853342,-0.487947643212791,-0.5031221417783868,-0.035440655143113224,-0.12923000358655426,0.8360028658763875,-0.11131314797109189,-0.014233441435104556,-0.09041048166870752,-0.10558498023430325,-0.2176247292029834,0.7601303730484086,0.0059992233190231045,-3.3491823389848486e-05,-0.5309420558153122,-0.487947643212791,0.08595533338165263,-0.15405383115704518,0.7778339547082701,-0.12370483402585372,0.8005957025566641,-0.20497931373165368,-0.22774106158004728,0.8208283673107915,-0.1087840648768259,-0.012678907294719658,-0.49047672630705685,0.7449558744828128,0.02377975379298598,0.0213731204900074,-0.06806500595200268,0.04148333545284763,-0.07864834170123515,0.0032283269005023672,-0.011240544767651258,-0.009175275246572643,-0.5005930586841206,-0.1468104025635367,-0.0877449871441451,-0.08071042142333247,-0.08829767070613034,0.05412875092417745,-0.035440655143113224,-0.06806500595200268,0.049536604010069006,-0.5081803079669186,0.02377975379298598,0.07027122079343064,0.0027493206874440908,-0.13129208330865152,-0.05036142429214102,0.021250670698720022,0.011134338321656207,-0.025324322766049432,-0.10119681559402813,-0.2226828953915154,-0.17428649591117276,-0.09041048166870772,-0.10676459580518614,0.7626594561426749,-0.55117472056944,0.026695701646338093,-0.5334711389095781,-0.11105941855452392,-0.5916400500776949,-0.22521197848578126,0.05918691711270937,-0.10599421452519335,0.005278403781710035,-0.014954260972417631,0.01767008983647182,-0.01255515469616791,-0.06553592285773678,-0.10676459580518614,-0.5233548065325142,-0.05289050738640698,-0.578994634606365,0.036891188538739246,0.11782184755524985,0.07941958186683701,-0.02687885690643429,-0.032657842632279305,0.04148333545284763,-0.020012427160949538,0.03887730354448055,-0.0048379285953538504,0.01767008983647182,0.005148426963693774,-0.04530325810360905,0.0950600997068562,0.05665783401844339,0.10762636066284861,-0.5157675572497163,0.09459408043243277,-0.04783234119787506,-0.002308845501087829,0.028837919981517877,-0.009098326432471443,-0.020012427160949538,0.05918691711270937,0.07436141567830508,-0.009098326432471443,0.09758918280112217,0.05159966782991146,0.08241468423552638,-0.4070169841962805,0.021250670698720022,-0.04783234119787506,0.0027493206874440908,0.028760971167416723,0.08440079924126773,0.1228800137437817,0.06364255503473498,-0.0073670116896197655,0.0010180059445923785,0.0043196183428752715,0.8334737827821214,-0.15152474806277927,-0.06300683976347081,-0.027853405860315365,0.00839563197295252,-0.03518692572654525,-0.5486456374751738,-0.5334711389095781,-0.5005930586841206,0.05712385329286684,-0.5435874712866419,-0.05541959048067294,-0.08323950451759841,-0.027853405860315365,0.8005957025566641,-0.0015880259637747866,-0.5435874712866419,0.04401241854711363,-0.13887933259144952,-0.006569243338205479,-0.11611758474305583,0.7753048716140043,-0.546116554380908,0.7550722068598769,-0.006103224063781997,0.8056538687451952,-0.07818133832906654,-0.054621822129258604,0.798066619462398,-0.5562328867579719,-0.044039470477771375,-0.5739364684178333,-0.09095673061841252,0.7525431237656104,-0.1241718373980223,0.7651885392369405,-0.020142403978965807,-0.2302701446743132,-0.13555248114576918,-0.0984140030831942,-0.12923000358655426,-0.09010593426308323,-0.5966982162662271,0.780363037802536,0.05206568710433497,0.7677176223312066,-0.1569267349406005,0.7930084532738664,-0.5739364684178333,0.780363037802536,-0.05389631290891015,0.780363037802536,-0.05794867357493885,-0.22521197848578126,-0.5663492191350353,-0.021820690717902446,-0.11152642192669254,-0.5208257234382485,-0.13555248114576918,-0.13555248114576918,-0.09955645406979005,-0.0984140030831942,0.8182992842165251,-0.0563783759195077,-0.0983249466815256,-0.06946929912937579,0.7727757885197386,0.7955375363681317,-0.13555248114576918,-0.13555248114576918,-0.13555248114576918,-0.12370483402585372,-0.11473095263538578,-0.13555248114576918,0.7626594561426749,0.7601303730484086,-0.13555248114576918,-0.0824417361661842,-0.13555248114576918,-0.10372589868829404,0.785421203991068,-0.12923000358655426,-0.21256656301445165,-0.10591219596432348,-0.0607314860857728,-0.1033969257157789,-0.16451398422339839,0.028235391715011604,-0.49553489249558863,-0.4778313108357271,-0.10321076927371822,-0.13887933259144952,-0.13555248114576918,-0.10599421452519335,0.7677176223312066,-0.061743052137633,-0.1267009204922883,0.7778339547082701,-0.09793499687013585,-0.17968848278899419,-0.13428816977508615,-0.10061527157030715,0.7550722068598769,-0.2201538122972493,-0.13555248114576918,-0.2201538122972493,-0.2201538122972493,-0.22774106158004728,-0.22521197848578126,-0.13428816977508615,-0.10022226664014701,-0.10592600881004491,-0.1287630002143856,0.04148333545284763,0.04907058473564551,0.08241468423552638,0.10264734898965408,-0.11220186954111974,-0.12923000358655426,-0.12164275430375633,-0.0980197738668962,-0.13555248114576918,-0.2302701446743132,-0.13555248114576918,-0.5182966403439823,0.7778339547082701,-0.2201538122972493,-0.10321076927371817,0.8132411180279939,-0.07312317214053457,-0.5587619698522376,0.7727757885197386,-0.22521197848578126,-0.06734418641468964,0.8587646137247807,-0.010149824200453676,-0.04049882133164516,0.1102345982724519,0.028837919981517877,0.12280085922844446,0.06171600020697535,-0.10853033546025796,0.11529276446098381,0.08233552972018908,-0.1009430861774601,-0.01668557571526933,0.8309446996878554,-0.009175275246572643,-0.5410583881923763,0.011134338321656207,-0.22521197848578126,-0.13555248114576918,-0.1029194857097408,-0.11473095263538578,-0.10558498023430345,-0.031860074280865076,-0.5334711389095781,-0.2176247292029834,-0.11220186954111974,0.7525431237656104,-0.07438846760896285,-0.22521197848578126,-0.13175908668082018,-0.02279523967178347,0.8334737827821214,-0.004040160243939547,-0.5081803079669186,-0.027599676443747383,-0.5233548065325142,-0.13555248114576918,-0.04555698752017706,0.7474849575770786]}],                        {\"coloraxis\":{\"colorbar\":{\"title\":{\"text\":\"color\"}},\"colorscale\":[[0.0,\"#0d0887\"],[0.1111111111111111,\"#46039f\"],[0.2222222222222222,\"#7201a8\"],[0.3333333333333333,\"#9c179e\"],[0.4444444444444444,\"#bd3786\"],[0.5555555555555556,\"#d8576b\"],[0.6666666666666666,\"#ed7953\"],[0.7777777777777778,\"#fb9f3a\"],[0.8888888888888888,\"#fdca26\"],[1.0,\"#f0f921\"]]},\"legend\":{\"tracegroupgap\":0},\"scene\":{\"domain\":{\"x\":[0.0,1.0],\"y\":[0.0,1.0]},\"xaxis\":{\"title\":{\"text\":\"PC 1\"}},\"yaxis\":{\"title\":{\"text\":\"PC 2\"}},\"zaxis\":{\"title\":{\"text\":\"PC 3\"}}},\"template\":{\"data\":{\"bar\":[{\"error_x\":{\"color\":\"#2a3f5f\"},\"error_y\":{\"color\":\"#2a3f5f\"},\"marker\":{\"line\":{\"color\":\"#E5ECF6\",\"width\":0.5},\"pattern\":{\"fillmode\":\"overlay\",\"size\":10,\"solidity\":0.2}},\"type\":\"bar\"}],\"barpolar\":[{\"marker\":{\"line\":{\"color\":\"#E5ECF6\",\"width\":0.5},\"pattern\":{\"fillmode\":\"overlay\",\"size\":10,\"solidity\":0.2}},\"type\":\"barpolar\"}],\"carpet\":[{\"aaxis\":{\"endlinecolor\":\"#2a3f5f\",\"gridcolor\":\"white\",\"linecolor\":\"white\",\"minorgridcolor\":\"white\",\"startlinecolor\":\"#2a3f5f\"},\"baxis\":{\"endlinecolor\":\"#2a3f5f\",\"gridcolor\":\"white\",\"linecolor\":\"white\",\"minorgridcolor\":\"white\",\"startlinecolor\":\"#2a3f5f\"},\"type\":\"carpet\"}],\"choropleth\":[{\"colorbar\":{\"outlinewidth\":0,\"ticks\":\"\"},\"type\":\"choropleth\"}],\"contour\":[{\"colorbar\":{\"outlinewidth\":0,\"ticks\":\"\"},\"colorscale\":[[0.0,\"#0d0887\"],[0.1111111111111111,\"#46039f\"],[0.2222222222222222,\"#7201a8\"],[0.3333333333333333,\"#9c179e\"],[0.4444444444444444,\"#bd3786\"],[0.5555555555555556,\"#d8576b\"],[0.6666666666666666,\"#ed7953\"],[0.7777777777777778,\"#fb9f3a\"],[0.8888888888888888,\"#fdca26\"],[1.0,\"#f0f921\"]],\"type\":\"contour\"}],\"contourcarpet\":[{\"colorbar\":{\"outlinewidth\":0,\"ticks\":\"\"},\"type\":\"contourcarpet\"}],\"heatmap\":[{\"colorbar\":{\"outlinewidth\":0,\"ticks\":\"\"},\"colorscale\":[[0.0,\"#0d0887\"],[0.1111111111111111,\"#46039f\"],[0.2222222222222222,\"#7201a8\"],[0.3333333333333333,\"#9c179e\"],[0.4444444444444444,\"#bd3786\"],[0.5555555555555556,\"#d8576b\"],[0.6666666666666666,\"#ed7953\"],[0.7777777777777778,\"#fb9f3a\"],[0.8888888888888888,\"#fdca26\"],[1.0,\"#f0f921\"]],\"type\":\"heatmap\"}],\"heatmapgl\":[{\"colorbar\":{\"outlinewidth\":0,\"ticks\":\"\"},\"colorscale\":[[0.0,\"#0d0887\"],[0.1111111111111111,\"#46039f\"],[0.2222222222222222,\"#7201a8\"],[0.3333333333333333,\"#9c179e\"],[0.4444444444444444,\"#bd3786\"],[0.5555555555555556,\"#d8576b\"],[0.6666666666666666,\"#ed7953\"],[0.7777777777777778,\"#fb9f3a\"],[0.8888888888888888,\"#fdca26\"],[1.0,\"#f0f921\"]],\"type\":\"heatmapgl\"}],\"histogram\":[{\"marker\":{\"pattern\":{\"fillmode\":\"overlay\",\"size\":10,\"solidity\":0.2}},\"type\":\"histogram\"}],\"histogram2d\":[{\"colorbar\":{\"outlinewidth\":0,\"ticks\":\"\"},\"colorscale\":[[0.0,\"#0d0887\"],[0.1111111111111111,\"#46039f\"],[0.2222222222222222,\"#7201a8\"],[0.3333333333333333,\"#9c179e\"],[0.4444444444444444,\"#bd3786\"],[0.5555555555555556,\"#d8576b\"],[0.6666666666666666,\"#ed7953\"],[0.7777777777777778,\"#fb9f3a\"],[0.8888888888888888,\"#fdca26\"],[1.0,\"#f0f921\"]],\"type\":\"histogram2d\"}],\"histogram2dcontour\":[{\"colorbar\":{\"outlinewidth\":0,\"ticks\":\"\"},\"colorscale\":[[0.0,\"#0d0887\"],[0.1111111111111111,\"#46039f\"],[0.2222222222222222,\"#7201a8\"],[0.3333333333333333,\"#9c179e\"],[0.4444444444444444,\"#bd3786\"],[0.5555555555555556,\"#d8576b\"],[0.6666666666666666,\"#ed7953\"],[0.7777777777777778,\"#fb9f3a\"],[0.8888888888888888,\"#fdca26\"],[1.0,\"#f0f921\"]],\"type\":\"histogram2dcontour\"}],\"mesh3d\":[{\"colorbar\":{\"outlinewidth\":0,\"ticks\":\"\"},\"type\":\"mesh3d\"}],\"parcoords\":[{\"line\":{\"colorbar\":{\"outlinewidth\":0,\"ticks\":\"\"}},\"type\":\"parcoords\"}],\"pie\":[{\"automargin\":true,\"type\":\"pie\"}],\"scatter\":[{\"marker\":{\"colorbar\":{\"outlinewidth\":0,\"ticks\":\"\"}},\"type\":\"scatter\"}],\"scatter3d\":[{\"line\":{\"colorbar\":{\"outlinewidth\":0,\"ticks\":\"\"}},\"marker\":{\"colorbar\":{\"outlinewidth\":0,\"ticks\":\"\"}},\"type\":\"scatter3d\"}],\"scattercarpet\":[{\"marker\":{\"colorbar\":{\"outlinewidth\":0,\"ticks\":\"\"}},\"type\":\"scattercarpet\"}],\"scattergeo\":[{\"marker\":{\"colorbar\":{\"outlinewidth\":0,\"ticks\":\"\"}},\"type\":\"scattergeo\"}],\"scattergl\":[{\"marker\":{\"colorbar\":{\"outlinewidth\":0,\"ticks\":\"\"}},\"type\":\"scattergl\"}],\"scattermapbox\":[{\"marker\":{\"colorbar\":{\"outlinewidth\":0,\"ticks\":\"\"}},\"type\":\"scattermapbox\"}],\"scatterpolar\":[{\"marker\":{\"colorbar\":{\"outlinewidth\":0,\"ticks\":\"\"}},\"type\":\"scatterpolar\"}],\"scatterpolargl\":[{\"marker\":{\"colorbar\":{\"outlinewidth\":0,\"ticks\":\"\"}},\"type\":\"scatterpolargl\"}],\"scatterternary\":[{\"marker\":{\"colorbar\":{\"outlinewidth\":0,\"ticks\":\"\"}},\"type\":\"scatterternary\"}],\"surface\":[{\"colorbar\":{\"outlinewidth\":0,\"ticks\":\"\"},\"colorscale\":[[0.0,\"#0d0887\"],[0.1111111111111111,\"#46039f\"],[0.2222222222222222,\"#7201a8\"],[0.3333333333333333,\"#9c179e\"],[0.4444444444444444,\"#bd3786\"],[0.5555555555555556,\"#d8576b\"],[0.6666666666666666,\"#ed7953\"],[0.7777777777777778,\"#fb9f3a\"],[0.8888888888888888,\"#fdca26\"],[1.0,\"#f0f921\"]],\"type\":\"surface\"}],\"table\":[{\"cells\":{\"fill\":{\"color\":\"#EBF0F8\"},\"line\":{\"color\":\"white\"}},\"header\":{\"fill\":{\"color\":\"#C8D4E3\"},\"line\":{\"color\":\"white\"}},\"type\":\"table\"}]},\"layout\":{\"annotationdefaults\":{\"arrowcolor\":\"#2a3f5f\",\"arrowhead\":0,\"arrowwidth\":1},\"autotypenumbers\":\"strict\",\"coloraxis\":{\"colorbar\":{\"outlinewidth\":0,\"ticks\":\"\"}},\"colorscale\":{\"diverging\":[[0,\"#8e0152\"],[0.1,\"#c51b7d\"],[0.2,\"#de77ae\"],[0.3,\"#f1b6da\"],[0.4,\"#fde0ef\"],[0.5,\"#f7f7f7\"],[0.6,\"#e6f5d0\"],[0.7,\"#b8e186\"],[0.8,\"#7fbc41\"],[0.9,\"#4d9221\"],[1,\"#276419\"]],\"sequential\":[[0.0,\"#0d0887\"],[0.1111111111111111,\"#46039f\"],[0.2222222222222222,\"#7201a8\"],[0.3333333333333333,\"#9c179e\"],[0.4444444444444444,\"#bd3786\"],[0.5555555555555556,\"#d8576b\"],[0.6666666666666666,\"#ed7953\"],[0.7777777777777778,\"#fb9f3a\"],[0.8888888888888888,\"#fdca26\"],[1.0,\"#f0f921\"]],\"sequentialminus\":[[0.0,\"#0d0887\"],[0.1111111111111111,\"#46039f\"],[0.2222222222222222,\"#7201a8\"],[0.3333333333333333,\"#9c179e\"],[0.4444444444444444,\"#bd3786\"],[0.5555555555555556,\"#d8576b\"],[0.6666666666666666,\"#ed7953\"],[0.7777777777777778,\"#fb9f3a\"],[0.8888888888888888,\"#fdca26\"],[1.0,\"#f0f921\"]]},\"colorway\":[\"#636efa\",\"#EF553B\",\"#00cc96\",\"#ab63fa\",\"#FFA15A\",\"#19d3f3\",\"#FF6692\",\"#B6E880\",\"#FF97FF\",\"#FECB52\"],\"font\":{\"color\":\"#2a3f5f\"},\"geo\":{\"bgcolor\":\"white\",\"lakecolor\":\"white\",\"landcolor\":\"#E5ECF6\",\"showlakes\":true,\"showland\":true,\"subunitcolor\":\"white\"},\"hoverlabel\":{\"align\":\"left\"},\"hovermode\":\"closest\",\"mapbox\":{\"style\":\"light\"},\"paper_bgcolor\":\"white\",\"plot_bgcolor\":\"#E5ECF6\",\"polar\":{\"angularaxis\":{\"gridcolor\":\"white\",\"linecolor\":\"white\",\"ticks\":\"\"},\"bgcolor\":\"#E5ECF6\",\"radialaxis\":{\"gridcolor\":\"white\",\"linecolor\":\"white\",\"ticks\":\"\"}},\"scene\":{\"xaxis\":{\"backgroundcolor\":\"#E5ECF6\",\"gridcolor\":\"white\",\"gridwidth\":2,\"linecolor\":\"white\",\"showbackground\":true,\"ticks\":\"\",\"zerolinecolor\":\"white\"},\"yaxis\":{\"backgroundcolor\":\"#E5ECF6\",\"gridcolor\":\"white\",\"gridwidth\":2,\"linecolor\":\"white\",\"showbackground\":true,\"ticks\":\"\",\"zerolinecolor\":\"white\"},\"zaxis\":{\"backgroundcolor\":\"#E5ECF6\",\"gridcolor\":\"white\",\"gridwidth\":2,\"linecolor\":\"white\",\"showbackground\":true,\"ticks\":\"\",\"zerolinecolor\":\"white\"}},\"shapedefaults\":{\"line\":{\"color\":\"#2a3f5f\"}},\"ternary\":{\"aaxis\":{\"gridcolor\":\"white\",\"linecolor\":\"white\",\"ticks\":\"\"},\"baxis\":{\"gridcolor\":\"white\",\"linecolor\":\"white\",\"ticks\":\"\"},\"bgcolor\":\"#E5ECF6\",\"caxis\":{\"gridcolor\":\"white\",\"linecolor\":\"white\",\"ticks\":\"\"}},\"title\":{\"x\":0.05},\"xaxis\":{\"automargin\":true,\"gridcolor\":\"white\",\"linecolor\":\"white\",\"ticks\":\"\",\"title\":{\"standoff\":15},\"zerolinecolor\":\"white\",\"zerolinewidth\":2},\"yaxis\":{\"automargin\":true,\"gridcolor\":\"white\",\"linecolor\":\"white\",\"ticks\":\"\",\"title\":{\"standoff\":15},\"zerolinecolor\":\"white\",\"zerolinewidth\":2}}},\"title\":{\"text\":\"Total Explained Variance: 68.51%\"}},                        {\"responsive\": true}                    ).then(function(){\n",
       "                            \n",
       "var gd = document.getElementById('913674cd-7d7c-40b4-a07b-36e31dbcabd6');\n",
       "var x = new MutationObserver(function (mutations, observer) {{\n",
       "        var display = window.getComputedStyle(gd).display;\n",
       "        if (!display || display === 'none') {{\n",
       "            console.log([gd, 'removed!']);\n",
       "            Plotly.purge(gd);\n",
       "            observer.disconnect();\n",
       "        }}\n",
       "}});\n",
       "\n",
       "// Listen for the removal of the full notebook cells\n",
       "var notebookContainer = gd.closest('#notebook-container');\n",
       "if (notebookContainer) {{\n",
       "    x.observe(notebookContainer, {childList: true});\n",
       "}}\n",
       "\n",
       "// Listen for the clearing of the current output cell\n",
       "var outputEl = gd.closest('.output');\n",
       "if (outputEl) {{\n",
       "    x.observe(outputEl, {childList: true});\n",
       "}}\n",
       "\n",
       "                        })                };                });            </script>        </div>"
      ]
     },
     "metadata": {},
     "output_type": "display_data"
    }
   ],
   "source": [
    "#3D Scatter Plot\n",
    "\n",
    "pca = PCA(n_components=3)\n",
    "components = pca.fit_transform(X)\n",
    "\n",
    "total_var = pca.explained_variance_ratio_.sum() * 100\n",
    "\n",
    "fig = px.scatter_3d(\n",
    "    components, x=0, y=1, z=2, color=y_km,\n",
    "    title=f'Total Explained Variance: {total_var:.2f}%',\n",
    "    labels={'0': 'PC 1', '1': 'PC 2', '2': 'PC 3'}\n",
    ")\n",
    "fig.show()"
   ]
  },
  {
   "cell_type": "code",
   "execution_count": 158,
   "id": "78dec145-1d79-4f54-affc-47159ec48c04",
   "metadata": {},
   "outputs": [],
   "source": [
    "#Hirachical clustering"
   ]
  },
  {
   "cell_type": "code",
   "execution_count": 159,
   "id": "689eff4f-557b-4aad-8969-87bbda1a8c3f",
   "metadata": {},
   "outputs": [],
   "source": [
    "#Explore the Dendrogram\n",
    "from sklearn.cluster import AgglomerativeClustering\n",
    "\n",
    "import scipy.cluster.hierarchy as sch\n",
    "\n",
    "# set figure size\n",
    "plt.rcParams[\"figure.figsize\"] = (12,8)"
   ]
  },
  {
   "cell_type": "code",
   "execution_count": 160,
   "id": "e6e1374e-e22f-4510-ba5e-fb7bebe34e57",
   "metadata": {},
   "outputs": [],
   "source": [
    "def plot_dendrogram(X,method ='ward'):\n",
    "    dendrogram = sch.dendrogram(sch.linkage(X, method=method))\n",
    "    plt.title(\"Dendrogram\")\n",
    "    plt.ylabel(\"Euclidean distances\")\n",
    "    plt.xlabel('Points')\n",
    "    plt.show()"
   ]
  },
  {
   "cell_type": "code",
   "execution_count": 161,
   "id": "eb0d566a-0e5c-4d3e-a509-aef740ec37f5",
   "metadata": {},
   "outputs": [
    {
     "data": {
      "image/png": "[encoded data removed]",
      "text/plain": [
       "<Figure size 1200x800 with 1 Axes>"
      ]
     },
     "metadata": {},
     "output_type": "display_data"
    }
   ],
   "source": [
    "plot_dendrogram(model_data_encoded)"
   ]
  },
  {
   "cell_type": "code",
   "execution_count": 162,
   "id": "9e9724eb-755c-4453-9196-4a892a478126",
   "metadata": {},
   "outputs": [],
   "source": [
    "# create an object for Hier.Clust\n",
    "ac = AgglomerativeClustering(affinity='euclidean',\n",
    "                             linkage='ward',\n",
    "                             n_clusters = 2)"
   ]
  },
  {
   "cell_type": "code",
   "execution_count": 163,
   "id": "b1221cdc-a087-480a-a045-20f517781ffc",
   "metadata": {
    "tags": []
   },
   "outputs": [
    {
     "data": {
      "text/plain": [
       "array([1, 1, 0, 1, 0, 0, 0, 1, 0, 0, 1, 1, 1, 0, 1, 0, 0, 1, 1, 0, 0, 0,\n",
       "       1, 1, 1, 0, 1, 1, 1, 1, 0, 0, 0, 0, 0, 0, 1, 0, 1, 1, 1, 1, 1, 0,\n",
       "       0, 1, 0, 0, 0, 0, 1, 0, 0, 0, 0, 1, 1, 0, 0, 0, 0, 0, 0, 0, 0, 0,\n",
       "       0, 0, 0, 0, 0, 0, 1, 1, 0, 1, 1, 1, 0, 0, 0, 0, 0, 1, 0, 1, 0, 0,\n",
       "       0, 0, 0, 1, 0, 0, 0, 0, 0, 0, 0, 0, 0, 0, 0, 0, 0, 0, 0, 0, 0, 0,\n",
       "       0, 0, 0, 0, 0, 0, 0, 0, 0, 0, 0, 0, 0, 0, 0, 0, 0, 0, 0, 0, 0, 0,\n",
       "       0, 0, 1, 0, 0, 0, 0, 0, 0, 0, 0, 0, 0, 0, 0, 0, 1, 0, 0, 0, 0, 0,\n",
       "       0, 1, 0, 1, 1, 1, 0, 0, 1, 0, 1, 0, 1, 1, 1, 1, 0, 1, 1, 0, 1, 1,\n",
       "       0, 1, 0, 1, 1, 1, 0, 1, 1, 1, 0, 1, 0, 0, 1, 0, 1, 1, 1, 0, 1, 0,\n",
       "       1, 1, 1, 1, 1, 1, 1, 0, 1, 1, 1, 1, 1, 0, 1, 1, 1, 1, 1, 1, 0, 1,\n",
       "       1, 0, 0, 0, 1, 0, 1, 1, 1, 1, 1, 1, 1, 1, 1, 1, 1, 1, 1, 1, 1, 1,\n",
       "       1, 1, 1, 1, 0, 0, 0, 0, 0, 1, 1, 1, 1, 1, 1, 1, 0, 1, 1, 1, 1, 0,\n",
       "       0, 1, 1, 1, 1, 0, 0, 0, 0, 0, 0, 0, 0, 0, 0, 0, 1, 0, 0, 0, 1, 1,\n",
       "       1, 1, 1, 0, 0, 1, 1, 1, 1, 1, 1, 0, 1, 0, 0, 0, 0, 1, 0, 1],\n",
       "      dtype=int64)"
      ]
     },
     "execution_count": 163,
     "metadata": {},
     "output_type": "execute_result"
    }
   ],
   "source": [
    "y_hc = ac.fit_predict(model_data_encoded)\n",
    "y_hc"
   ]
  },
  {
   "cell_type": "markdown",
   "id": "ff461da9-4219-4094-806d-c5b1d41cfaca",
   "metadata": {},
   "source": [
    "def plot_clusters(X,y_res, plt_cluster_centers = False):\n",
    "    X_centroids = []\n",
    "    Y_centroids = []\n",
    "\n",
    "    for cluster in set(y_res):\n",
    "        x = X[y_res == cluster,0]\n",
    "        y = X[y_res == cluster,1]\n",
    "        X_centroids.append(np.mean(x))\n",
    "        Y_centroids.append(np.mean(y))\n",
    "\n",
    "        plt.scatter(x,\n",
    "                    y,\n",
    "                    s=50,\n",
    "                    marker='s',\n",
    "                    label=f'cluster {cluster}')\n",
    "\n",
    "    if plt_cluster_centers:\n",
    "        plt.scatter(X_centroids,\n",
    "                    Y_centroids,\n",
    "                    marker='*',\n",
    "                    c='red',\n",
    "                    s=250,\n",
    "                    label='centroids')\n",
    "    plt.legend()\n",
    "    plt.grid()\n",
    "    plt.show()"
   ]
  },
  {
   "cell_type": "markdown",
   "id": "0b987973-d156-48e6-84a6-b4c6e11b011c",
   "metadata": {
    "tags": []
   },
   "source": [
    "plot_clusters(model_data_encoded.values,y_hc)"
   ]
  },
  {
   "cell_type": "code",
   "execution_count": 164,
   "id": "7e64c8c1-89b4-4508-8e83-74e862c73a37",
   "metadata": {},
   "outputs": [
    {
     "data": {
      "text/plain": [
       "0.2805707515842388"
      ]
     },
     "execution_count": 164,
     "metadata": {},
     "output_type": "execute_result"
    }
   ],
   "source": [
    "metrics.silhouette_score(model_data_encoded, y_hc, metric='euclidean')"
   ]
  },
  {
   "cell_type": "code",
   "execution_count": null,
   "id": "189eec5a-e52b-4299-83c8-06ac2d7f81bd",
   "metadata": {},
   "outputs": [],
   "source": []
  },
  {
   "cell_type": "code",
   "execution_count": 165,
   "id": "fa62c871-90d0-4a57-95eb-93fff47a38c4",
   "metadata": {},
   "outputs": [
    {
     "name": "stdout",
     "output_type": "stream",
     "text": [
      "[1 1 1 1 1 0 0 1 0 0 1 0 0 0 0 0 0 0 1 0 0 0 1 0 1 0 1 1 1 1 0 0 0 0 0 0 1\n",
      " 0 0 1 1 0 1 0 0 1 0 0 0 0 0 0 0 0 0 0 1 0 0 0 0 0 0 0 0 0 0 0 0 0 0 0 1 1\n",
      " 0 1 1 1 0 0 0 0 1 1 0 1 0 0 0 0 0 1 0 0 1 0 0 0 0 0 0 0 0 0 0 0 0 0 0 0 0\n",
      " 0 0 0 0 0 0 0 0 0 0 0 0 0 0 0 0 0 0 0 0 0 0 0 0 0 0 0 0 0 0 0 0 0 0 0 0 0\n",
      " 0 0 0 0 0 0 0 1 0 1 0 0 0 0 0 0 1 1 1 1 1 1 0 1 1 0 1 1 1 1 0 1 0 0 1 1 0\n",
      " 1 0 1 1 0 1 0 1 1 1 0 0 0 1 1 1 0 1 1 1 0 1 1 1 1 1 0 1 1 1 1 1 1 0 1 0 0\n",
      " 0 0 1 0 1 1 1 1 1 1 1 0 1 1 1 1 1 1 1 1 1 1 1 1 0 0 0 0 0 1 1 1 1 1 1 1 0\n",
      " 1 1 1 0 0 0 1 1 1 0 0 0 0 0 0 0 0 0 0 0 0 0 0 0 0 1 1 1 1 1 0 0 1 1 1 1 1\n",
      " 1 0 0 0 0 0 0 1 0 1]\n"
     ]
    }
   ],
   "source": [
    "#Initialize the class object\n",
    "hierarch = AgglomerativeClustering(affinity='euclidean',\n",
    "                             linkage='ward',\n",
    "                             n_clusters = 2)\n",
    " \n",
    "#predict the labels of clusters.\n",
    "label_hierarch = hierarch.fit_predict(df)\n",
    " \n",
    "print(label_hierarch)"
   ]
  },
  {
   "cell_type": "code",
   "execution_count": 166,
   "id": "b2b9a7e9-54ab-466f-8918-09cb77e2988f",
   "metadata": {},
   "outputs": [
    {
     "data": {
      "text/plain": [
       "0.28361569212358034"
      ]
     },
     "execution_count": 166,
     "metadata": {},
     "output_type": "execute_result"
    }
   ],
   "source": [
    "metrics.silhouette_score(model_data_encoded, label_hierarch, metric='euclidean') #Same result with and without PCA\n"
   ]
  },
  {
   "cell_type": "code",
   "execution_count": 167,
   "id": "f0054635-a28d-44f1-8ca8-5ee55855ea1a",
   "metadata": {},
   "outputs": [
    {
     "data": {
      "image/png": "[encoded data removed]",
      "text/plain": [
       "<Figure size 1200x800 with 1 Axes>"
      ]
     },
     "metadata": {},
     "output_type": "display_data"
    }
   ],
   "source": [
    "#filter rows of original data\n",
    "filtered_label0_hierarch = df[label == 0]\n",
    " \n",
    "#plotting the results\n",
    "plt.scatter(filtered_label0_hierarch[:,0] , filtered_label0_hierarch[:,1])\n",
    "plt.show()"
   ]
  },
  {
   "cell_type": "code",
   "execution_count": 168,
   "id": "308a8525-6c9e-4e1e-95a1-e08c62108414",
   "metadata": {},
   "outputs": [
    {
     "data": {
      "image/png": "[encoded data removed]",
      "text/plain": [
       "<Figure size 1200x800 with 1 Axes>"
      ]
     },
     "metadata": {},
     "output_type": "display_data"
    }
   ],
   "source": [
    "#filter rows of original data\n",
    "\n",
    " \n",
    "filtered_label1_hierarch = df[label_hierarch == 1]\n",
    " \n",
    "#Plotting the results\n",
    "plt.scatter(filtered_label0_hierarch[:,0] , filtered_label0_hierarch[:,1] , color = 'red')\n",
    "plt.scatter(filtered_label1_hierarch[:,0] , filtered_label1_hierarch[:,1] , color = 'black')\n",
    "plt.show()"
   ]
  },
  {
   "cell_type": "code",
   "execution_count": 169,
   "id": "3615c28a-82f7-4e6c-849f-6dfc6ed471c3",
   "metadata": {},
   "outputs": [
    {
     "data": {
      "image/png": "[encoded data removed]",
      "text/plain": [
       "<Figure size 1200x800 with 1 Axes>"
      ]
     },
     "metadata": {},
     "output_type": "display_data"
    }
   ],
   "source": [
    "#Getting unique labels\n",
    " \n",
    "u_labels = np.unique(label_hierarch)\n",
    " \n",
    "#plotting the results:\n",
    " \n",
    "for i in u_labels:\n",
    "    plt.scatter(df[label == i , 0] , df[label == i , 1] , label = i)\n",
    "plt.legend()\n",
    "plt.show()"
   ]
  },
  {
   "cell_type": "code",
   "execution_count": 170,
   "id": "69654317-c58d-46c1-a380-9d2588f82c33",
   "metadata": {},
   "outputs": [],
   "source": [
    "#DBScan"
   ]
  },
  {
   "cell_type": "code",
   "execution_count": 171,
   "id": "7740a38b-de4e-4702-9002-fafe13a85683",
   "metadata": {},
   "outputs": [],
   "source": [
    "from sklearn.datasets import make_moons\n",
    "\n",
    "# import DBSCAN\n",
    "from sklearn.cluster import DBSCAN"
   ]
  },
  {
   "cell_type": "code",
   "execution_count": 172,
   "id": "0c1ec679-18fa-4841-bdc8-1aad5a4d0129",
   "metadata": {},
   "outputs": [],
   "source": [
    "db = DBSCAN(eps=0.5,\n",
    "            min_samples=5,\n",
    "            metric='euclidean')"
   ]
  },
  {
   "cell_type": "code",
   "execution_count": 173,
   "id": "252c06f2-dc09-486b-a475-68b0248493c8",
   "metadata": {},
   "outputs": [],
   "source": [
    "y_db = db.fit_predict(X)"
   ]
  },
  {
   "cell_type": "code",
   "execution_count": 174,
   "id": "a7d22688-31b4-4aec-bd0e-357f526c2b3a",
   "metadata": {},
   "outputs": [
    {
     "data": {
      "text/plain": [
       "(306, 31)"
      ]
     },
     "execution_count": 174,
     "metadata": {},
     "output_type": "execute_result"
    }
   ],
   "source": [
    "X.shape"
   ]
  },
  {
   "cell_type": "code",
   "execution_count": 175,
   "id": "60f6c056-be8c-4fac-8675-37176a015016",
   "metadata": {},
   "outputs": [
    {
     "data": {
      "image/png": "[encoded data removed]",
      "text/plain": [
       "<Figure size 1200x800 with 1 Axes>"
      ]
     },
     "metadata": {},
     "output_type": "display_data"
    }
   ],
   "source": [
    "plot_clusters(X.values,y_db)"
   ]
  },
  {
   "cell_type": "code",
   "execution_count": 176,
   "id": "bbff0d1e-fdb7-4e66-982d-b634594efe9c",
   "metadata": {},
   "outputs": [
    {
     "data": {
      "text/plain": [
       "0.47233039986893344"
      ]
     },
     "execution_count": 176,
     "metadata": {},
     "output_type": "execute_result"
    }
   ],
   "source": [
    "#Evaluation of DBScan - better than Kmeans. Take it to final clusters\n",
    "labels = db.labels_\n",
    "metrics.silhouette_score(model_data_encoded, labels, metric='euclidean')"
   ]
  },
  {
   "cell_type": "code",
   "execution_count": 177,
   "id": "270af085-4802-4354-83d4-627ccba61e2b",
   "metadata": {},
   "outputs": [
    {
     "data": {
      "text/plain": [
       "{-1, 0, 1, 2, 3, 4, 5, 6, 7, 8, 9, 10}"
      ]
     },
     "execution_count": 177,
     "metadata": {},
     "output_type": "execute_result"
    }
   ],
   "source": [
    "set(db.labels_) #too many clusters and some of them are noise"
   ]
  },
  {
   "cell_type": "code",
   "execution_count": null,
   "id": "12967a42-0bbf-4b61-83ff-a479dc194240",
   "metadata": {},
   "outputs": [],
   "source": []
  },
  {
   "cell_type": "code",
   "execution_count": 178,
   "id": "72e76ad0-6c76-499c-93ca-142fc05c1eb2",
   "metadata": {},
   "outputs": [
    {
     "data": {
      "text/html": [
       "<div>\n",
       "<style scoped>\n",
       "    .dataframe tbody tr th:only-of-type {\n",
       "        vertical-align: middle;\n",
       "    }\n",
       "\n",
       "    .dataframe tbody tr th {\n",
       "        vertical-align: top;\n",
       "    }\n",
       "\n",
       "    .dataframe thead th {\n",
       "        text-align: right;\n",
       "    }\n",
       "</style>\n",
       "<table border=\"1\" class=\"dataframe\">\n",
       "  <thead>\n",
       "    <tr style=\"text-align: right;\">\n",
       "      <th></th>\n",
       "      <th>data_index</th>\n",
       "      <th>cluster</th>\n",
       "    </tr>\n",
       "  </thead>\n",
       "  <tbody>\n",
       "    <tr>\n",
       "      <th>0</th>\n",
       "      <td>0</td>\n",
       "      <td>1</td>\n",
       "    </tr>\n",
       "    <tr>\n",
       "      <th>1</th>\n",
       "      <td>1</td>\n",
       "      <td>1</td>\n",
       "    </tr>\n",
       "    <tr>\n",
       "      <th>2</th>\n",
       "      <td>2</td>\n",
       "      <td>1</td>\n",
       "    </tr>\n",
       "    <tr>\n",
       "      <th>3</th>\n",
       "      <td>3</td>\n",
       "      <td>1</td>\n",
       "    </tr>\n",
       "    <tr>\n",
       "      <th>4</th>\n",
       "      <td>4</td>\n",
       "      <td>1</td>\n",
       "    </tr>\n",
       "    <tr>\n",
       "      <th>...</th>\n",
       "      <td>...</td>\n",
       "      <td>...</td>\n",
       "    </tr>\n",
       "    <tr>\n",
       "      <th>301</th>\n",
       "      <td>301</td>\n",
       "      <td>0</td>\n",
       "    </tr>\n",
       "    <tr>\n",
       "      <th>302</th>\n",
       "      <td>302</td>\n",
       "      <td>1</td>\n",
       "    </tr>\n",
       "    <tr>\n",
       "      <th>303</th>\n",
       "      <td>303</td>\n",
       "      <td>1</td>\n",
       "    </tr>\n",
       "    <tr>\n",
       "      <th>304</th>\n",
       "      <td>304</td>\n",
       "      <td>1</td>\n",
       "    </tr>\n",
       "    <tr>\n",
       "      <th>305</th>\n",
       "      <td>305</td>\n",
       "      <td>1</td>\n",
       "    </tr>\n",
       "  </tbody>\n",
       "</table>\n",
       "<p>306 rows × 2 columns</p>\n",
       "</div>"
      ],
      "text/plain": [
       "     data_index  cluster\n",
       "0             0        1\n",
       "1             1        1\n",
       "2             2        1\n",
       "3             3        1\n",
       "4             4        1\n",
       "..          ...      ...\n",
       "301         301        0\n",
       "302         302        1\n",
       "303         303        1\n",
       "304         304        1\n",
       "305         305        1\n",
       "\n",
       "[306 rows x 2 columns]"
      ]
     },
     "execution_count": 178,
     "metadata": {},
     "output_type": "execute_result"
    }
   ],
   "source": [
    "#Get Clusters for each observation\n",
    "cluster_map = pd.DataFrame()\n",
    "cluster_map['data_index'] = model_data_encoded.index.values\n",
    "cluster_map['cluster'] = km.labels_\n",
    "\n",
    "cluster_map"
   ]
  },
  {
   "cell_type": "code",
   "execution_count": 179,
   "id": "8999429e-78c6-4270-960c-31010767ee13",
   "metadata": {},
   "outputs": [],
   "source": [
    "num_features['Cluster']=cluster_map['cluster']"
   ]
  },
  {
   "cell_type": "code",
   "execution_count": 180,
   "id": "afc9cb40-58a3-410a-9815-1a4353485569",
   "metadata": {},
   "outputs": [],
   "source": [
    "working_dataframe['Cluster']=cluster_map['cluster']"
   ]
  },
  {
   "cell_type": "code",
   "execution_count": 181,
   "id": "b9881b5b-5de9-4d82-b3fa-c2eb47ddba44",
   "metadata": {},
   "outputs": [],
   "source": [
    "#Save to file\n",
    "working_dataframe.to_csv('NYC_clusters_Restaurants_2.csv', index=False)"
   ]
  },
  {
   "cell_type": "code",
   "execution_count": 182,
   "id": "2022521a-b112-4143-b14d-b088ab127418",
   "metadata": {},
   "outputs": [
    {
     "data": {
      "text/html": [
       "<div>\n",
       "<style scoped>\n",
       "    .dataframe tbody tr th:only-of-type {\n",
       "        vertical-align: middle;\n",
       "    }\n",
       "\n",
       "    .dataframe tbody tr th {\n",
       "        vertical-align: top;\n",
       "    }\n",
       "\n",
       "    .dataframe thead th {\n",
       "        text-align: right;\n",
       "    }\n",
       "</style>\n",
       "<table border=\"1\" class=\"dataframe\">\n",
       "  <thead>\n",
       "    <tr style=\"text-align: right;\">\n",
       "      <th></th>\n",
       "      <th>Number_of_Restaurants</th>\n",
       "      <th>Cluster</th>\n",
       "    </tr>\n",
       "  </thead>\n",
       "  <tbody>\n",
       "    <tr>\n",
       "      <th>0</th>\n",
       "      <td>5</td>\n",
       "      <td>1</td>\n",
       "    </tr>\n",
       "    <tr>\n",
       "      <th>1</th>\n",
       "      <td>4</td>\n",
       "      <td>1</td>\n",
       "    </tr>\n",
       "    <tr>\n",
       "      <th>2</th>\n",
       "      <td>10</td>\n",
       "      <td>1</td>\n",
       "    </tr>\n",
       "    <tr>\n",
       "      <th>3</th>\n",
       "      <td>3</td>\n",
       "      <td>1</td>\n",
       "    </tr>\n",
       "    <tr>\n",
       "      <th>4</th>\n",
       "      <td>10</td>\n",
       "      <td>1</td>\n",
       "    </tr>\n",
       "    <tr>\n",
       "      <th>...</th>\n",
       "      <td>...</td>\n",
       "      <td>...</td>\n",
       "    </tr>\n",
       "    <tr>\n",
       "      <th>301</th>\n",
       "      <td>61</td>\n",
       "      <td>0</td>\n",
       "    </tr>\n",
       "    <tr>\n",
       "      <th>302</th>\n",
       "      <td>33</td>\n",
       "      <td>1</td>\n",
       "    </tr>\n",
       "    <tr>\n",
       "      <th>303</th>\n",
       "      <td>0</td>\n",
       "      <td>1</td>\n",
       "    </tr>\n",
       "    <tr>\n",
       "      <th>304</th>\n",
       "      <td>31</td>\n",
       "      <td>1</td>\n",
       "    </tr>\n",
       "    <tr>\n",
       "      <th>305</th>\n",
       "      <td>2</td>\n",
       "      <td>1</td>\n",
       "    </tr>\n",
       "  </tbody>\n",
       "</table>\n",
       "<p>306 rows × 2 columns</p>\n",
       "</div>"
      ],
      "text/plain": [
       "     Number_of_Restaurants  Cluster\n",
       "0                        5        1\n",
       "1                        4        1\n",
       "2                       10        1\n",
       "3                        3        1\n",
       "4                       10        1\n",
       "..                     ...      ...\n",
       "301                     61        0\n",
       "302                     33        1\n",
       "303                      0        1\n",
       "304                     31        1\n",
       "305                      2        1\n",
       "\n",
       "[306 rows x 2 columns]"
      ]
     },
     "execution_count": 182,
     "metadata": {},
     "output_type": "execute_result"
    }
   ],
   "source": [
    "#This is the DataFrame for discriptive cluster analysis\n",
    "num_features"
   ]
  },
  {
   "cell_type": "code",
   "execution_count": 1,
   "id": "50edca78-007f-4283-ab47-36f0d0750325",
   "metadata": {
    "tags": []
   },
   "outputs": [
    {
     "ename": "NameError",
     "evalue": "name 'pd' is not defined",
     "output_type": "error",
     "traceback": [
      "\u001b[1;31m---------------------------------------------------------------------------\u001b[0m",
      "\u001b[1;31mNameError\u001b[0m                                 Traceback (most recent call last)",
      "\u001b[1;32m<ipython-input-1-cc365e27e5ac>\u001b[0m in \u001b[0;36m<module>\u001b[1;34m\u001b[0m\n\u001b[0;32m      1\u001b[0m \u001b[1;31m#Save 12 clusters with DBScan as is has good score\u001b[0m\u001b[1;33m\u001b[0m\u001b[1;33m\u001b[0m\u001b[1;33m\u001b[0m\u001b[0m\n\u001b[1;32m----> 2\u001b[1;33m \u001b[0mcluster_map_db\u001b[0m \u001b[1;33m=\u001b[0m \u001b[0mpd\u001b[0m\u001b[1;33m.\u001b[0m\u001b[0mDataFrame\u001b[0m\u001b[1;33m(\u001b[0m\u001b[1;33m)\u001b[0m\u001b[1;33m\u001b[0m\u001b[1;33m\u001b[0m\u001b[0m\n\u001b[0m\u001b[0;32m      3\u001b[0m \u001b[0mcluster_map_db\u001b[0m\u001b[1;33m[\u001b[0m\u001b[1;34m'data_index'\u001b[0m\u001b[1;33m]\u001b[0m \u001b[1;33m=\u001b[0m \u001b[0mmodel_data_encoded\u001b[0m\u001b[1;33m.\u001b[0m\u001b[0mindex\u001b[0m\u001b[1;33m.\u001b[0m\u001b[0mvalues\u001b[0m\u001b[1;33m\u001b[0m\u001b[1;33m\u001b[0m\u001b[0m\n\u001b[0;32m      4\u001b[0m \u001b[0mcluster_map_db\u001b[0m\u001b[1;33m[\u001b[0m\u001b[1;34m'cluster'\u001b[0m\u001b[1;33m]\u001b[0m \u001b[1;33m=\u001b[0m \u001b[0mdb\u001b[0m\u001b[1;33m.\u001b[0m\u001b[0mlabels_\u001b[0m\u001b[1;33m\u001b[0m\u001b[1;33m\u001b[0m\u001b[0m\n\u001b[0;32m      5\u001b[0m \u001b[1;33m\u001b[0m\u001b[0m\n",
      "\u001b[1;31mNameError\u001b[0m: name 'pd' is not defined"
     ]
    }
   ],
   "source": [
    "#Save 12 clusters with DBScan as is has good score\n",
    "cluster_map_db = pd.DataFrame()\n",
    "cluster_map_db['data_index'] = model_data_encoded.index.values\n",
    "cluster_map_db['cluster'] = db.labels_\n",
    "\n",
    "cluster_map_db"
   ]
  },
  {
   "cell_type": "code",
   "execution_count": 184,
   "id": "06901a69-42c4-4c4e-a0f8-0ed084d4a732",
   "metadata": {},
   "outputs": [],
   "source": [
    "num_features['Cluster_db']=cluster_map_db['cluster']"
   ]
  },
  {
   "cell_type": "code",
   "execution_count": 185,
   "id": "62221944-3bd8-4b6d-9ce5-fbf78b504b9d",
   "metadata": {
    "tags": []
   },
   "outputs": [],
   "source": [
    "working_dataframe['Cluster_db']=cluster_map_db['cluster']"
   ]
  },
  {
   "cell_type": "code",
   "execution_count": 186,
   "id": "ec82617e-b488-49f6-b789-392f50019e30",
   "metadata": {},
   "outputs": [
    {
     "data": {
      "text/html": [
       "<div>\n",
       "<style scoped>\n",
       "    .dataframe tbody tr th:only-of-type {\n",
       "        vertical-align: middle;\n",
       "    }\n",
       "\n",
       "    .dataframe tbody tr th {\n",
       "        vertical-align: top;\n",
       "    }\n",
       "\n",
       "    .dataframe thead th {\n",
       "        text-align: right;\n",
       "    }\n",
       "</style>\n",
       "<table border=\"1\" class=\"dataframe\">\n",
       "  <thead>\n",
       "    <tr style=\"text-align: right;\">\n",
       "      <th></th>\n",
       "      <th>Borough</th>\n",
       "      <th>Neighborhood</th>\n",
       "      <th>Latitude</th>\n",
       "      <th>Longitude</th>\n",
       "      <th>Number_of_Restaurants</th>\n",
       "      <th>Top_Restaurant_Category</th>\n",
       "      <th>Number_of_HC_Facilities</th>\n",
       "      <th>Number_of_Banks</th>\n",
       "      <th>Number_of_Schools</th>\n",
       "      <th>Number_of_Bus_Stops</th>\n",
       "      <th>Number_of_Venues</th>\n",
       "      <th>Number_of_Events</th>\n",
       "      <th>Daily_uber_rides</th>\n",
       "      <th>Cluster</th>\n",
       "      <th>Cluster_db</th>\n",
       "    </tr>\n",
       "  </thead>\n",
       "  <tbody>\n",
       "    <tr>\n",
       "      <th>0</th>\n",
       "      <td>Bronx</td>\n",
       "      <td>Wakefield</td>\n",
       "      <td>40.894705</td>\n",
       "      <td>-73.847201</td>\n",
       "      <td>5</td>\n",
       "      <td>Sandwich Restaurant</td>\n",
       "      <td>7</td>\n",
       "      <td>2</td>\n",
       "      <td>9</td>\n",
       "      <td>0</td>\n",
       "      <td>69</td>\n",
       "      <td>0</td>\n",
       "      <td>0</td>\n",
       "      <td>1</td>\n",
       "      <td>0</td>\n",
       "    </tr>\n",
       "    <tr>\n",
       "      <th>1</th>\n",
       "      <td>Bronx</td>\n",
       "      <td>Co-op City</td>\n",
       "      <td>40.874294</td>\n",
       "      <td>-73.829939</td>\n",
       "      <td>4</td>\n",
       "      <td>Restaurant</td>\n",
       "      <td>4</td>\n",
       "      <td>0</td>\n",
       "      <td>3</td>\n",
       "      <td>2</td>\n",
       "      <td>35</td>\n",
       "      <td>0</td>\n",
       "      <td>0</td>\n",
       "      <td>1</td>\n",
       "      <td>1</td>\n",
       "    </tr>\n",
       "    <tr>\n",
       "      <th>2</th>\n",
       "      <td>Bronx</td>\n",
       "      <td>Eastchester</td>\n",
       "      <td>40.887556</td>\n",
       "      <td>-73.827806</td>\n",
       "      <td>10</td>\n",
       "      <td>Seafood Restaurant</td>\n",
       "      <td>1</td>\n",
       "      <td>1</td>\n",
       "      <td>3</td>\n",
       "      <td>4</td>\n",
       "      <td>42</td>\n",
       "      <td>0</td>\n",
       "      <td>0</td>\n",
       "      <td>1</td>\n",
       "      <td>2</td>\n",
       "    </tr>\n",
       "    <tr>\n",
       "      <th>3</th>\n",
       "      <td>Bronx</td>\n",
       "      <td>Fieldston</td>\n",
       "      <td>40.895437</td>\n",
       "      <td>-73.905643</td>\n",
       "      <td>3</td>\n",
       "      <td>Mexican Restaurant</td>\n",
       "      <td>4</td>\n",
       "      <td>0</td>\n",
       "      <td>4</td>\n",
       "      <td>1</td>\n",
       "      <td>32</td>\n",
       "      <td>0</td>\n",
       "      <td>0</td>\n",
       "      <td>1</td>\n",
       "      <td>-1</td>\n",
       "    </tr>\n",
       "    <tr>\n",
       "      <th>4</th>\n",
       "      <td>Bronx</td>\n",
       "      <td>Riverdale</td>\n",
       "      <td>40.890834</td>\n",
       "      <td>-73.912585</td>\n",
       "      <td>10</td>\n",
       "      <td>Seafood Restaurant</td>\n",
       "      <td>1</td>\n",
       "      <td>2</td>\n",
       "      <td>1</td>\n",
       "      <td>1</td>\n",
       "      <td>51</td>\n",
       "      <td>0</td>\n",
       "      <td>22</td>\n",
       "      <td>1</td>\n",
       "      <td>2</td>\n",
       "    </tr>\n",
       "    <tr>\n",
       "      <th>...</th>\n",
       "      <td>...</td>\n",
       "      <td>...</td>\n",
       "      <td>...</td>\n",
       "      <td>...</td>\n",
       "      <td>...</td>\n",
       "      <td>...</td>\n",
       "      <td>...</td>\n",
       "      <td>...</td>\n",
       "      <td>...</td>\n",
       "      <td>...</td>\n",
       "      <td>...</td>\n",
       "      <td>...</td>\n",
       "      <td>...</td>\n",
       "      <td>...</td>\n",
       "      <td>...</td>\n",
       "    </tr>\n",
       "    <tr>\n",
       "      <th>301</th>\n",
       "      <td>Manhattan</td>\n",
       "      <td>Hudson Yards</td>\n",
       "      <td>40.756658</td>\n",
       "      <td>-74.000111</td>\n",
       "      <td>61</td>\n",
       "      <td>Thai Restaurant</td>\n",
       "      <td>0</td>\n",
       "      <td>0</td>\n",
       "      <td>0</td>\n",
       "      <td>1</td>\n",
       "      <td>133</td>\n",
       "      <td>100</td>\n",
       "      <td>20</td>\n",
       "      <td>0</td>\n",
       "      <td>7</td>\n",
       "    </tr>\n",
       "    <tr>\n",
       "      <th>302</th>\n",
       "      <td>Queens</td>\n",
       "      <td>Hammels</td>\n",
       "      <td>40.587338</td>\n",
       "      <td>-73.805530</td>\n",
       "      <td>33</td>\n",
       "      <td>Seafood Restaurant</td>\n",
       "      <td>0</td>\n",
       "      <td>0</td>\n",
       "      <td>1</td>\n",
       "      <td>2</td>\n",
       "      <td>80</td>\n",
       "      <td>0</td>\n",
       "      <td>1615</td>\n",
       "      <td>1</td>\n",
       "      <td>2</td>\n",
       "    </tr>\n",
       "    <tr>\n",
       "      <th>303</th>\n",
       "      <td>Queens</td>\n",
       "      <td>Bayswater</td>\n",
       "      <td>40.611322</td>\n",
       "      <td>-73.765968</td>\n",
       "      <td>0</td>\n",
       "      <td>Vietnamese Restaurant</td>\n",
       "      <td>0</td>\n",
       "      <td>0</td>\n",
       "      <td>0</td>\n",
       "      <td>0</td>\n",
       "      <td>19</td>\n",
       "      <td>0</td>\n",
       "      <td>1</td>\n",
       "      <td>1</td>\n",
       "      <td>9</td>\n",
       "    </tr>\n",
       "    <tr>\n",
       "      <th>304</th>\n",
       "      <td>Queens</td>\n",
       "      <td>Queensbridge</td>\n",
       "      <td>40.756091</td>\n",
       "      <td>-73.945631</td>\n",
       "      <td>31</td>\n",
       "      <td>Spanish Restaurant</td>\n",
       "      <td>0</td>\n",
       "      <td>0</td>\n",
       "      <td>0</td>\n",
       "      <td>0</td>\n",
       "      <td>75</td>\n",
       "      <td>80</td>\n",
       "      <td>0</td>\n",
       "      <td>1</td>\n",
       "      <td>6</td>\n",
       "    </tr>\n",
       "    <tr>\n",
       "      <th>305</th>\n",
       "      <td>Staten Island</td>\n",
       "      <td>Fox Hills</td>\n",
       "      <td>40.617311</td>\n",
       "      <td>-74.081740</td>\n",
       "      <td>2</td>\n",
       "      <td>Sandwich Restaurant</td>\n",
       "      <td>1</td>\n",
       "      <td>0</td>\n",
       "      <td>1</td>\n",
       "      <td>1</td>\n",
       "      <td>7</td>\n",
       "      <td>0</td>\n",
       "      <td>53</td>\n",
       "      <td>1</td>\n",
       "      <td>0</td>\n",
       "    </tr>\n",
       "  </tbody>\n",
       "</table>\n",
       "<p>306 rows × 15 columns</p>\n",
       "</div>"
      ],
      "text/plain": [
       "           Borough  Neighborhood   Latitude  Longitude  Number_of_Restaurants  \\\n",
       "0            Bronx     Wakefield  40.894705 -73.847201                      5   \n",
       "1            Bronx    Co-op City  40.874294 -73.829939                      4   \n",
       "2            Bronx   Eastchester  40.887556 -73.827806                     10   \n",
       "3            Bronx     Fieldston  40.895437 -73.905643                      3   \n",
       "4            Bronx     Riverdale  40.890834 -73.912585                     10   \n",
       "..             ...           ...        ...        ...                    ...   \n",
       "301      Manhattan  Hudson Yards  40.756658 -74.000111                     61   \n",
       "302         Queens       Hammels  40.587338 -73.805530                     33   \n",
       "303         Queens     Bayswater  40.611322 -73.765968                      0   \n",
       "304         Queens  Queensbridge  40.756091 -73.945631                     31   \n",
       "305  Staten Island     Fox Hills  40.617311 -74.081740                      2   \n",
       "\n",
       "    Top_Restaurant_Category  Number_of_HC_Facilities  Number_of_Banks  \\\n",
       "0       Sandwich Restaurant                        7                2   \n",
       "1                Restaurant                        4                0   \n",
       "2        Seafood Restaurant                        1                1   \n",
       "3        Mexican Restaurant                        4                0   \n",
       "4        Seafood Restaurant                        1                2   \n",
       "..                      ...                      ...              ...   \n",
       "301         Thai Restaurant                        0                0   \n",
       "302      Seafood Restaurant                        0                0   \n",
       "303   Vietnamese Restaurant                        0                0   \n",
       "304      Spanish Restaurant                        0                0   \n",
       "305     Sandwich Restaurant                        1                0   \n",
       "\n",
       "     Number_of_Schools  Number_of_Bus_Stops  Number_of_Venues  \\\n",
       "0                    9                    0                69   \n",
       "1                    3                    2                35   \n",
       "2                    3                    4                42   \n",
       "3                    4                    1                32   \n",
       "4                    1                    1                51   \n",
       "..                 ...                  ...               ...   \n",
       "301                  0                    1               133   \n",
       "302                  1                    2                80   \n",
       "303                  0                    0                19   \n",
       "304                  0                    0                75   \n",
       "305                  1                    1                 7   \n",
       "\n",
       "     Number_of_Events  Daily_uber_rides  Cluster  Cluster_db  \n",
       "0                   0                 0        1           0  \n",
       "1                   0                 0        1           1  \n",
       "2                   0                 0        1           2  \n",
       "3                   0                 0        1          -1  \n",
       "4                   0                22        1           2  \n",
       "..                ...               ...      ...         ...  \n",
       "301               100                20        0           7  \n",
       "302                 0              1615        1           2  \n",
       "303                 0                 1        1           9  \n",
       "304                80                 0        1           6  \n",
       "305                 0                53        1           0  \n",
       "\n",
       "[306 rows x 15 columns]"
      ]
     },
     "execution_count": 186,
     "metadata": {},
     "output_type": "execute_result"
    }
   ],
   "source": [
    "working_dataframe"
   ]
  },
  {
   "cell_type": "code",
   "execution_count": 187,
   "id": "b2d2fb66-74b7-4671-a45d-afdc88eaa3d2",
   "metadata": {},
   "outputs": [],
   "source": [
    "working_dataframe.to_csv('NYC_clusters_Restaurants_12.csv', index=False)"
   ]
  },
  {
   "cell_type": "code",
   "execution_count": 189,
   "id": "13ba5cbd-c3d7-4ceb-ae62-03f46870174b",
   "metadata": {},
   "outputs": [],
   "source": [
    "temp=pd.read_csv('NYC_clusters_Restaurants_12.csv')"
   ]
  },
  {
   "cell_type": "code",
   "execution_count": 192,
   "id": "a52b3d6c-5a2c-43ae-bbd9-29ad09c58e98",
   "metadata": {},
   "outputs": [],
   "source": [
    "#Get rid of -1 from DBSCAN\n",
    "temp.loc[temp.Cluster_db==-1, 'Cluster_db']=11"
   ]
  },
  {
   "cell_type": "code",
   "execution_count": 193,
   "id": "1472faf8-a158-455e-a4ca-0adf45539430",
   "metadata": {},
   "outputs": [],
   "source": [
    "temp.to_csv('NYC_clusters_Restaurants_12.csv', index=False)"
   ]
  },
  {
   "cell_type": "code",
   "execution_count": 108,
   "id": "39d8bb77-c633-4b68-8ca1-f8398577119c",
   "metadata": {},
   "outputs": [],
   "source": [
    "df_cluster_0=num_features.loc[num_features.Cluster==0]"
   ]
  },
  {
   "cell_type": "code",
   "execution_count": 109,
   "id": "6bc55c80-04a2-452b-82b3-e3a3d39bfdd3",
   "metadata": {
    "tags": []
   },
   "outputs": [
    {
     "data": {
      "text/html": [
       "<div>\n",
       "<style scoped>\n",
       "    .dataframe tbody tr th:only-of-type {\n",
       "        vertical-align: middle;\n",
       "    }\n",
       "\n",
       "    .dataframe tbody tr th {\n",
       "        vertical-align: top;\n",
       "    }\n",
       "\n",
       "    .dataframe thead th {\n",
       "        text-align: right;\n",
       "    }\n",
       "</style>\n",
       "<table border=\"1\" class=\"dataframe\">\n",
       "  <thead>\n",
       "    <tr style=\"text-align: right;\">\n",
       "      <th></th>\n",
       "      <th>Number_of_Restaurants</th>\n",
       "      <th>Cluster</th>\n",
       "    </tr>\n",
       "  </thead>\n",
       "  <tbody>\n",
       "    <tr>\n",
       "      <th>count</th>\n",
       "      <td>118.000000</td>\n",
       "      <td>118.0</td>\n",
       "    </tr>\n",
       "    <tr>\n",
       "      <th>mean</th>\n",
       "      <td>57.135593</td>\n",
       "      <td>0.0</td>\n",
       "    </tr>\n",
       "    <tr>\n",
       "      <th>std</th>\n",
       "      <td>13.958372</td>\n",
       "      <td>0.0</td>\n",
       "    </tr>\n",
       "    <tr>\n",
       "      <th>min</th>\n",
       "      <td>37.000000</td>\n",
       "      <td>0.0</td>\n",
       "    </tr>\n",
       "    <tr>\n",
       "      <th>25%</th>\n",
       "      <td>45.000000</td>\n",
       "      <td>0.0</td>\n",
       "    </tr>\n",
       "    <tr>\n",
       "      <th>50%</th>\n",
       "      <td>54.000000</td>\n",
       "      <td>0.0</td>\n",
       "    </tr>\n",
       "    <tr>\n",
       "      <th>75%</th>\n",
       "      <td>70.000000</td>\n",
       "      <td>0.0</td>\n",
       "    </tr>\n",
       "    <tr>\n",
       "      <th>max</th>\n",
       "      <td>91.000000</td>\n",
       "      <td>0.0</td>\n",
       "    </tr>\n",
       "  </tbody>\n",
       "</table>\n",
       "</div>"
      ],
      "text/plain": [
       "       Number_of_Restaurants  Cluster\n",
       "count             118.000000    118.0\n",
       "mean               57.135593      0.0\n",
       "std                13.958372      0.0\n",
       "min                37.000000      0.0\n",
       "25%                45.000000      0.0\n",
       "50%                54.000000      0.0\n",
       "75%                70.000000      0.0\n",
       "max                91.000000      0.0"
      ]
     },
     "execution_count": 109,
     "metadata": {},
     "output_type": "execute_result"
    }
   ],
   "source": [
    "df_cluster_0.describe() "
   ]
  },
  {
   "cell_type": "code",
   "execution_count": 110,
   "id": "f92ab5ef-4e96-486b-8f91-8602c159dd01",
   "metadata": {
    "tags": []
   },
   "outputs": [
    {
     "data": {
      "text/html": [
       "<div>\n",
       "<style scoped>\n",
       "    .dataframe tbody tr th:only-of-type {\n",
       "        vertical-align: middle;\n",
       "    }\n",
       "\n",
       "    .dataframe tbody tr th {\n",
       "        vertical-align: top;\n",
       "    }\n",
       "\n",
       "    .dataframe thead th {\n",
       "        text-align: right;\n",
       "    }\n",
       "</style>\n",
       "<table border=\"1\" class=\"dataframe\">\n",
       "  <thead>\n",
       "    <tr style=\"text-align: right;\">\n",
       "      <th></th>\n",
       "      <th>Number_of_Restaurants</th>\n",
       "      <th>Cluster</th>\n",
       "    </tr>\n",
       "  </thead>\n",
       "  <tbody>\n",
       "    <tr>\n",
       "      <th>count</th>\n",
       "      <td>188.000000</td>\n",
       "      <td>188.0</td>\n",
       "    </tr>\n",
       "    <tr>\n",
       "      <th>mean</th>\n",
       "      <td>13.484043</td>\n",
       "      <td>1.0</td>\n",
       "    </tr>\n",
       "    <tr>\n",
       "      <th>std</th>\n",
       "      <td>11.641010</td>\n",
       "      <td>0.0</td>\n",
       "    </tr>\n",
       "    <tr>\n",
       "      <th>min</th>\n",
       "      <td>0.000000</td>\n",
       "      <td>1.0</td>\n",
       "    </tr>\n",
       "    <tr>\n",
       "      <th>25%</th>\n",
       "      <td>3.000000</td>\n",
       "      <td>1.0</td>\n",
       "    </tr>\n",
       "    <tr>\n",
       "      <th>50%</th>\n",
       "      <td>10.000000</td>\n",
       "      <td>1.0</td>\n",
       "    </tr>\n",
       "    <tr>\n",
       "      <th>75%</th>\n",
       "      <td>23.000000</td>\n",
       "      <td>1.0</td>\n",
       "    </tr>\n",
       "    <tr>\n",
       "      <th>max</th>\n",
       "      <td>37.000000</td>\n",
       "      <td>1.0</td>\n",
       "    </tr>\n",
       "  </tbody>\n",
       "</table>\n",
       "</div>"
      ],
      "text/plain": [
       "       Number_of_Restaurants  Cluster\n",
       "count             188.000000    188.0\n",
       "mean               13.484043      1.0\n",
       "std                11.641010      0.0\n",
       "min                 0.000000      1.0\n",
       "25%                 3.000000      1.0\n",
       "50%                10.000000      1.0\n",
       "75%                23.000000      1.0\n",
       "max                37.000000      1.0"
      ]
     },
     "execution_count": 110,
     "metadata": {},
     "output_type": "execute_result"
    }
   ],
   "source": [
    "df_cluster_1=num_features.loc[num_features.Cluster==1]\n",
    "df_cluster_1.describe()"
   ]
  }
 ],
 "metadata": {
  "kernelspec": {
   "display_name": "Python 3",
   "language": "python",
   "name": "python3"
  },
  "language_info": {
   "codemirror_mode": {
    "name": "ipython",
    "version": 3
   },
   "file_extension": ".py",
   "mimetype": "text/x-python",
   "name": "python",
   "nbconvert_exporter": "python",
   "pygments_lexer": "ipython3",
   "version": "3.8.11"
  }
 },
 "nbformat": 4,
 "nbformat_minor": 5
}
